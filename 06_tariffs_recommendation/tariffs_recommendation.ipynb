{
 "cells": [
  {
   "cell_type": "markdown",
   "metadata": {
    "toc": true
   },
   "source": [
    "<h1>Содержание<span class=\"tocSkip\"></span></h1>\n",
    "<div class=\"toc\"><ul class=\"toc-item\"><li><span><a href=\"#Обзор-данных\" data-toc-modified-id=\"Обзор-данных-1\"><span class=\"toc-item-num\">1&nbsp;&nbsp;</span>Обзор данных</a></span></li><li><span><a href=\"#Разделение-данных-на-выборки\" data-toc-modified-id=\"Разделение-данных-на-выборки-2\"><span class=\"toc-item-num\">2&nbsp;&nbsp;</span>Разделение данных на выборки</a></span></li><li><span><a href=\"#Исследование-моделей\" data-toc-modified-id=\"Исследование-моделей-3\"><span class=\"toc-item-num\">3&nbsp;&nbsp;</span>Исследование моделей</a></span></li><li><span><a href=\"#Проверка-модели-на-тестовой-выборке\" data-toc-modified-id=\"Проверка-модели-на-тестовой-выборке-4\"><span class=\"toc-item-num\">4&nbsp;&nbsp;</span>Проверка модели на тестовой выборке</a></span></li><li><span><a href=\"#Проверка-моделей-на-адекватность\" data-toc-modified-id=\"Проверка-моделей-на-адекватность-5\"><span class=\"toc-item-num\">5&nbsp;&nbsp;</span>Проверка моделей на адекватность</a></span></li><li><span><a href=\"#Общий-вывод\" data-toc-modified-id=\"Общий-вывод-6\"><span class=\"toc-item-num\">6&nbsp;&nbsp;</span>Общий вывод</a></span></li></ul></div>"
   ]
  },
  {
   "cell_type": "markdown",
   "metadata": {},
   "source": [
    "# Рекомендация тарифов"
   ]
  },
  {
   "cell_type": "markdown",
   "metadata": {},
   "source": [
    "Оператор мобильной связи «Мегалайн» выяснил: многие клиенты пользуются архивными тарифами. Они хотят построить систему, способную проанализировать поведение клиентов и предложить пользователям новый тариф: «Смарт» или «Ультра». В нашем распоряжении данные о поведении клиентов, которые уже перешли на эти тарифы.\n",
    "\n",
    "# Цель исследования\n",
    "\n",
    "Построить модель для задачи классификации, которая выберет подходящий тариф с максимально большим значением *accuracy* (не менее 0.75)."
   ]
  },
  {
   "cell_type": "markdown",
   "metadata": {},
   "source": [
    "# Описание данных\n",
    "- `сalls` — количество звонков\n",
    "- `minutes` — суммарная длительность звонков в минутах\n",
    "- `messages` — количество sms-сообщений\n",
    "- `mb_used` — израсходованный интернет-трафик в Мб\n",
    "- `is_ultra` — каким тарифом пользовался в течение месяца («Ультра» — 1, «Смарт» — 0).\n",
    "\n",
    "# Этапы исследования\n",
    "1. Обзор данных\n",
    "2. Разделение данных на выборки\n",
    "3. Исследование моделей\n",
    "4. Проверка модели на тестовой выборке\n",
    "5. Проверка моделей на адекватность"
   ]
  },
  {
   "cell_type": "markdown",
   "metadata": {},
   "source": [
    "## Обзор данных"
   ]
  },
  {
   "cell_type": "code",
   "execution_count": 1,
   "metadata": {},
   "outputs": [],
   "source": [
    "# импорируем необходимые библиотеки и функции\n",
    "\n",
    "import pandas as pd\n",
    "from sklearn.tree import DecisionTreeClassifier, plot_tree\n",
    "from sklearn.ensemble import RandomForestClassifier\n",
    "from sklearn.linear_model import LogisticRegression\n",
    "from sklearn.model_selection import train_test_split\n",
    "from sklearn.metrics import accuracy_score\n",
    "from sklearn.dummy import DummyClassifier\n",
    "import seaborn as sns\n",
    "import matplotlib.pyplot as plt"
   ]
  },
  {
   "cell_type": "code",
   "execution_count": 2,
   "metadata": {},
   "outputs": [],
   "source": [
    "# запишем данные в переменную df\n",
    "\n",
    "df = pd.read_csv('***')"
   ]
  },
  {
   "cell_type": "code",
   "execution_count": 3,
   "metadata": {},
   "outputs": [
    {
     "data": {
      "text/html": [
       "<div>\n",
       "<style scoped>\n",
       "    .dataframe tbody tr th:only-of-type {\n",
       "        vertical-align: middle;\n",
       "    }\n",
       "\n",
       "    .dataframe tbody tr th {\n",
       "        vertical-align: top;\n",
       "    }\n",
       "\n",
       "    .dataframe thead th {\n",
       "        text-align: right;\n",
       "    }\n",
       "</style>\n",
       "<table border=\"1\" class=\"dataframe\">\n",
       "  <thead>\n",
       "    <tr style=\"text-align: right;\">\n",
       "      <th></th>\n",
       "      <th>calls</th>\n",
       "      <th>minutes</th>\n",
       "      <th>messages</th>\n",
       "      <th>mb_used</th>\n",
       "      <th>is_ultra</th>\n",
       "    </tr>\n",
       "  </thead>\n",
       "  <tbody>\n",
       "    <tr>\n",
       "      <th>0</th>\n",
       "      <td>40.0</td>\n",
       "      <td>311.90</td>\n",
       "      <td>83.0</td>\n",
       "      <td>19915.42</td>\n",
       "      <td>0</td>\n",
       "    </tr>\n",
       "    <tr>\n",
       "      <th>1</th>\n",
       "      <td>85.0</td>\n",
       "      <td>516.75</td>\n",
       "      <td>56.0</td>\n",
       "      <td>22696.96</td>\n",
       "      <td>0</td>\n",
       "    </tr>\n",
       "    <tr>\n",
       "      <th>2</th>\n",
       "      <td>77.0</td>\n",
       "      <td>467.66</td>\n",
       "      <td>86.0</td>\n",
       "      <td>21060.45</td>\n",
       "      <td>0</td>\n",
       "    </tr>\n",
       "    <tr>\n",
       "      <th>3</th>\n",
       "      <td>106.0</td>\n",
       "      <td>745.53</td>\n",
       "      <td>81.0</td>\n",
       "      <td>8437.39</td>\n",
       "      <td>1</td>\n",
       "    </tr>\n",
       "    <tr>\n",
       "      <th>4</th>\n",
       "      <td>66.0</td>\n",
       "      <td>418.74</td>\n",
       "      <td>1.0</td>\n",
       "      <td>14502.75</td>\n",
       "      <td>0</td>\n",
       "    </tr>\n",
       "    <tr>\n",
       "      <th>5</th>\n",
       "      <td>58.0</td>\n",
       "      <td>344.56</td>\n",
       "      <td>21.0</td>\n",
       "      <td>15823.37</td>\n",
       "      <td>0</td>\n",
       "    </tr>\n",
       "    <tr>\n",
       "      <th>6</th>\n",
       "      <td>57.0</td>\n",
       "      <td>431.64</td>\n",
       "      <td>20.0</td>\n",
       "      <td>3738.90</td>\n",
       "      <td>1</td>\n",
       "    </tr>\n",
       "    <tr>\n",
       "      <th>7</th>\n",
       "      <td>15.0</td>\n",
       "      <td>132.40</td>\n",
       "      <td>6.0</td>\n",
       "      <td>21911.60</td>\n",
       "      <td>0</td>\n",
       "    </tr>\n",
       "    <tr>\n",
       "      <th>8</th>\n",
       "      <td>7.0</td>\n",
       "      <td>43.39</td>\n",
       "      <td>3.0</td>\n",
       "      <td>2538.67</td>\n",
       "      <td>1</td>\n",
       "    </tr>\n",
       "    <tr>\n",
       "      <th>9</th>\n",
       "      <td>90.0</td>\n",
       "      <td>665.41</td>\n",
       "      <td>38.0</td>\n",
       "      <td>17358.61</td>\n",
       "      <td>0</td>\n",
       "    </tr>\n",
       "  </tbody>\n",
       "</table>\n",
       "</div>"
      ],
      "text/plain": [
       "   calls  minutes  messages   mb_used  is_ultra\n",
       "0   40.0   311.90      83.0  19915.42         0\n",
       "1   85.0   516.75      56.0  22696.96         0\n",
       "2   77.0   467.66      86.0  21060.45         0\n",
       "3  106.0   745.53      81.0   8437.39         1\n",
       "4   66.0   418.74       1.0  14502.75         0\n",
       "5   58.0   344.56      21.0  15823.37         0\n",
       "6   57.0   431.64      20.0   3738.90         1\n",
       "7   15.0   132.40       6.0  21911.60         0\n",
       "8    7.0    43.39       3.0   2538.67         1\n",
       "9   90.0   665.41      38.0  17358.61         0"
      ]
     },
     "execution_count": 3,
     "metadata": {},
     "output_type": "execute_result"
    }
   ],
   "source": [
    "# посмотрим первые 10 строк df\n",
    "\n",
    "df.head(10)"
   ]
  },
  {
   "cell_type": "code",
   "execution_count": 4,
   "metadata": {},
   "outputs": [
    {
     "name": "stdout",
     "output_type": "stream",
     "text": [
      "<class 'pandas.core.frame.DataFrame'>\n",
      "RangeIndex: 3214 entries, 0 to 3213\n",
      "Data columns (total 5 columns):\n",
      " #   Column    Non-Null Count  Dtype  \n",
      "---  ------    --------------  -----  \n",
      " 0   calls     3214 non-null   float64\n",
      " 1   minutes   3214 non-null   float64\n",
      " 2   messages  3214 non-null   float64\n",
      " 3   mb_used   3214 non-null   float64\n",
      " 4   is_ultra  3214 non-null   int64  \n",
      "dtypes: float64(4), int64(1)\n",
      "memory usage: 125.7 KB\n"
     ]
    }
   ],
   "source": [
    "# взглянем на общую информацию о данных\n",
    "\n",
    "df.info()"
   ]
  },
  {
   "cell_type": "markdown",
   "metadata": {},
   "source": [
    "Пропусков нет. Типы данных корректные. "
   ]
  },
  {
   "cell_type": "code",
   "execution_count": 5,
   "metadata": {},
   "outputs": [
    {
     "data": {
      "text/html": [
       "<div>\n",
       "<style scoped>\n",
       "    .dataframe tbody tr th:only-of-type {\n",
       "        vertical-align: middle;\n",
       "    }\n",
       "\n",
       "    .dataframe tbody tr th {\n",
       "        vertical-align: top;\n",
       "    }\n",
       "\n",
       "    .dataframe thead th {\n",
       "        text-align: right;\n",
       "    }\n",
       "</style>\n",
       "<table border=\"1\" class=\"dataframe\">\n",
       "  <thead>\n",
       "    <tr style=\"text-align: right;\">\n",
       "      <th></th>\n",
       "      <th>calls</th>\n",
       "      <th>minutes</th>\n",
       "      <th>messages</th>\n",
       "      <th>mb_used</th>\n",
       "      <th>is_ultra</th>\n",
       "    </tr>\n",
       "  </thead>\n",
       "  <tbody>\n",
       "    <tr>\n",
       "      <th>count</th>\n",
       "      <td>3214.000000</td>\n",
       "      <td>3214.000000</td>\n",
       "      <td>3214.000000</td>\n",
       "      <td>3214.000000</td>\n",
       "      <td>3214.000000</td>\n",
       "    </tr>\n",
       "    <tr>\n",
       "      <th>mean</th>\n",
       "      <td>63.038892</td>\n",
       "      <td>438.208787</td>\n",
       "      <td>38.281269</td>\n",
       "      <td>17207.673836</td>\n",
       "      <td>0.306472</td>\n",
       "    </tr>\n",
       "    <tr>\n",
       "      <th>std</th>\n",
       "      <td>33.236368</td>\n",
       "      <td>234.569872</td>\n",
       "      <td>36.148326</td>\n",
       "      <td>7570.968246</td>\n",
       "      <td>0.461100</td>\n",
       "    </tr>\n",
       "    <tr>\n",
       "      <th>min</th>\n",
       "      <td>0.000000</td>\n",
       "      <td>0.000000</td>\n",
       "      <td>0.000000</td>\n",
       "      <td>0.000000</td>\n",
       "      <td>0.000000</td>\n",
       "    </tr>\n",
       "    <tr>\n",
       "      <th>25%</th>\n",
       "      <td>40.000000</td>\n",
       "      <td>274.575000</td>\n",
       "      <td>9.000000</td>\n",
       "      <td>12491.902500</td>\n",
       "      <td>0.000000</td>\n",
       "    </tr>\n",
       "    <tr>\n",
       "      <th>50%</th>\n",
       "      <td>62.000000</td>\n",
       "      <td>430.600000</td>\n",
       "      <td>30.000000</td>\n",
       "      <td>16943.235000</td>\n",
       "      <td>0.000000</td>\n",
       "    </tr>\n",
       "    <tr>\n",
       "      <th>75%</th>\n",
       "      <td>82.000000</td>\n",
       "      <td>571.927500</td>\n",
       "      <td>57.000000</td>\n",
       "      <td>21424.700000</td>\n",
       "      <td>1.000000</td>\n",
       "    </tr>\n",
       "    <tr>\n",
       "      <th>max</th>\n",
       "      <td>244.000000</td>\n",
       "      <td>1632.060000</td>\n",
       "      <td>224.000000</td>\n",
       "      <td>49745.730000</td>\n",
       "      <td>1.000000</td>\n",
       "    </tr>\n",
       "  </tbody>\n",
       "</table>\n",
       "</div>"
      ],
      "text/plain": [
       "             calls      minutes     messages       mb_used     is_ultra\n",
       "count  3214.000000  3214.000000  3214.000000   3214.000000  3214.000000\n",
       "mean     63.038892   438.208787    38.281269  17207.673836     0.306472\n",
       "std      33.236368   234.569872    36.148326   7570.968246     0.461100\n",
       "min       0.000000     0.000000     0.000000      0.000000     0.000000\n",
       "25%      40.000000   274.575000     9.000000  12491.902500     0.000000\n",
       "50%      62.000000   430.600000    30.000000  16943.235000     0.000000\n",
       "75%      82.000000   571.927500    57.000000  21424.700000     1.000000\n",
       "max     244.000000  1632.060000   224.000000  49745.730000     1.000000"
      ]
     },
     "execution_count": 5,
     "metadata": {},
     "output_type": "execute_result"
    }
   ],
   "source": [
    "# посмотрим описание данных\n",
    "\n",
    "df.describe()"
   ]
  },
  {
   "cell_type": "code",
   "execution_count": 6,
   "metadata": {},
   "outputs": [
    {
     "data": {
      "text/plain": [
       "0    2229\n",
       "1     985\n",
       "Name: is_ultra, dtype: int64"
      ]
     },
     "execution_count": 6,
     "metadata": {},
     "output_type": "execute_result"
    }
   ],
   "source": [
    "# посмотрим на сбалансированность классов в данных\n",
    "\n",
    "df['is_ultra'].value_counts()"
   ]
  },
  {
   "cell_type": "code",
   "execution_count": 7,
   "metadata": {},
   "outputs": [
    {
     "data": {
      "text/plain": [
       "2.2629441624365483"
      ]
     },
     "execution_count": 7,
     "metadata": {},
     "output_type": "execute_result"
    }
   ],
   "source": [
    "# посчитаем соотношение классов\n",
    "\n",
    "2229/985"
   ]
  },
  {
   "cell_type": "code",
   "execution_count": 8,
   "metadata": {},
   "outputs": [
    {
     "data": {
      "text/plain": [
       "0.693528313627878"
      ]
     },
     "execution_count": 8,
     "metadata": {},
     "output_type": "execute_result"
    }
   ],
   "source": [
    "# посчитаем долю пользователей «Смарт»\n",
    "\n",
    "2229/(2229+985)"
   ]
  },
  {
   "cell_type": "markdown",
   "metadata": {},
   "source": [
    "Пользователей «Смарт» почти 70%. Если мы отметим в исходных данных всех как пользователей «Смарт», то в почти в 70% случаев будем правы. Классы несбалансированы."
   ]
  },
  {
   "cell_type": "code",
   "execution_count": 9,
   "metadata": {},
   "outputs": [
    {
     "data": {
      "image/png": "[encoded data removed]",
      "text/plain": [
       "<Figure size 432x288 with 2 Axes>"
      ]
     },
     "metadata": {
      "needs_background": "light"
     },
     "output_type": "display_data"
    }
   ],
   "source": [
    "# взглянем на корреляцию признаков\n",
    "\n",
    "sns.heatmap(df.corr(), annot=True);"
   ]
  },
  {
   "cell_type": "markdown",
   "metadata": {},
   "source": [
    "Видно, что число звонков и суммарная длительность звонков в минутах очень сильно положительно связаны (0,98). По остальным признакам связи не видно."
   ]
  },
  {
   "cell_type": "markdown",
   "metadata": {},
   "source": [
    "**Вывод**\n",
    "\n",
    "Данные выглядят хорошо. Пропусков и нерелевантных типов данных нет. Число звонков сильно связаны с минутами (0,98). Классы несбалансированы (70% пользователей «Смарт»)."
   ]
  },
  {
   "cell_type": "markdown",
   "metadata": {},
   "source": [
    "## Разделение данных на выборки"
   ]
  },
  {
   "cell_type": "markdown",
   "metadata": {},
   "source": [
    "Разделим данные на обучающую, валидационную и тестовую выборки в классическом соотношении 3:1:1."
   ]
  },
  {
   "cell_type": "code",
   "execution_count": 10,
   "metadata": {},
   "outputs": [],
   "source": [
    "# сначала делим на тренировочную и тестовую\n",
    "\n",
    "df_train, df_test = train_test_split(df, test_size=0.4, random_state=12345, stratify=df['is_ultra'])"
   ]
  },
  {
   "cell_type": "code",
   "execution_count": 11,
   "metadata": {},
   "outputs": [
    {
     "data": {
      "text/plain": [
       "((1928, 5), (1286, 5))"
      ]
     },
     "execution_count": 11,
     "metadata": {},
     "output_type": "execute_result"
    }
   ],
   "source": [
    "df_train.shape, df_test.shape"
   ]
  },
  {
   "cell_type": "code",
   "execution_count": 12,
   "metadata": {},
   "outputs": [],
   "source": [
    "# тестовую делим на тестовую и валидационную\n",
    "\n",
    "df_test, df_valid = train_test_split(df_test, test_size=0.5, random_state=12345, stratify=df_test['is_ultra'])"
   ]
  },
  {
   "cell_type": "code",
   "execution_count": 13,
   "metadata": {},
   "outputs": [
    {
     "data": {
      "text/plain": [
       "((643, 5), (643, 5))"
      ]
     },
     "execution_count": 13,
     "metadata": {},
     "output_type": "execute_result"
    }
   ],
   "source": [
    "df_test.shape, df_valid.shape"
   ]
  },
  {
   "cell_type": "code",
   "execution_count": 14,
   "metadata": {},
   "outputs": [],
   "source": [
    "# обучающую детим на признаки и целевой признак\n",
    "\n",
    "features_train = df_train.drop('is_ultra', axis=1)\n",
    "target_train = df_train['is_ultra']"
   ]
  },
  {
   "cell_type": "code",
   "execution_count": 15,
   "metadata": {},
   "outputs": [],
   "source": [
    "# валидационную детим на признаки и целевой признак\n",
    "\n",
    "features_valid = df_valid.drop('is_ultra', axis=1)\n",
    "target_valid = df_valid['is_ultra']"
   ]
  },
  {
   "cell_type": "code",
   "execution_count": 16,
   "metadata": {},
   "outputs": [],
   "source": [
    "# тестовую детим на признаки и целевой признак\n",
    "\n",
    "features_test = df_test.drop('is_ultra', axis=1)\n",
    "target_test = df_test['is_ultra']"
   ]
  },
  {
   "cell_type": "markdown",
   "metadata": {},
   "source": [
    "**Вывод**\n",
    "\n",
    "Исходные данные разделены на обучающую, валидационную и тестовую выборки в соотношении 3:1:1."
   ]
  },
  {
   "cell_type": "markdown",
   "metadata": {},
   "source": [
    "## Исследование моделей"
   ]
  },
  {
   "cell_type": "markdown",
   "metadata": {},
   "source": [
    "По очереди исследуем модели классификации: дерево решений, случайный лес и логистическую регрессию. Выявим лучшую модель и лушие гиперпараметры.\n",
    "\n",
    "**Дерево решений**"
   ]
  },
  {
   "cell_type": "code",
   "execution_count": 17,
   "metadata": {},
   "outputs": [],
   "source": [
    "best_model_dt = None\n",
    "best_score = 0\n",
    "best_depth = 0"
   ]
  },
  {
   "cell_type": "code",
   "execution_count": 18,
   "metadata": {},
   "outputs": [
    {
     "name": "stdout",
     "output_type": "stream",
     "text": [
      "Accuracy лучшей модели на валидационной выборке: 0.8118195956454122\n",
      "Глубина лучшей модели на валидационной выборке: 5\n"
     ]
    }
   ],
   "source": [
    "depth_list = []\n",
    "train_score_list = []\n",
    "valid_score_list = []\n",
    "\n",
    "for max_depth in range(1, 11):\n",
    "    model = DecisionTreeClassifier(max_depth=max_depth, \\\n",
    "                                    random_state=12345)\n",
    "    model.fit(features_train, target_train)\n",
    "    predictions = model.predict(features_valid)\n",
    "    accuracy = accuracy_score(target_valid, predictions)\n",
    "    accuracy_train = accuracy_score(target_train, model.predict(features_train))\n",
    "    depth_list.append(max_depth)\n",
    "    valid_score_list.append(accuracy)\n",
    "    train_score_list.append(accuracy_train)\n",
    "    if accuracy > best_score:\n",
    "        best_model_dt = model\n",
    "        best_score = accuracy\n",
    "        best_depth = max_depth\n",
    "print('Accuracy лучшей модели на валидационной выборке:', best_score)\n",
    "print('Глубина лучшей модели на валидационной выборке:', best_depth)"
   ]
  },
  {
   "cell_type": "code",
   "execution_count": 19,
   "metadata": {},
   "outputs": [
    {
     "data": {
      "image/png": "[encoded data removed]",
      "text/plain": [
       "<Figure size 576x360 with 1 Axes>"
      ]
     },
     "metadata": {
      "needs_background": "light"
     },
     "output_type": "display_data"
    }
   ],
   "source": [
    "# простроим график зависимости точности от глубины \n",
    "# на тренировочной и валидационной выборках\n",
    "\n",
    "fig, ax = plt.subplots()\n",
    "ax.plot(depth_list, train_score_list, label = 'train_score')\n",
    "ax.plot(depth_list, valid_score_list, label = 'valid_score')\n",
    "ax.legend()\n",
    "fig.set_figheight(5)\n",
    "fig.set_figwidth(8)\n",
    "plt.title('Зависимость точности от глубины на тренировочной и валидационной выборках')\n",
    "plt.show();"
   ]
  },
  {
   "cell_type": "code",
   "execution_count": 20,
   "metadata": {},
   "outputs": [
    {
     "data": {
      "image/png": "[encoded data removed]",
      "text/plain": [
       "<Figure size 432x288 with 1 Axes>"
      ]
     },
     "metadata": {
      "needs_background": "light"
     },
     "output_type": "display_data"
    }
   ],
   "source": [
    "# проследим ход мысли модели на первых 2-х уровнях\n",
    "\n",
    "plot_tree(best_model_dt, max_depth=2, fontsize=8);"
   ]
  },
  {
   "cell_type": "markdown",
   "metadata": {},
   "source": [
    "**Случайный лес**"
   ]
  },
  {
   "cell_type": "code",
   "execution_count": 21,
   "metadata": {},
   "outputs": [],
   "source": [
    "best_model_rf = None\n",
    "best_score = 0\n",
    "best_depth = 0\n",
    "best_n_est = 0"
   ]
  },
  {
   "cell_type": "code",
   "execution_count": 22,
   "metadata": {},
   "outputs": [
    {
     "name": "stdout",
     "output_type": "stream",
     "text": [
      "Accuracy лучшей модели на валидационной выборке: 0.8149300155520995\n",
      "Число деревьев лучшей модели на валидационной выборке: 3\n",
      "Глубина лучшей модели на валидационной выборке: 6\n",
      "CPU times: user 1.9 s, sys: 15.8 ms, total: 1.91 s\n",
      "Wall time: 1.92 s\n"
     ]
    }
   ],
   "source": [
    "%%time\n",
    "\n",
    "depth_list = []\n",
    "train_score_list = []\n",
    "valid_score_list = []\n",
    "\n",
    "for max_depth in range(1, 11):\n",
    "    for est in range(1, 11):\n",
    "        model = RandomForestClassifier(n_estimators=est, \\\n",
    "                                        max_depth=max_depth, random_state=12345)\n",
    "        model.fit(features_train, target_train)\n",
    "        predictions = model.predict(features_valid)\n",
    "        accuracy = accuracy_score(target_valid, predictions)\n",
    "        accuracy_train = accuracy_score(target_train, model.predict(features_train))\n",
    "        depth_list.append(max_depth)\n",
    "        valid_score_list.append(accuracy)\n",
    "        train_score_list.append(accuracy_train)\n",
    "        if accuracy > best_score:\n",
    "            best_model_rf = model\n",
    "            best_score = accuracy\n",
    "            best_n_est = est\n",
    "            best_depth = max_depth\n",
    "print('Accuracy лучшей модели на валидационной выборке:', best_score)\n",
    "print('Число деревьев лучшей модели на валидационной выборке:', best_n_est)\n",
    "print('Глубина лучшей модели на валидационной выборке:', best_depth)"
   ]
  },
  {
   "cell_type": "code",
   "execution_count": 23,
   "metadata": {},
   "outputs": [
    {
     "data": {
      "image/png": "[encoded data removed]",
      "text/plain": [
       "<Figure size 576x360 with 1 Axes>"
      ]
     },
     "metadata": {
      "needs_background": "light"
     },
     "output_type": "display_data"
    }
   ],
   "source": [
    "# простроим график зависимости точности от глубины \n",
    "# на тренировочной и валидационной выборках\n",
    "\n",
    "fig, ax = plt.subplots()\n",
    "ax.plot(depth_list, train_score_list, label = 'train_score')\n",
    "ax.plot(depth_list, valid_score_list, label = 'valid_score')\n",
    "ax.legend()\n",
    "fig.set_figheight(5)\n",
    "fig.set_figwidth(8)\n",
    "plt.title('Зависимость точности от глубины на тренировочной и валидационной выборках')\n",
    "plt.show();"
   ]
  },
  {
   "cell_type": "markdown",
   "metadata": {},
   "source": [
    "**Логистическая регрессия**"
   ]
  },
  {
   "cell_type": "code",
   "execution_count": 24,
   "metadata": {},
   "outputs": [
    {
     "name": "stdout",
     "output_type": "stream",
     "text": [
      "Score модели на валидационной выборке: 0.7465007776049767\n"
     ]
    }
   ],
   "source": [
    "model_log_reg = LogisticRegression(random_state=12345, solver='lbfgs', max_iter=1000)\n",
    "model_log_reg.fit(features_train, target_train)\n",
    "score = model_log_reg.score(features_valid, target_valid)\n",
    "print('Score модели на валидационной выборке:', score)"
   ]
  },
  {
   "cell_type": "markdown",
   "metadata": {},
   "source": [
    "**Вывод**\n",
    "\n",
    "Лучше всего показала себя модель случайный лес с числом деревьев 3, глубиной 6. Доля правильных ответов на валидационной выборке 0.815. Хуже всего справилась логистическая регрессия - 0.747. Второе место у дерева решений - 0.812."
   ]
  },
  {
   "cell_type": "markdown",
   "metadata": {},
   "source": [
    "## Проверка модели на тестовой выборке"
   ]
  },
  {
   "cell_type": "markdown",
   "metadata": {},
   "source": [
    "Протестируем лучшие модели (дерево решений и случайный лес с их лучшими гиперпараметрами) на тестовой выборке. Объединим тренировочную и валидационнуы выборки для большего объема данных для обучения."
   ]
  },
  {
   "cell_type": "code",
   "execution_count": 25,
   "metadata": {},
   "outputs": [],
   "source": [
    "features_train = pd.concat([features_train, features_valid], ignore_index=True)"
   ]
  },
  {
   "cell_type": "code",
   "execution_count": 26,
   "metadata": {},
   "outputs": [],
   "source": [
    "target_train = pd.concat([target_train, target_valid], ignore_index=True)"
   ]
  },
  {
   "cell_type": "code",
   "execution_count": 27,
   "metadata": {},
   "outputs": [
    {
     "name": "stdout",
     "output_type": "stream",
     "text": [
      "Accuracy лучшего дерева решений на тестовой выборке: 0.7947122861586314\n"
     ]
    }
   ],
   "source": [
    "# тестируем дерево решений\n",
    "\n",
    "best_model_dt.fit(features_train, target_train)\n",
    "predictions = best_model_dt.predict(features_test)\n",
    "accuracy = accuracy_score(target_test, predictions)\n",
    "print('Accuracy лучшего дерева решений на тестовой выборке:', accuracy)"
   ]
  },
  {
   "cell_type": "code",
   "execution_count": 28,
   "metadata": {},
   "outputs": [
    {
     "name": "stdout",
     "output_type": "stream",
     "text": [
      "Accuracy лучшего случайного леса на тестовой выборке: 0.80248833592535\n"
     ]
    }
   ],
   "source": [
    "# тестируем случайный лес\n",
    "\n",
    "best_model_rf.fit(features_train, target_train)\n",
    "predictions = best_model_rf.predict(features_test)\n",
    "accuracy = accuracy_score(target_test, predictions)\n",
    "print('Accuracy лучшего случайного леса на тестовой выборке:', accuracy)"
   ]
  },
  {
   "cell_type": "markdown",
   "metadata": {},
   "source": [
    "**Вывод**\n",
    "\n",
    "Дерево - 0.79, лес - 0.8.  Выше, чем 0.75, как заявлено в целях исследования. Модель случайного леса можно считать лучшей. Для клиентов с архивными тарифами можем использовать модель случайного леса для предложения наиболее подходящего тарифа."
   ]
  },
  {
   "cell_type": "markdown",
   "metadata": {},
   "source": [
    "## Проверка моделей на адекватность"
   ]
  },
  {
   "cell_type": "markdown",
   "metadata": {},
   "source": [
    "Создадим \"глупую\" модель со стратегией классификации 'most_frequent' и сравним ее результат с остальными."
   ]
  },
  {
   "cell_type": "code",
   "execution_count": 29,
   "metadata": {},
   "outputs": [
    {
     "name": "stdout",
     "output_type": "stream",
     "text": [
      "Score \"глупой\" модели на тестовой выборке: 0.6936236391912908\n"
     ]
    }
   ],
   "source": [
    "dummy_model = DummyClassifier(strategy='most_frequent', random_state=12345)\n",
    "dummy_model.fit(features_train, target_train)\n",
    "print('Score \"глупой\" модели на тестовой выборке:', \\\n",
    "      dummy_model.score(features_test, target_test))"
   ]
  },
  {
   "cell_type": "markdown",
   "metadata": {},
   "source": [
    "**Вывод**\n",
    "\n",
    "Результат \"глупой\" модели (0.7) оказался хуже, чем у всех рассмотренных моделей. Можно утверждать, что все ранее рассмотренные модели адекватные."
   ]
  },
  {
   "cell_type": "markdown",
   "metadata": {},
   "source": [
    "## Общий вывод"
   ]
  },
  {
   "cell_type": "markdown",
   "metadata": {},
   "source": [
    "Для подбора подходящего тарифа («Смарт» или «Ультра») для клиентов с архивными тарифами рекомендовано использовать модель случайный лес с числом деревьев 3, глубиной 6. Ее доля правильных ответов на тестовой выборке 0.8 против 0.7 на \"глупой\" модели. Рекомендованную модель можно считать адекватной."
   ]
  }
 ],
 "metadata": {
  "ExecuteTimeLog": [
   {
    "duration": 412,
    "start_time": "2023-02-20T07:12:58.927Z"
   },
   {
    "duration": 67,
    "start_time": "2023-02-20T07:13:49.777Z"
   },
   {
    "duration": 20,
    "start_time": "2023-02-20T07:13:58.745Z"
   },
   {
    "duration": 17,
    "start_time": "2023-02-20T07:14:22.478Z"
   },
   {
    "duration": 12,
    "start_time": "2023-02-20T07:14:37.690Z"
   },
   {
    "duration": 704,
    "start_time": "2023-02-20T07:18:53.194Z"
   },
   {
    "duration": 9,
    "start_time": "2023-02-20T07:19:30.677Z"
   },
   {
    "duration": 22,
    "start_time": "2023-02-20T07:19:39.479Z"
   },
   {
    "duration": 6,
    "start_time": "2023-02-20T07:24:32.222Z"
   },
   {
    "duration": 5,
    "start_time": "2023-02-20T07:27:26.606Z"
   },
   {
    "duration": 4,
    "start_time": "2023-02-20T07:28:06.573Z"
   },
   {
    "duration": 4,
    "start_time": "2023-02-20T07:28:56.466Z"
   },
   {
    "duration": 4,
    "start_time": "2023-02-20T07:29:25.804Z"
   },
   {
    "duration": 4,
    "start_time": "2023-02-20T07:29:51.385Z"
   },
   {
    "duration": 3,
    "start_time": "2023-02-20T07:30:31.325Z"
   },
   {
    "duration": 120,
    "start_time": "2023-02-20T07:53:42.430Z"
   },
   {
    "duration": 14,
    "start_time": "2023-02-20T07:54:19.210Z"
   },
   {
    "duration": 3,
    "start_time": "2023-02-20T07:54:47.873Z"
   },
   {
    "duration": 51,
    "start_time": "2023-02-20T07:54:49.563Z"
   },
   {
    "duration": 54,
    "start_time": "2023-02-20T07:55:55.752Z"
   },
   {
    "duration": 60,
    "start_time": "2023-02-20T07:56:23.723Z"
   },
   {
    "duration": 54,
    "start_time": "2023-02-20T07:56:37.030Z"
   },
   {
    "duration": 2,
    "start_time": "2023-02-20T07:56:52.895Z"
   },
   {
    "duration": 60,
    "start_time": "2023-02-20T07:56:54.744Z"
   },
   {
    "duration": 3,
    "start_time": "2023-02-20T07:57:06.215Z"
   },
   {
    "duration": 3,
    "start_time": "2023-02-20T08:02:10.155Z"
   },
   {
    "duration": 1555,
    "start_time": "2023-02-20T08:02:12.854Z"
   },
   {
    "duration": 26,
    "start_time": "2023-02-20T08:09:51.218Z"
   },
   {
    "duration": 27,
    "start_time": "2023-02-20T08:10:14.730Z"
   },
   {
    "duration": 10,
    "start_time": "2023-02-20T08:13:50.456Z"
   },
   {
    "duration": 3,
    "start_time": "2023-02-20T08:13:58.315Z"
   },
   {
    "duration": 28,
    "start_time": "2023-02-20T08:14:14.052Z"
   },
   {
    "duration": 25,
    "start_time": "2023-02-20T08:14:20.673Z"
   },
   {
    "duration": 31,
    "start_time": "2023-02-20T08:16:27.717Z"
   },
   {
    "duration": 32,
    "start_time": "2023-02-20T08:17:15.232Z"
   },
   {
    "duration": 27,
    "start_time": "2023-02-20T08:22:49.238Z"
   },
   {
    "duration": 25,
    "start_time": "2023-02-20T08:22:59.332Z"
   },
   {
    "duration": 3,
    "start_time": "2023-02-20T08:34:21.439Z"
   },
   {
    "duration": 76,
    "start_time": "2023-02-20T08:38:19.032Z"
   },
   {
    "duration": 71,
    "start_time": "2023-02-20T08:38:46.921Z"
   },
   {
    "duration": 70,
    "start_time": "2023-02-20T08:39:20.827Z"
   },
   {
    "duration": 3,
    "start_time": "2023-02-20T08:39:27.931Z"
   },
   {
    "duration": 74,
    "start_time": "2023-02-20T08:39:40.233Z"
   },
   {
    "duration": 137,
    "start_time": "2023-02-20T08:42:04.329Z"
   },
   {
    "duration": 6,
    "start_time": "2023-02-20T08:42:17.770Z"
   },
   {
    "duration": 5,
    "start_time": "2023-02-20T08:43:31.811Z"
   },
   {
    "duration": 30,
    "start_time": "2023-02-20T08:48:06.978Z"
   },
   {
    "duration": 28,
    "start_time": "2023-02-20T08:48:09.047Z"
   },
   {
    "duration": 41,
    "start_time": "2023-02-20T08:49:28.376Z"
   },
   {
    "duration": 1374,
    "start_time": "2023-02-20T09:01:59.802Z"
   },
   {
    "duration": 2,
    "start_time": "2023-02-20T09:02:18.460Z"
   },
   {
    "duration": 51,
    "start_time": "2023-02-20T09:02:30.991Z"
   },
   {
    "duration": 2,
    "start_time": "2023-02-20T09:02:35.929Z"
   },
   {
    "duration": 1434,
    "start_time": "2023-02-20T09:02:43.669Z"
   },
   {
    "duration": 26,
    "start_time": "2023-02-20T09:03:06.674Z"
   },
   {
    "duration": 23,
    "start_time": "2023-02-20T09:06:58.085Z"
   },
   {
    "duration": 4,
    "start_time": "2023-02-20T09:26:03.752Z"
   },
   {
    "duration": 5,
    "start_time": "2023-02-20T09:44:27.921Z"
   },
   {
    "duration": 1169,
    "start_time": "2023-02-20T09:48:30.740Z"
   },
   {
    "duration": 28,
    "start_time": "2023-02-20T09:48:31.911Z"
   },
   {
    "duration": 30,
    "start_time": "2023-02-20T09:48:31.940Z"
   },
   {
    "duration": 47,
    "start_time": "2023-02-20T09:48:31.972Z"
   },
   {
    "duration": 45,
    "start_time": "2023-02-20T09:48:32.022Z"
   },
   {
    "duration": 5,
    "start_time": "2023-02-20T09:48:32.069Z"
   },
   {
    "duration": 36,
    "start_time": "2023-02-20T09:48:32.075Z"
   },
   {
    "duration": 10,
    "start_time": "2023-02-20T09:48:32.113Z"
   },
   {
    "duration": 9,
    "start_time": "2023-02-20T09:48:32.125Z"
   },
   {
    "duration": 8,
    "start_time": "2023-02-20T09:48:32.137Z"
   },
   {
    "duration": 8,
    "start_time": "2023-02-20T09:48:32.147Z"
   },
   {
    "duration": 126,
    "start_time": "2023-02-20T09:48:32.157Z"
   },
   {
    "duration": 3,
    "start_time": "2023-02-20T09:48:32.285Z"
   },
   {
    "duration": 1490,
    "start_time": "2023-02-20T09:48:32.290Z"
   },
   {
    "duration": 23,
    "start_time": "2023-02-20T09:48:33.781Z"
   },
   {
    "duration": 42,
    "start_time": "2023-02-20T09:48:33.806Z"
   },
   {
    "duration": 5,
    "start_time": "2023-02-20T09:48:33.850Z"
   },
   {
    "duration": 1068,
    "start_time": "2023-02-20T10:02:15.842Z"
   },
   {
    "duration": 26,
    "start_time": "2023-02-20T10:02:16.912Z"
   },
   {
    "duration": 17,
    "start_time": "2023-02-20T10:02:16.940Z"
   },
   {
    "duration": 27,
    "start_time": "2023-02-20T10:02:16.958Z"
   },
   {
    "duration": 28,
    "start_time": "2023-02-20T10:02:16.986Z"
   },
   {
    "duration": 5,
    "start_time": "2023-02-20T10:02:17.015Z"
   },
   {
    "duration": 16,
    "start_time": "2023-02-20T10:02:17.022Z"
   },
   {
    "duration": 4,
    "start_time": "2023-02-20T10:02:17.040Z"
   },
   {
    "duration": 5,
    "start_time": "2023-02-20T10:02:17.045Z"
   },
   {
    "duration": 5,
    "start_time": "2023-02-20T10:02:17.053Z"
   },
   {
    "duration": 13,
    "start_time": "2023-02-20T10:02:17.060Z"
   },
   {
    "duration": 70,
    "start_time": "2023-02-20T10:02:17.075Z"
   },
   {
    "duration": 2,
    "start_time": "2023-02-20T10:02:17.147Z"
   },
   {
    "duration": 1687,
    "start_time": "2023-02-20T10:02:17.151Z"
   },
   {
    "duration": 33,
    "start_time": "2023-02-20T10:02:18.840Z"
   },
   {
    "duration": 32,
    "start_time": "2023-02-20T10:02:18.875Z"
   },
   {
    "duration": 5,
    "start_time": "2023-02-20T10:02:18.909Z"
   },
   {
    "duration": 2083,
    "start_time": "2023-02-20T10:33:41.697Z"
   },
   {
    "duration": 27,
    "start_time": "2023-02-20T10:33:43.782Z"
   },
   {
    "duration": 17,
    "start_time": "2023-02-20T10:33:43.810Z"
   },
   {
    "duration": 13,
    "start_time": "2023-02-20T10:33:43.828Z"
   },
   {
    "duration": 25,
    "start_time": "2023-02-20T10:33:43.843Z"
   },
   {
    "duration": 6,
    "start_time": "2023-02-20T10:33:43.870Z"
   },
   {
    "duration": 6,
    "start_time": "2023-02-20T10:33:43.898Z"
   },
   {
    "duration": 27,
    "start_time": "2023-02-20T10:33:43.906Z"
   },
   {
    "duration": 10,
    "start_time": "2023-02-20T10:33:43.935Z"
   },
   {
    "duration": 28,
    "start_time": "2023-02-20T10:33:43.947Z"
   },
   {
    "duration": 6,
    "start_time": "2023-02-20T10:33:43.978Z"
   },
   {
    "duration": 74,
    "start_time": "2023-02-20T10:33:43.986Z"
   },
   {
    "duration": 3,
    "start_time": "2023-02-20T10:33:44.062Z"
   },
   {
    "duration": 1525,
    "start_time": "2023-02-20T10:33:44.069Z"
   },
   {
    "duration": 31,
    "start_time": "2023-02-20T10:33:45.596Z"
   },
   {
    "duration": 29,
    "start_time": "2023-02-20T10:33:45.629Z"
   },
   {
    "duration": 4,
    "start_time": "2023-02-20T10:33:45.660Z"
   },
   {
    "duration": 52,
    "start_time": "2023-02-20T13:32:06.003Z"
   },
   {
    "duration": 1175,
    "start_time": "2023-02-20T13:32:18.582Z"
   },
   {
    "duration": 68,
    "start_time": "2023-02-20T13:32:19.759Z"
   },
   {
    "duration": 41,
    "start_time": "2023-02-20T13:32:19.829Z"
   },
   {
    "duration": 12,
    "start_time": "2023-02-20T13:32:19.871Z"
   },
   {
    "duration": 25,
    "start_time": "2023-02-20T13:32:19.884Z"
   },
   {
    "duration": 10,
    "start_time": "2023-02-20T13:32:19.910Z"
   },
   {
    "duration": 4,
    "start_time": "2023-02-20T13:32:19.922Z"
   },
   {
    "duration": 10,
    "start_time": "2023-02-20T13:32:19.928Z"
   },
   {
    "duration": 9,
    "start_time": "2023-02-20T13:32:19.939Z"
   },
   {
    "duration": 7,
    "start_time": "2023-02-20T13:32:19.951Z"
   },
   {
    "duration": 6,
    "start_time": "2023-02-20T13:32:19.959Z"
   },
   {
    "duration": 4,
    "start_time": "2023-02-20T13:32:19.967Z"
   },
   {
    "duration": 75,
    "start_time": "2023-02-20T13:32:19.973Z"
   },
   {
    "duration": 2,
    "start_time": "2023-02-20T13:32:20.050Z"
   },
   {
    "duration": 1618,
    "start_time": "2023-02-20T13:32:20.054Z"
   },
   {
    "duration": 32,
    "start_time": "2023-02-20T13:32:21.674Z"
   },
   {
    "duration": 31,
    "start_time": "2023-02-20T13:32:21.708Z"
   },
   {
    "duration": 10,
    "start_time": "2023-02-20T13:32:21.741Z"
   },
   {
    "duration": 122,
    "start_time": "2023-02-20T13:32:48.756Z"
   },
   {
    "duration": 9,
    "start_time": "2023-02-20T13:33:00.519Z"
   },
   {
    "duration": 489,
    "start_time": "2023-02-20T13:33:36.675Z"
   },
   {
    "duration": 373,
    "start_time": "2023-02-20T13:33:54.790Z"
   },
   {
    "duration": 135,
    "start_time": "2023-02-20T13:34:37.785Z"
   },
   {
    "duration": 443,
    "start_time": "2023-02-20T13:39:50.994Z"
   },
   {
    "duration": 355,
    "start_time": "2023-02-20T13:42:51.124Z"
   },
   {
    "duration": 11,
    "start_time": "2023-02-20T13:45:38.071Z"
   },
   {
    "duration": 6,
    "start_time": "2023-02-20T13:46:08.703Z"
   },
   {
    "duration": 135,
    "start_time": "2023-02-20T13:46:29.519Z"
   },
   {
    "duration": 8,
    "start_time": "2023-02-20T13:46:40.796Z"
   },
   {
    "duration": 5,
    "start_time": "2023-02-20T13:47:37.194Z"
   },
   {
    "duration": 4,
    "start_time": "2023-02-20T13:48:51.869Z"
   },
   {
    "duration": 7,
    "start_time": "2023-02-20T14:09:58.710Z"
   },
   {
    "duration": 15,
    "start_time": "2023-02-20T14:10:00.046Z"
   },
   {
    "duration": 5,
    "start_time": "2023-02-20T14:10:12.682Z"
   },
   {
    "duration": 4,
    "start_time": "2023-02-20T14:11:09.410Z"
   },
   {
    "duration": 4,
    "start_time": "2023-02-20T14:11:36.452Z"
   },
   {
    "duration": 6,
    "start_time": "2023-02-20T14:11:56.870Z"
   },
   {
    "duration": 4,
    "start_time": "2023-02-20T14:11:58.082Z"
   },
   {
    "duration": 1469,
    "start_time": "2023-02-20T14:13:53.359Z"
   },
   {
    "duration": 29,
    "start_time": "2023-02-20T14:13:54.830Z"
   },
   {
    "duration": 15,
    "start_time": "2023-02-20T14:13:54.860Z"
   },
   {
    "duration": 18,
    "start_time": "2023-02-20T14:13:54.877Z"
   },
   {
    "duration": 32,
    "start_time": "2023-02-20T14:13:54.897Z"
   },
   {
    "duration": 5,
    "start_time": "2023-02-20T14:13:54.931Z"
   },
   {
    "duration": 9,
    "start_time": "2023-02-20T14:13:54.938Z"
   },
   {
    "duration": 16,
    "start_time": "2023-02-20T14:13:54.948Z"
   },
   {
    "duration": 388,
    "start_time": "2023-02-20T14:13:54.965Z"
   },
   {
    "duration": 6,
    "start_time": "2023-02-20T14:13:55.355Z"
   },
   {
    "duration": 21,
    "start_time": "2023-02-20T14:13:55.363Z"
   },
   {
    "duration": 20,
    "start_time": "2023-02-20T14:13:55.386Z"
   },
   {
    "duration": 22,
    "start_time": "2023-02-20T14:13:55.407Z"
   },
   {
    "duration": 27,
    "start_time": "2023-02-20T14:13:55.432Z"
   },
   {
    "duration": 18,
    "start_time": "2023-02-20T14:13:55.460Z"
   },
   {
    "duration": 18,
    "start_time": "2023-02-20T14:13:55.480Z"
   },
   {
    "duration": 11,
    "start_time": "2023-02-20T14:13:55.500Z"
   },
   {
    "duration": 83,
    "start_time": "2023-02-20T14:13:55.513Z"
   },
   {
    "duration": 3,
    "start_time": "2023-02-20T14:13:55.597Z"
   },
   {
    "duration": 1505,
    "start_time": "2023-02-20T14:13:55.602Z"
   },
   {
    "duration": 38,
    "start_time": "2023-02-20T14:13:57.108Z"
   },
   {
    "duration": 49,
    "start_time": "2023-02-20T14:13:57.148Z"
   },
   {
    "duration": 6,
    "start_time": "2023-02-20T14:13:57.199Z"
   },
   {
    "duration": 3,
    "start_time": "2023-02-20T14:28:27.561Z"
   },
   {
    "duration": 37,
    "start_time": "2023-02-20T14:28:29.690Z"
   },
   {
    "duration": 33,
    "start_time": "2023-02-20T14:29:42.122Z"
   },
   {
    "duration": 68,
    "start_time": "2023-02-20T14:30:09.273Z"
   },
   {
    "duration": 4,
    "start_time": "2023-02-20T14:38:09.830Z"
   },
   {
    "duration": 90,
    "start_time": "2023-02-20T14:39:04.752Z"
   },
   {
    "duration": 112,
    "start_time": "2023-02-20T14:40:36.851Z"
   },
   {
    "duration": 113,
    "start_time": "2023-02-20T14:40:42.755Z"
   },
   {
    "duration": 194,
    "start_time": "2023-02-20T14:40:51.961Z"
   },
   {
    "duration": 250,
    "start_time": "2023-02-20T14:41:14.474Z"
   },
   {
    "duration": 109,
    "start_time": "2023-02-20T14:41:18.836Z"
   },
   {
    "duration": 78,
    "start_time": "2023-02-20T14:43:10.030Z"
   },
   {
    "duration": 115,
    "start_time": "2023-02-20T14:43:21.920Z"
   },
   {
    "duration": 110,
    "start_time": "2023-02-20T14:43:28.997Z"
   },
   {
    "duration": 110,
    "start_time": "2023-02-20T14:43:58.195Z"
   },
   {
    "duration": 102,
    "start_time": "2023-02-20T14:44:32.128Z"
   },
   {
    "duration": 111,
    "start_time": "2023-02-20T14:44:37.249Z"
   },
   {
    "duration": 5,
    "start_time": "2023-02-20T14:45:49.647Z"
   },
   {
    "duration": 10,
    "start_time": "2023-02-20T14:46:25.592Z"
   },
   {
    "duration": 11,
    "start_time": "2023-02-20T14:47:36.551Z"
   },
   {
    "duration": 11,
    "start_time": "2023-02-20T14:47:48.969Z"
   },
   {
    "duration": 11,
    "start_time": "2023-02-20T14:49:20.159Z"
   },
   {
    "duration": 121,
    "start_time": "2023-02-20T14:49:26.490Z"
   },
   {
    "duration": 166,
    "start_time": "2023-02-20T14:52:00.679Z"
   },
   {
    "duration": 127,
    "start_time": "2023-02-20T14:52:27.621Z"
   },
   {
    "duration": 140,
    "start_time": "2023-02-20T14:52:50.927Z"
   },
   {
    "duration": 133,
    "start_time": "2023-02-20T14:53:47.074Z"
   },
   {
    "duration": 115,
    "start_time": "2023-02-20T14:54:04.155Z"
   },
   {
    "duration": 132,
    "start_time": "2023-02-20T14:54:15.032Z"
   },
   {
    "duration": 258,
    "start_time": "2023-02-20T14:55:51.288Z"
   },
   {
    "duration": 158,
    "start_time": "2023-02-20T14:56:02.522Z"
   },
   {
    "duration": 160,
    "start_time": "2023-02-20T14:56:11.014Z"
   },
   {
    "duration": 136,
    "start_time": "2023-02-20T14:56:19.706Z"
   },
   {
    "duration": 138,
    "start_time": "2023-02-20T14:56:43.484Z"
   },
   {
    "duration": 146,
    "start_time": "2023-02-20T14:56:56.196Z"
   },
   {
    "duration": 142,
    "start_time": "2023-02-20T14:58:12.835Z"
   },
   {
    "duration": 135,
    "start_time": "2023-02-20T14:59:57.920Z"
   },
   {
    "duration": 134,
    "start_time": "2023-02-20T15:00:34.131Z"
   },
   {
    "duration": 137,
    "start_time": "2023-02-20T15:01:39.350Z"
   },
   {
    "duration": 138,
    "start_time": "2023-02-20T15:01:55.768Z"
   },
   {
    "duration": 143,
    "start_time": "2023-02-20T15:01:58.485Z"
   },
   {
    "duration": 141,
    "start_time": "2023-02-20T15:03:46.613Z"
   },
   {
    "duration": 150,
    "start_time": "2023-02-20T15:03:58.040Z"
   },
   {
    "duration": 289,
    "start_time": "2023-02-20T15:05:05.242Z"
   },
   {
    "duration": 175,
    "start_time": "2023-02-20T15:05:09.808Z"
   },
   {
    "duration": 179,
    "start_time": "2023-02-20T15:05:19.414Z"
   },
   {
    "duration": 169,
    "start_time": "2023-02-20T15:05:28.616Z"
   },
   {
    "duration": 169,
    "start_time": "2023-02-20T15:05:34.042Z"
   },
   {
    "duration": 169,
    "start_time": "2023-02-20T15:05:38.269Z"
   },
   {
    "duration": 181,
    "start_time": "2023-02-20T15:05:42.324Z"
   },
   {
    "duration": 1003,
    "start_time": "2023-02-20T15:08:11.244Z"
   },
   {
    "duration": 166,
    "start_time": "2023-02-20T15:08:25.274Z"
   },
   {
    "duration": 2124,
    "start_time": "2023-02-20T15:10:47.083Z"
   },
   {
    "duration": 93,
    "start_time": "2023-02-20T15:11:06.151Z"
   },
   {
    "duration": 162,
    "start_time": "2023-02-20T15:11:10.481Z"
   },
   {
    "duration": 3,
    "start_time": "2023-02-20T15:11:23.888Z"
   },
   {
    "duration": 3,
    "start_time": "2023-02-20T15:11:27.989Z"
   },
   {
    "duration": 89,
    "start_time": "2023-02-20T15:11:29.743Z"
   },
   {
    "duration": 173,
    "start_time": "2023-02-20T15:11:32.873Z"
   },
   {
    "duration": 3,
    "start_time": "2023-02-20T15:11:38.985Z"
   },
   {
    "duration": 2481,
    "start_time": "2023-02-20T15:11:40.710Z"
   },
   {
    "duration": 192,
    "start_time": "2023-02-20T15:11:58.728Z"
   },
   {
    "duration": 173,
    "start_time": "2023-02-20T15:14:50.369Z"
   },
   {
    "duration": 192,
    "start_time": "2023-02-20T15:15:37.751Z"
   },
   {
    "duration": 4,
    "start_time": "2023-02-20T15:16:29.786Z"
   },
   {
    "duration": 99,
    "start_time": "2023-02-20T15:16:31.469Z"
   },
   {
    "duration": 320,
    "start_time": "2023-02-20T15:16:33.550Z"
   },
   {
    "duration": 3,
    "start_time": "2023-02-20T15:16:56.076Z"
   },
   {
    "duration": 2421,
    "start_time": "2023-02-20T15:16:58.080Z"
   },
   {
    "duration": 188,
    "start_time": "2023-02-20T15:17:02.245Z"
   },
   {
    "duration": 174,
    "start_time": "2023-02-20T15:17:28.910Z"
   },
   {
    "duration": 232,
    "start_time": "2023-02-20T15:17:53.526Z"
   },
   {
    "duration": 11,
    "start_time": "2023-02-20T15:20:27.648Z"
   },
   {
    "duration": 10,
    "start_time": "2023-02-20T15:20:54.125Z"
   },
   {
    "duration": 7,
    "start_time": "2023-02-20T15:21:30.111Z"
   },
   {
    "duration": 1852,
    "start_time": "2023-02-20T15:21:37.913Z"
   },
   {
    "duration": 1689,
    "start_time": "2023-02-20T15:21:48.267Z"
   },
   {
    "duration": 4,
    "start_time": "2023-02-20T15:22:09.439Z"
   },
   {
    "duration": 2440,
    "start_time": "2023-02-20T15:22:41.877Z"
   },
   {
    "duration": 3,
    "start_time": "2023-02-20T15:22:47.219Z"
   },
   {
    "duration": 2417,
    "start_time": "2023-02-20T15:22:48.521Z"
   },
   {
    "duration": 216,
    "start_time": "2023-02-20T15:22:50.940Z"
   },
   {
    "duration": 3,
    "start_time": "2023-02-20T15:25:09.033Z"
   },
   {
    "duration": 877,
    "start_time": "2023-02-20T15:25:44.639Z"
   },
   {
    "duration": 843,
    "start_time": "2023-02-20T15:25:49.322Z"
   },
   {
    "duration": 12,
    "start_time": "2023-02-20T15:27:22.516Z"
   },
   {
    "duration": 474,
    "start_time": "2023-02-20T15:27:34.956Z"
   },
   {
    "duration": 59,
    "start_time": "2023-02-20T15:36:03.848Z"
   },
   {
    "duration": 52,
    "start_time": "2023-02-20T15:37:23.342Z"
   },
   {
    "duration": 4,
    "start_time": "2023-02-20T15:38:28.962Z"
   },
   {
    "duration": 2309,
    "start_time": "2023-02-20T15:38:30.308Z"
   },
   {
    "duration": 202,
    "start_time": "2023-02-20T15:38:32.619Z"
   },
   {
    "duration": 3,
    "start_time": "2023-02-20T15:39:57.823Z"
   },
   {
    "duration": 2148,
    "start_time": "2023-02-20T15:40:02.742Z"
   },
   {
    "duration": 18,
    "start_time": "2023-02-20T15:45:13.279Z"
   },
   {
    "duration": 4,
    "start_time": "2023-02-20T15:46:35.028Z"
   },
   {
    "duration": 4,
    "start_time": "2023-02-20T15:47:24.514Z"
   },
   {
    "duration": 4,
    "start_time": "2023-02-20T15:47:26.345Z"
   },
   {
    "duration": 5,
    "start_time": "2023-02-20T15:47:53.029Z"
   },
   {
    "duration": 3,
    "start_time": "2023-02-20T15:47:57.205Z"
   },
   {
    "duration": 4,
    "start_time": "2023-02-20T15:47:58.877Z"
   },
   {
    "duration": 15,
    "start_time": "2023-02-20T15:48:29.026Z"
   },
   {
    "duration": 21,
    "start_time": "2023-02-20T15:48:33.705Z"
   },
   {
    "duration": 1779,
    "start_time": "2023-02-20T15:51:46.799Z"
   },
   {
    "duration": 30,
    "start_time": "2023-02-20T15:51:51.023Z"
   },
   {
    "duration": 21,
    "start_time": "2023-02-20T15:51:51.056Z"
   },
   {
    "duration": 12,
    "start_time": "2023-02-20T15:51:51.889Z"
   },
   {
    "duration": 32,
    "start_time": "2023-02-20T15:51:51.904Z"
   },
   {
    "duration": 6,
    "start_time": "2023-02-20T15:51:51.938Z"
   },
   {
    "duration": 4,
    "start_time": "2023-02-20T15:51:53.511Z"
   },
   {
    "duration": 7,
    "start_time": "2023-02-20T15:51:53.517Z"
   },
   {
    "duration": 377,
    "start_time": "2023-02-20T15:51:53.525Z"
   },
   {
    "duration": 6,
    "start_time": "2023-02-20T15:51:53.904Z"
   },
   {
    "duration": 9,
    "start_time": "2023-02-20T15:51:53.912Z"
   },
   {
    "duration": 12,
    "start_time": "2023-02-20T15:51:53.922Z"
   },
   {
    "duration": 6,
    "start_time": "2023-02-20T15:51:53.936Z"
   },
   {
    "duration": 9,
    "start_time": "2023-02-20T15:51:53.944Z"
   },
   {
    "duration": 8,
    "start_time": "2023-02-20T15:51:53.955Z"
   },
   {
    "duration": 4,
    "start_time": "2023-02-20T15:51:54.240Z"
   },
   {
    "duration": 17,
    "start_time": "2023-02-20T15:51:54.246Z"
   },
   {
    "duration": 85,
    "start_time": "2023-02-20T15:51:54.316Z"
   },
   {
    "duration": 172,
    "start_time": "2023-02-20T15:51:54.403Z"
   },
   {
    "duration": 454,
    "start_time": "2023-02-20T15:51:54.577Z"
   },
   {
    "duration": 3,
    "start_time": "2023-02-20T15:51:55.405Z"
   },
   {
    "duration": 2052,
    "start_time": "2023-02-20T15:51:55.601Z"
   },
   {
    "duration": 252,
    "start_time": "2023-02-20T15:51:57.656Z"
   },
   {
    "duration": 37,
    "start_time": "2023-02-20T15:51:57.910Z"
   },
   {
    "duration": 3,
    "start_time": "2023-02-20T15:51:57.949Z"
   },
   {
    "duration": 5,
    "start_time": "2023-02-20T15:51:57.954Z"
   },
   {
    "duration": 35,
    "start_time": "2023-02-20T15:51:57.961Z"
   },
   {
    "duration": 22,
    "start_time": "2023-02-20T15:51:57.998Z"
   },
   {
    "duration": 5,
    "start_time": "2023-02-20T15:51:58.023Z"
   },
   {
    "duration": 1381,
    "start_time": "2023-02-20T15:56:05.249Z"
   },
   {
    "duration": 27,
    "start_time": "2023-02-20T15:56:06.632Z"
   },
   {
    "duration": 21,
    "start_time": "2023-02-20T15:56:06.661Z"
   },
   {
    "duration": 14,
    "start_time": "2023-02-20T15:56:06.684Z"
   },
   {
    "duration": 25,
    "start_time": "2023-02-20T15:56:06.700Z"
   },
   {
    "duration": 6,
    "start_time": "2023-02-20T15:56:06.726Z"
   },
   {
    "duration": 11,
    "start_time": "2023-02-20T15:56:06.733Z"
   },
   {
    "duration": 8,
    "start_time": "2023-02-20T15:56:06.746Z"
   },
   {
    "duration": 424,
    "start_time": "2023-02-20T15:56:06.755Z"
   },
   {
    "duration": 14,
    "start_time": "2023-02-20T15:56:07.181Z"
   },
   {
    "duration": 6,
    "start_time": "2023-02-20T15:56:07.197Z"
   },
   {
    "duration": 11,
    "start_time": "2023-02-20T15:56:07.205Z"
   },
   {
    "duration": 8,
    "start_time": "2023-02-20T15:56:07.217Z"
   },
   {
    "duration": 4,
    "start_time": "2023-02-20T15:56:08.849Z"
   },
   {
    "duration": 20,
    "start_time": "2023-02-20T15:56:08.855Z"
   },
   {
    "duration": 13,
    "start_time": "2023-02-20T15:56:08.878Z"
   },
   {
    "duration": 9,
    "start_time": "2023-02-20T15:56:08.893Z"
   },
   {
    "duration": 92,
    "start_time": "2023-02-20T15:56:08.904Z"
   },
   {
    "duration": 159,
    "start_time": "2023-02-20T15:56:09.352Z"
   },
   {
    "duration": 514,
    "start_time": "2023-02-20T15:56:09.514Z"
   },
   {
    "duration": 3,
    "start_time": "2023-02-20T15:56:10.030Z"
   },
   {
    "duration": 2352,
    "start_time": "2023-02-20T15:56:10.035Z"
   },
   {
    "duration": 254,
    "start_time": "2023-02-20T15:56:12.389Z"
   },
   {
    "duration": 38,
    "start_time": "2023-02-20T15:56:22.401Z"
   },
   {
    "duration": 4,
    "start_time": "2023-02-20T15:56:22.441Z"
   },
   {
    "duration": 5,
    "start_time": "2023-02-20T15:56:23.128Z"
   },
   {
    "duration": 47,
    "start_time": "2023-02-20T15:56:23.134Z"
   },
   {
    "duration": 22,
    "start_time": "2023-02-20T15:56:23.183Z"
   },
   {
    "duration": 7,
    "start_time": "2023-02-20T15:56:23.206Z"
   },
   {
    "duration": 34,
    "start_time": "2023-02-20T15:59:01.659Z"
   },
   {
    "duration": 47,
    "start_time": "2023-02-20T15:59:01.698Z"
   },
   {
    "duration": 1501,
    "start_time": "2023-02-20T16:01:51.897Z"
   },
   {
    "duration": 28,
    "start_time": "2023-02-20T16:01:53.401Z"
   },
   {
    "duration": 18,
    "start_time": "2023-02-20T16:01:53.431Z"
   },
   {
    "duration": 13,
    "start_time": "2023-02-20T16:01:53.451Z"
   },
   {
    "duration": 36,
    "start_time": "2023-02-20T16:01:53.466Z"
   },
   {
    "duration": 6,
    "start_time": "2023-02-20T16:01:53.504Z"
   },
   {
    "duration": 7,
    "start_time": "2023-02-20T16:01:53.511Z"
   },
   {
    "duration": 7,
    "start_time": "2023-02-20T16:01:53.520Z"
   },
   {
    "duration": 378,
    "start_time": "2023-02-20T16:01:54.091Z"
   },
   {
    "duration": 6,
    "start_time": "2023-02-20T16:01:54.471Z"
   },
   {
    "duration": 8,
    "start_time": "2023-02-20T16:01:54.478Z"
   },
   {
    "duration": 6,
    "start_time": "2023-02-20T16:01:54.920Z"
   },
   {
    "duration": 11,
    "start_time": "2023-02-20T16:01:54.928Z"
   },
   {
    "duration": 4,
    "start_time": "2023-02-20T16:01:56.489Z"
   },
   {
    "duration": 11,
    "start_time": "2023-02-20T16:01:56.496Z"
   },
   {
    "duration": 8,
    "start_time": "2023-02-20T16:01:56.509Z"
   },
   {
    "duration": 5,
    "start_time": "2023-02-20T16:01:56.519Z"
   },
   {
    "duration": 85,
    "start_time": "2023-02-20T16:01:56.772Z"
   },
   {
    "duration": 171,
    "start_time": "2023-02-20T16:01:56.859Z"
   },
   {
    "duration": 493,
    "start_time": "2023-02-20T16:01:57.032Z"
   },
   {
    "duration": 3,
    "start_time": "2023-02-20T16:01:57.526Z"
   },
   {
    "duration": 2126,
    "start_time": "2023-02-20T16:01:57.532Z"
   },
   {
    "duration": 246,
    "start_time": "2023-02-20T16:01:59.660Z"
   },
   {
    "duration": 36,
    "start_time": "2023-02-20T16:01:59.907Z"
   },
   {
    "duration": 3,
    "start_time": "2023-02-20T16:01:59.945Z"
   },
   {
    "duration": 5,
    "start_time": "2023-02-20T16:01:59.950Z"
   },
   {
    "duration": 14,
    "start_time": "2023-02-20T16:01:59.957Z"
   },
   {
    "duration": 19,
    "start_time": "2023-02-20T16:01:59.995Z"
   },
   {
    "duration": 17,
    "start_time": "2023-02-20T16:02:00.016Z"
   },
   {
    "duration": 44,
    "start_time": "2023-02-21T12:44:24.334Z"
   },
   {
    "duration": 1356,
    "start_time": "2023-02-21T12:44:31.277Z"
   },
   {
    "duration": 124,
    "start_time": "2023-02-21T12:44:32.635Z"
   },
   {
    "duration": 13,
    "start_time": "2023-02-21T12:44:32.761Z"
   },
   {
    "duration": 14,
    "start_time": "2023-02-21T12:44:32.776Z"
   },
   {
    "duration": 27,
    "start_time": "2023-02-21T12:44:32.791Z"
   },
   {
    "duration": 4,
    "start_time": "2023-02-21T12:44:32.820Z"
   },
   {
    "duration": 18,
    "start_time": "2023-02-21T12:44:32.825Z"
   },
   {
    "duration": 5,
    "start_time": "2023-02-21T12:44:32.844Z"
   },
   {
    "duration": 397,
    "start_time": "2023-02-21T12:44:32.851Z"
   },
   {
    "duration": 7,
    "start_time": "2023-02-21T12:44:33.250Z"
   },
   {
    "duration": 34,
    "start_time": "2023-02-21T12:44:33.259Z"
   },
   {
    "duration": 20,
    "start_time": "2023-02-21T12:44:33.295Z"
   },
   {
    "duration": 24,
    "start_time": "2023-02-21T12:44:33.317Z"
   },
   {
    "duration": 20,
    "start_time": "2023-02-21T12:44:33.343Z"
   },
   {
    "duration": 20,
    "start_time": "2023-02-21T12:44:33.365Z"
   },
   {
    "duration": 38,
    "start_time": "2023-02-21T12:44:33.387Z"
   },
   {
    "duration": 13,
    "start_time": "2023-02-21T12:44:33.427Z"
   },
   {
    "duration": 96,
    "start_time": "2023-02-21T12:44:33.441Z"
   },
   {
    "duration": 153,
    "start_time": "2023-02-21T12:44:33.538Z"
   },
   {
    "duration": 398,
    "start_time": "2023-02-21T12:44:33.693Z"
   },
   {
    "duration": 3,
    "start_time": "2023-02-21T12:44:34.093Z"
   },
   {
    "duration": 1911,
    "start_time": "2023-02-21T12:44:34.097Z"
   },
   {
    "duration": 225,
    "start_time": "2023-02-21T12:44:36.010Z"
   },
   {
    "duration": 42,
    "start_time": "2023-02-21T12:44:36.238Z"
   },
   {
    "duration": 12,
    "start_time": "2023-02-21T12:44:36.281Z"
   },
   {
    "duration": 27,
    "start_time": "2023-02-21T12:44:36.295Z"
   },
   {
    "duration": 17,
    "start_time": "2023-02-21T12:44:36.324Z"
   },
   {
    "duration": 35,
    "start_time": "2023-02-21T12:44:36.344Z"
   },
   {
    "duration": 8,
    "start_time": "2023-02-21T12:44:36.381Z"
   },
   {
    "duration": 361,
    "start_time": "2023-02-21T12:44:42.744Z"
   },
   {
    "duration": 423,
    "start_time": "2023-02-21T12:44:46.397Z"
   },
   {
    "duration": 345,
    "start_time": "2023-02-21T12:44:50.084Z"
   },
   {
    "duration": 370,
    "start_time": "2023-02-21T12:44:55.394Z"
   },
   {
    "duration": 366,
    "start_time": "2023-02-21T12:45:00.559Z"
   },
   {
    "duration": 364,
    "start_time": "2023-02-21T12:45:12.470Z"
   },
   {
    "duration": 165,
    "start_time": "2023-02-21T12:47:24.951Z"
   },
   {
    "duration": 1366,
    "start_time": "2023-02-21T12:47:58.628Z"
   },
   {
    "duration": 32,
    "start_time": "2023-02-21T12:47:59.996Z"
   },
   {
    "duration": 14,
    "start_time": "2023-02-21T12:48:00.029Z"
   },
   {
    "duration": 11,
    "start_time": "2023-02-21T12:48:00.045Z"
   },
   {
    "duration": 23,
    "start_time": "2023-02-21T12:48:00.058Z"
   },
   {
    "duration": 4,
    "start_time": "2023-02-21T12:48:00.083Z"
   },
   {
    "duration": 4,
    "start_time": "2023-02-21T12:48:00.091Z"
   },
   {
    "duration": 7,
    "start_time": "2023-02-21T12:48:00.096Z"
   },
   {
    "duration": 344,
    "start_time": "2023-02-21T12:48:00.104Z"
   },
   {
    "duration": 5,
    "start_time": "2023-02-21T12:48:00.451Z"
   },
   {
    "duration": 33,
    "start_time": "2023-02-21T12:48:00.457Z"
   },
   {
    "duration": 28,
    "start_time": "2023-02-21T12:48:00.491Z"
   },
   {
    "duration": 29,
    "start_time": "2023-02-21T12:48:00.520Z"
   },
   {
    "duration": 34,
    "start_time": "2023-02-21T12:48:00.551Z"
   },
   {
    "duration": 26,
    "start_time": "2023-02-21T12:48:00.586Z"
   },
   {
    "duration": 48,
    "start_time": "2023-02-21T12:48:00.613Z"
   },
   {
    "duration": 32,
    "start_time": "2023-02-21T12:48:00.663Z"
   },
   {
    "duration": 107,
    "start_time": "2023-02-21T12:48:00.696Z"
   },
   {
    "duration": 150,
    "start_time": "2023-02-21T12:48:00.804Z"
   },
   {
    "duration": 371,
    "start_time": "2023-02-21T12:48:00.955Z"
   },
   {
    "duration": 2,
    "start_time": "2023-02-21T12:48:01.328Z"
   },
   {
    "duration": 1913,
    "start_time": "2023-02-21T12:48:01.333Z"
   },
   {
    "duration": 221,
    "start_time": "2023-02-21T12:48:03.248Z"
   },
   {
    "duration": 42,
    "start_time": "2023-02-21T12:48:03.471Z"
   },
   {
    "duration": 3,
    "start_time": "2023-02-21T12:48:03.514Z"
   },
   {
    "duration": 8,
    "start_time": "2023-02-21T12:48:03.519Z"
   },
   {
    "duration": 16,
    "start_time": "2023-02-21T12:48:03.528Z"
   },
   {
    "duration": 31,
    "start_time": "2023-02-21T12:48:03.547Z"
   },
   {
    "duration": 12,
    "start_time": "2023-02-21T12:48:03.579Z"
   },
   {
    "duration": 1365,
    "start_time": "2023-02-21T12:57:02.708Z"
   },
   {
    "duration": 115,
    "start_time": "2023-02-21T12:57:04.075Z"
   },
   {
    "duration": 13,
    "start_time": "2023-02-21T12:57:04.192Z"
   },
   {
    "duration": 10,
    "start_time": "2023-02-21T12:57:04.207Z"
   },
   {
    "duration": 21,
    "start_time": "2023-02-21T12:57:04.219Z"
   },
   {
    "duration": 5,
    "start_time": "2023-02-21T12:57:04.241Z"
   },
   {
    "duration": 7,
    "start_time": "2023-02-21T12:57:04.247Z"
   },
   {
    "duration": 37,
    "start_time": "2023-02-21T12:57:04.255Z"
   },
   {
    "duration": 348,
    "start_time": "2023-02-21T12:57:04.293Z"
   },
   {
    "duration": 6,
    "start_time": "2023-02-21T12:57:04.643Z"
   },
   {
    "duration": 9,
    "start_time": "2023-02-21T12:57:04.650Z"
   },
   {
    "duration": 12,
    "start_time": "2023-02-21T12:57:04.661Z"
   },
   {
    "duration": 18,
    "start_time": "2023-02-21T12:57:04.674Z"
   },
   {
    "duration": 3,
    "start_time": "2023-02-21T12:57:04.694Z"
   },
   {
    "duration": 6,
    "start_time": "2023-02-21T12:57:04.699Z"
   },
   {
    "duration": 9,
    "start_time": "2023-02-21T12:57:04.706Z"
   },
   {
    "duration": 8,
    "start_time": "2023-02-21T12:57:04.717Z"
   },
   {
    "duration": 93,
    "start_time": "2023-02-21T12:57:04.727Z"
   },
   {
    "duration": 172,
    "start_time": "2023-02-21T12:57:04.821Z"
   },
   {
    "duration": 387,
    "start_time": "2023-02-21T12:57:04.995Z"
   },
   {
    "duration": 3,
    "start_time": "2023-02-21T12:57:05.383Z"
   },
   {
    "duration": 2067,
    "start_time": "2023-02-21T12:57:05.391Z"
   },
   {
    "duration": 223,
    "start_time": "2023-02-21T12:57:07.459Z"
   },
   {
    "duration": 34,
    "start_time": "2023-02-21T12:57:07.691Z"
   },
   {
    "duration": 4,
    "start_time": "2023-02-21T12:57:07.726Z"
   },
   {
    "duration": 6,
    "start_time": "2023-02-21T12:57:07.731Z"
   },
   {
    "duration": 12,
    "start_time": "2023-02-21T12:57:07.739Z"
   },
   {
    "duration": 16,
    "start_time": "2023-02-21T12:57:07.755Z"
   },
   {
    "duration": 22,
    "start_time": "2023-02-21T12:57:07.773Z"
   },
   {
    "duration": 4,
    "start_time": "2023-02-21T12:57:58.675Z"
   },
   {
    "duration": 1357,
    "start_time": "2023-02-21T12:58:05.247Z"
   },
   {
    "duration": 60,
    "start_time": "2023-02-21T12:58:06.607Z"
   },
   {
    "duration": 19,
    "start_time": "2023-02-21T12:58:06.669Z"
   },
   {
    "duration": 20,
    "start_time": "2023-02-21T12:58:06.690Z"
   },
   {
    "duration": 53,
    "start_time": "2023-02-21T12:58:06.713Z"
   },
   {
    "duration": 7,
    "start_time": "2023-02-21T12:58:06.768Z"
   },
   {
    "duration": 11,
    "start_time": "2023-02-21T12:58:06.777Z"
   },
   {
    "duration": 6,
    "start_time": "2023-02-21T12:58:06.790Z"
   },
   {
    "duration": 358,
    "start_time": "2023-02-21T12:58:06.798Z"
   },
   {
    "duration": 6,
    "start_time": "2023-02-21T12:58:07.158Z"
   },
   {
    "duration": 12,
    "start_time": "2023-02-21T12:58:07.165Z"
   },
   {
    "duration": 14,
    "start_time": "2023-02-21T12:58:07.178Z"
   },
   {
    "duration": 6,
    "start_time": "2023-02-21T12:58:07.194Z"
   },
   {
    "duration": 5,
    "start_time": "2023-02-21T12:58:07.203Z"
   },
   {
    "duration": 11,
    "start_time": "2023-02-21T12:58:07.209Z"
   },
   {
    "duration": 5,
    "start_time": "2023-02-21T12:58:07.222Z"
   },
   {
    "duration": 8,
    "start_time": "2023-02-21T12:58:07.228Z"
   },
   {
    "duration": 92,
    "start_time": "2023-02-21T12:58:07.238Z"
   },
   {
    "duration": 157,
    "start_time": "2023-02-21T12:58:07.331Z"
   },
   {
    "duration": 371,
    "start_time": "2023-02-21T12:58:07.489Z"
   },
   {
    "duration": 3,
    "start_time": "2023-02-21T12:58:07.862Z"
   },
   {
    "duration": 1887,
    "start_time": "2023-02-21T12:58:07.867Z"
   },
   {
    "duration": 242,
    "start_time": "2023-02-21T12:58:09.756Z"
   },
   {
    "duration": 45,
    "start_time": "2023-02-21T12:58:10.000Z"
   },
   {
    "duration": 5,
    "start_time": "2023-02-21T12:58:10.048Z"
   },
   {
    "duration": 21,
    "start_time": "2023-02-21T12:58:10.056Z"
   },
   {
    "duration": 22,
    "start_time": "2023-02-21T12:58:10.079Z"
   },
   {
    "duration": 20,
    "start_time": "2023-02-21T12:58:10.103Z"
   },
   {
    "duration": 6,
    "start_time": "2023-02-21T12:58:10.124Z"
   },
   {
    "duration": 1372,
    "start_time": "2023-02-21T13:08:28.595Z"
   },
   {
    "duration": 91,
    "start_time": "2023-02-21T13:08:29.969Z"
   },
   {
    "duration": 14,
    "start_time": "2023-02-21T13:08:30.062Z"
   },
   {
    "duration": 18,
    "start_time": "2023-02-21T13:08:30.078Z"
   },
   {
    "duration": 47,
    "start_time": "2023-02-21T13:08:30.097Z"
   },
   {
    "duration": 10,
    "start_time": "2023-02-21T13:08:30.145Z"
   },
   {
    "duration": 33,
    "start_time": "2023-02-21T13:08:30.156Z"
   },
   {
    "duration": 39,
    "start_time": "2023-02-21T13:08:30.190Z"
   },
   {
    "duration": 414,
    "start_time": "2023-02-21T13:08:30.231Z"
   },
   {
    "duration": 5,
    "start_time": "2023-02-21T13:08:30.648Z"
   },
   {
    "duration": 32,
    "start_time": "2023-02-21T13:08:30.655Z"
   },
   {
    "duration": 13,
    "start_time": "2023-02-21T13:08:30.689Z"
   },
   {
    "duration": 17,
    "start_time": "2023-02-21T13:08:30.704Z"
   },
   {
    "duration": 15,
    "start_time": "2023-02-21T13:08:30.723Z"
   },
   {
    "duration": 13,
    "start_time": "2023-02-21T13:08:30.740Z"
   },
   {
    "duration": 18,
    "start_time": "2023-02-21T13:08:30.754Z"
   },
   {
    "duration": 26,
    "start_time": "2023-02-21T13:08:30.774Z"
   },
   {
    "duration": 110,
    "start_time": "2023-02-21T13:08:30.802Z"
   },
   {
    "duration": 174,
    "start_time": "2023-02-21T13:08:30.914Z"
   },
   {
    "duration": 387,
    "start_time": "2023-02-21T13:08:31.090Z"
   },
   {
    "duration": 2,
    "start_time": "2023-02-21T13:08:31.479Z"
   },
   {
    "duration": 1924,
    "start_time": "2023-02-21T13:08:31.491Z"
   },
   {
    "duration": 221,
    "start_time": "2023-02-21T13:08:33.417Z"
   },
   {
    "duration": 36,
    "start_time": "2023-02-21T13:08:33.639Z"
   },
   {
    "duration": 16,
    "start_time": "2023-02-21T13:08:33.676Z"
   },
   {
    "duration": 6,
    "start_time": "2023-02-21T13:08:33.694Z"
   },
   {
    "duration": 13,
    "start_time": "2023-02-21T13:08:33.702Z"
   },
   {
    "duration": 17,
    "start_time": "2023-02-21T13:08:33.717Z"
   },
   {
    "duration": 4,
    "start_time": "2023-02-21T13:08:33.735Z"
   }
  ],
  "kernelspec": {
   "display_name": "Python 3 (ipykernel)",
   "language": "python",
   "name": "python3"
  },
  "language_info": {
   "codemirror_mode": {
    "name": "ipython",
    "version": 3
   },
   "file_extension": ".py",
   "mimetype": "text/x-python",
   "name": "python",
   "nbconvert_exporter": "python",
   "pygments_lexer": "ipython3",
   "version": "3.9.5"
  },
  "toc": {
   "base_numbering": 1,
   "nav_menu": {},
   "number_sections": true,
   "sideBar": true,
   "skip_h1_title": true,
   "title_cell": "Содержание",
   "title_sidebar": "Contents",
   "toc_cell": true,
   "toc_position": {},
   "toc_section_display": true,
   "toc_window_display": true
  }
 },
 "nbformat": 4,
 "nbformat_minor": 2
}

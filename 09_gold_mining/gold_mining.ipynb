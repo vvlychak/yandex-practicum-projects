{
  "cells": [
    {
      "cell_type": "markdown",
      "metadata": {
        "toc": true,
        "id": "nqqrMD8jPsyf"
      },
      "source": [
        "<h1>Содержание<span class=\"tocSkip\"></span></h1>\n",
        "<div class=\"toc\"><ul class=\"toc-item\"><li><span><a href=\"#Подготовка-данных\" data-toc-modified-id=\"Подготовка-данных-1\"><span class=\"toc-item-num\">1&nbsp;&nbsp;</span>Подготовка данных</a></span></li><li><span><a href=\"#Анализ-данных\" data-toc-modified-id=\"Анализ-данных-2\"><span class=\"toc-item-num\">2&nbsp;&nbsp;</span>Анализ данных</a></span></li><li><span><a href=\"#Построение-и-обучение-модели\" data-toc-modified-id=\"Построение-и-обучение-модели-3\"><span class=\"toc-item-num\">3&nbsp;&nbsp;</span>Построение и обучение модели</a></span></li><li><span><a href=\"#Общий-вывод\" data-toc-modified-id=\"Общий-вывод-4\"><span class=\"toc-item-num\">4&nbsp;&nbsp;</span>Общий вывод</a></span></li></ul></div>"
      ]
    },
    {
      "cell_type": "markdown",
      "metadata": {
        "id": "oAGLaT9TPsyj"
      },
      "source": [
        "# Восстановление золота из руды"
      ]
    },
    {
      "cell_type": "markdown",
      "metadata": {
        "id": "dFvyyABvPsyj"
      },
      "source": [
        "Нужно подготовить прототип модели машинного обучения для «Цифры». Компания разрабатывает решения для эффективной работы промышленных предприятий. Модель должна предсказать коэффициент восстановления золота из золотосодержащей руды. Необходимо использовать данные с параметрами добычи и очистки. Модель поможет оптимизировать производство, чтобы не запускать предприятие с убыточными характеристиками.\n",
        "\n",
        "# Цель исследования\n",
        "Построить и обучить модель предсказания коэффициента восстановления золота из золотосодержащей руды.\n",
        "Нужно спрогнозировать:\n",
        "- эффективность обогащения чернового концентрата `rougher.output.recovery`;\n",
        "- эффективность обогащения финального концентрата `final.output.recovery`.\n",
        "\n",
        "# Описание данных\n",
        "**Технологический процесс**\n",
        "- `Rougher feed` — исходное сырье\n",
        "- `Rougher additions` (или reagent additions) — флотационные реагенты: Xanthate, Sulphate, Depressant\n",
        "- `Xanthate`— ксантогенат (промотер, или активатор флотации);\n",
        "- `Sulphate` — сульфат (на данном производстве сульфид натрия);\n",
        "- `Depressant` — депрессант (силикат натрия).\n",
        "- `Rougher process` (англ. «грубый процесс») — флотация\n",
        "- `Rougher tails` — отвальные хвосты\n",
        "- `Float banks` — флотационная установка\n",
        "- `Cleaner process` — очистка\n",
        "- `Rougher Au` — черновой концентрат золота\n",
        "- `Final Au` — финальный концентрат золота\n",
        "\n",
        "**Параметры этапов**\n",
        "- `air amount` — объём воздуха\n",
        "- `fluid levels` — уровень жидкости\n",
        "- `feed size` — размер гранул сырья\n",
        "- `feed rate` — скорость подачи\n",
        "\n",
        "**Наименование признаков**\n",
        "\n",
        "Наименование признаков должно быть такое:\n",
        "`[этап].[тип_параметра].[название_параметра]`\n",
        "\n",
        "Пример: `rougher.input.feed_ag`\n",
        "\n",
        "Возможные значения для блока `[этап]`:\n",
        "- `rougher` — флотация\n",
        "- `primary_cleaner` — первичная очистка\n",
        "- `secondary_cleaner` — вторичная очистка\n",
        "- `final` — финальные характеристики\n",
        "\n",
        "Возможные значения для блока `[тип_параметра]`:\n",
        "- `input` — параметры сырья\n",
        "- `output` — параметры продукта\n",
        "- `state` — параметры, характеризующие текущее состояние этапа\n",
        "- `calculation` — расчётные характеристики\n",
        "\n",
        "Данные индексируются датой и временем получения информации (признак `date`). Соседние по времени параметры часто похожи.\n",
        "Некоторые параметры недоступны, потому что замеряются и/или рассчитываются значительно позже. Из-за этого в тестовой выборке отсутствуют некоторые признаки, которые могут быть в обучающей. Также в тестовом наборе нет целевых признаков.\n",
        "Исходный датасет содержит обучающую и тестовую выборки со всеми признаками.\n",
        "В нашем распоряжении сырые данные: их просто выгрузили из хранилища. \n",
        "\n",
        "# Этапы исследования\n",
        "1.  Подготовка данных\n",
        "2.  Анализ данных\n",
        "3.  Построение и обучение модели\n"
      ]
    },
    {
      "cell_type": "markdown",
      "metadata": {
        "id": "A5lgkZLePsyl"
      },
      "source": [
        "## Подготовка данных"
      ]
    },
    {
      "cell_type": "code",
      "execution_count": null,
      "metadata": {
        "id": "jGH4ggD0Psyl"
      },
      "outputs": [],
      "source": [
        "# импортируем нужные библиотеки\n",
        "\n",
        "import pandas as pd\n",
        "from sklearn.metrics import mean_absolute_error\n",
        "from sklearn.metrics import make_scorer\n",
        "from sklearn.preprocessing import StandardScaler\n",
        "from sklearn.tree import DecisionTreeRegressor\n",
        "from sklearn.ensemble import RandomForestRegressor\n",
        "from sklearn.linear_model import Lasso\n",
        "from sklearn.dummy import DummyRegressor\n",
        "from sklearn.model_selection import RandomizedSearchCV\n",
        "import seaborn as sns\n",
        "import matplotlib.pyplot as plt\n",
        "import warnings\n",
        "warnings.filterwarnings(\"ignore\")"
      ]
    },
    {
      "cell_type": "code",
      "execution_count": null,
      "metadata": {
        "id": "ZSt79gv2Psym"
      },
      "outputs": [],
      "source": [
        "# сохраним данные в отдельные переменные\n",
        "\n",
        "train = pd.read_csv('***')\n",
        "test = pd.read_csv('***')\n",
        "full = pd.read_csv('***')"
      ]
    },
    {
      "cell_type": "markdown",
      "metadata": {
        "id": "bVN--k8DPsym"
      },
      "source": [
        "Посмотрим на первые 5 строк каждой таблицы."
      ]
    },
    {
      "cell_type": "code",
      "execution_count": null,
      "metadata": {
        "id": "lixufqtJPsyn",
        "outputId": "1a4ea207-9ce4-4f46-8521-4698a4c8f1b9"
      },
      "outputs": [
        {
          "data": {
            "text/html": [
              "<div>\n",
              "<style scoped>\n",
              "    .dataframe tbody tr th:only-of-type {\n",
              "        vertical-align: middle;\n",
              "    }\n",
              "\n",
              "    .dataframe tbody tr th {\n",
              "        vertical-align: top;\n",
              "    }\n",
              "\n",
              "    .dataframe thead th {\n",
              "        text-align: right;\n",
              "    }\n",
              "</style>\n",
              "<table border=\"1\" class=\"dataframe\">\n",
              "  <thead>\n",
              "    <tr style=\"text-align: right;\">\n",
              "      <th></th>\n",
              "      <th>date</th>\n",
              "      <th>final.output.concentrate_ag</th>\n",
              "      <th>final.output.concentrate_pb</th>\n",
              "      <th>final.output.concentrate_sol</th>\n",
              "      <th>final.output.concentrate_au</th>\n",
              "      <th>final.output.recovery</th>\n",
              "      <th>final.output.tail_ag</th>\n",
              "      <th>final.output.tail_pb</th>\n",
              "      <th>final.output.tail_sol</th>\n",
              "      <th>final.output.tail_au</th>\n",
              "      <th>...</th>\n",
              "      <th>secondary_cleaner.state.floatbank4_a_air</th>\n",
              "      <th>secondary_cleaner.state.floatbank4_a_level</th>\n",
              "      <th>secondary_cleaner.state.floatbank4_b_air</th>\n",
              "      <th>secondary_cleaner.state.floatbank4_b_level</th>\n",
              "      <th>secondary_cleaner.state.floatbank5_a_air</th>\n",
              "      <th>secondary_cleaner.state.floatbank5_a_level</th>\n",
              "      <th>secondary_cleaner.state.floatbank5_b_air</th>\n",
              "      <th>secondary_cleaner.state.floatbank5_b_level</th>\n",
              "      <th>secondary_cleaner.state.floatbank6_a_air</th>\n",
              "      <th>secondary_cleaner.state.floatbank6_a_level</th>\n",
              "    </tr>\n",
              "  </thead>\n",
              "  <tbody>\n",
              "    <tr>\n",
              "      <th>0</th>\n",
              "      <td>2016-01-15 00:00:00</td>\n",
              "      <td>6.055403</td>\n",
              "      <td>9.889648</td>\n",
              "      <td>5.507324</td>\n",
              "      <td>42.192020</td>\n",
              "      <td>70.541216</td>\n",
              "      <td>10.411962</td>\n",
              "      <td>0.895447</td>\n",
              "      <td>16.904297</td>\n",
              "      <td>2.143149</td>\n",
              "      <td>...</td>\n",
              "      <td>14.016835</td>\n",
              "      <td>-502.488007</td>\n",
              "      <td>12.099931</td>\n",
              "      <td>-504.715942</td>\n",
              "      <td>9.925633</td>\n",
              "      <td>-498.310211</td>\n",
              "      <td>8.079666</td>\n",
              "      <td>-500.470978</td>\n",
              "      <td>14.151341</td>\n",
              "      <td>-605.841980</td>\n",
              "    </tr>\n",
              "    <tr>\n",
              "      <th>1</th>\n",
              "      <td>2016-01-15 01:00:00</td>\n",
              "      <td>6.029369</td>\n",
              "      <td>9.968944</td>\n",
              "      <td>5.257781</td>\n",
              "      <td>42.701629</td>\n",
              "      <td>69.266198</td>\n",
              "      <td>10.462676</td>\n",
              "      <td>0.927452</td>\n",
              "      <td>16.634514</td>\n",
              "      <td>2.224930</td>\n",
              "      <td>...</td>\n",
              "      <td>13.992281</td>\n",
              "      <td>-505.503262</td>\n",
              "      <td>11.950531</td>\n",
              "      <td>-501.331529</td>\n",
              "      <td>10.039245</td>\n",
              "      <td>-500.169983</td>\n",
              "      <td>7.984757</td>\n",
              "      <td>-500.582168</td>\n",
              "      <td>13.998353</td>\n",
              "      <td>-599.787184</td>\n",
              "    </tr>\n",
              "    <tr>\n",
              "      <th>2</th>\n",
              "      <td>2016-01-15 02:00:00</td>\n",
              "      <td>6.055926</td>\n",
              "      <td>10.213995</td>\n",
              "      <td>5.383759</td>\n",
              "      <td>42.657501</td>\n",
              "      <td>68.116445</td>\n",
              "      <td>10.507046</td>\n",
              "      <td>0.953716</td>\n",
              "      <td>16.208849</td>\n",
              "      <td>2.257889</td>\n",
              "      <td>...</td>\n",
              "      <td>14.015015</td>\n",
              "      <td>-502.520901</td>\n",
              "      <td>11.912783</td>\n",
              "      <td>-501.133383</td>\n",
              "      <td>10.070913</td>\n",
              "      <td>-500.129135</td>\n",
              "      <td>8.013877</td>\n",
              "      <td>-500.517572</td>\n",
              "      <td>14.028663</td>\n",
              "      <td>-601.427363</td>\n",
              "    </tr>\n",
              "    <tr>\n",
              "      <th>3</th>\n",
              "      <td>2016-01-15 03:00:00</td>\n",
              "      <td>6.047977</td>\n",
              "      <td>9.977019</td>\n",
              "      <td>4.858634</td>\n",
              "      <td>42.689819</td>\n",
              "      <td>68.347543</td>\n",
              "      <td>10.422762</td>\n",
              "      <td>0.883763</td>\n",
              "      <td>16.532835</td>\n",
              "      <td>2.146849</td>\n",
              "      <td>...</td>\n",
              "      <td>14.036510</td>\n",
              "      <td>-500.857308</td>\n",
              "      <td>11.999550</td>\n",
              "      <td>-501.193686</td>\n",
              "      <td>9.970366</td>\n",
              "      <td>-499.201640</td>\n",
              "      <td>7.977324</td>\n",
              "      <td>-500.255908</td>\n",
              "      <td>14.005551</td>\n",
              "      <td>-599.996129</td>\n",
              "    </tr>\n",
              "    <tr>\n",
              "      <th>4</th>\n",
              "      <td>2016-01-15 04:00:00</td>\n",
              "      <td>6.148599</td>\n",
              "      <td>10.142511</td>\n",
              "      <td>4.939416</td>\n",
              "      <td>42.774141</td>\n",
              "      <td>66.927016</td>\n",
              "      <td>10.360302</td>\n",
              "      <td>0.792826</td>\n",
              "      <td>16.525686</td>\n",
              "      <td>2.055292</td>\n",
              "      <td>...</td>\n",
              "      <td>14.027298</td>\n",
              "      <td>-499.838632</td>\n",
              "      <td>11.953070</td>\n",
              "      <td>-501.053894</td>\n",
              "      <td>9.925709</td>\n",
              "      <td>-501.686727</td>\n",
              "      <td>7.894242</td>\n",
              "      <td>-500.356035</td>\n",
              "      <td>13.996647</td>\n",
              "      <td>-601.496691</td>\n",
              "    </tr>\n",
              "  </tbody>\n",
              "</table>\n",
              "<p>5 rows × 87 columns</p>\n",
              "</div>"
            ],
            "text/plain": [
              "                  date  final.output.concentrate_ag  \\\n",
              "0  2016-01-15 00:00:00                     6.055403   \n",
              "1  2016-01-15 01:00:00                     6.029369   \n",
              "2  2016-01-15 02:00:00                     6.055926   \n",
              "3  2016-01-15 03:00:00                     6.047977   \n",
              "4  2016-01-15 04:00:00                     6.148599   \n",
              "\n",
              "   final.output.concentrate_pb  final.output.concentrate_sol  \\\n",
              "0                     9.889648                      5.507324   \n",
              "1                     9.968944                      5.257781   \n",
              "2                    10.213995                      5.383759   \n",
              "3                     9.977019                      4.858634   \n",
              "4                    10.142511                      4.939416   \n",
              "\n",
              "   final.output.concentrate_au  final.output.recovery  final.output.tail_ag  \\\n",
              "0                    42.192020              70.541216             10.411962   \n",
              "1                    42.701629              69.266198             10.462676   \n",
              "2                    42.657501              68.116445             10.507046   \n",
              "3                    42.689819              68.347543             10.422762   \n",
              "4                    42.774141              66.927016             10.360302   \n",
              "\n",
              "   final.output.tail_pb  final.output.tail_sol  final.output.tail_au  ...  \\\n",
              "0              0.895447              16.904297              2.143149  ...   \n",
              "1              0.927452              16.634514              2.224930  ...   \n",
              "2              0.953716              16.208849              2.257889  ...   \n",
              "3              0.883763              16.532835              2.146849  ...   \n",
              "4              0.792826              16.525686              2.055292  ...   \n",
              "\n",
              "   secondary_cleaner.state.floatbank4_a_air  \\\n",
              "0                                 14.016835   \n",
              "1                                 13.992281   \n",
              "2                                 14.015015   \n",
              "3                                 14.036510   \n",
              "4                                 14.027298   \n",
              "\n",
              "   secondary_cleaner.state.floatbank4_a_level  \\\n",
              "0                                 -502.488007   \n",
              "1                                 -505.503262   \n",
              "2                                 -502.520901   \n",
              "3                                 -500.857308   \n",
              "4                                 -499.838632   \n",
              "\n",
              "   secondary_cleaner.state.floatbank4_b_air  \\\n",
              "0                                 12.099931   \n",
              "1                                 11.950531   \n",
              "2                                 11.912783   \n",
              "3                                 11.999550   \n",
              "4                                 11.953070   \n",
              "\n",
              "   secondary_cleaner.state.floatbank4_b_level  \\\n",
              "0                                 -504.715942   \n",
              "1                                 -501.331529   \n",
              "2                                 -501.133383   \n",
              "3                                 -501.193686   \n",
              "4                                 -501.053894   \n",
              "\n",
              "   secondary_cleaner.state.floatbank5_a_air  \\\n",
              "0                                  9.925633   \n",
              "1                                 10.039245   \n",
              "2                                 10.070913   \n",
              "3                                  9.970366   \n",
              "4                                  9.925709   \n",
              "\n",
              "   secondary_cleaner.state.floatbank5_a_level  \\\n",
              "0                                 -498.310211   \n",
              "1                                 -500.169983   \n",
              "2                                 -500.129135   \n",
              "3                                 -499.201640   \n",
              "4                                 -501.686727   \n",
              "\n",
              "   secondary_cleaner.state.floatbank5_b_air  \\\n",
              "0                                  8.079666   \n",
              "1                                  7.984757   \n",
              "2                                  8.013877   \n",
              "3                                  7.977324   \n",
              "4                                  7.894242   \n",
              "\n",
              "   secondary_cleaner.state.floatbank5_b_level  \\\n",
              "0                                 -500.470978   \n",
              "1                                 -500.582168   \n",
              "2                                 -500.517572   \n",
              "3                                 -500.255908   \n",
              "4                                 -500.356035   \n",
              "\n",
              "   secondary_cleaner.state.floatbank6_a_air  \\\n",
              "0                                 14.151341   \n",
              "1                                 13.998353   \n",
              "2                                 14.028663   \n",
              "3                                 14.005551   \n",
              "4                                 13.996647   \n",
              "\n",
              "   secondary_cleaner.state.floatbank6_a_level  \n",
              "0                                 -605.841980  \n",
              "1                                 -599.787184  \n",
              "2                                 -601.427363  \n",
              "3                                 -599.996129  \n",
              "4                                 -601.496691  \n",
              "\n",
              "[5 rows x 87 columns]"
            ]
          },
          "execution_count": 3,
          "metadata": {},
          "output_type": "execute_result"
        }
      ],
      "source": [
        "train.head()"
      ]
    },
    {
      "cell_type": "code",
      "execution_count": null,
      "metadata": {
        "scrolled": false,
        "id": "bv2DR4PhPsyo",
        "outputId": "0632ebba-3848-4e1a-bb06-d044205ebc2e"
      },
      "outputs": [
        {
          "data": {
            "text/html": [
              "<div>\n",
              "<style scoped>\n",
              "    .dataframe tbody tr th:only-of-type {\n",
              "        vertical-align: middle;\n",
              "    }\n",
              "\n",
              "    .dataframe tbody tr th {\n",
              "        vertical-align: top;\n",
              "    }\n",
              "\n",
              "    .dataframe thead th {\n",
              "        text-align: right;\n",
              "    }\n",
              "</style>\n",
              "<table border=\"1\" class=\"dataframe\">\n",
              "  <thead>\n",
              "    <tr style=\"text-align: right;\">\n",
              "      <th></th>\n",
              "      <th>date</th>\n",
              "      <th>primary_cleaner.input.sulfate</th>\n",
              "      <th>primary_cleaner.input.depressant</th>\n",
              "      <th>primary_cleaner.input.feed_size</th>\n",
              "      <th>primary_cleaner.input.xanthate</th>\n",
              "      <th>primary_cleaner.state.floatbank8_a_air</th>\n",
              "      <th>primary_cleaner.state.floatbank8_a_level</th>\n",
              "      <th>primary_cleaner.state.floatbank8_b_air</th>\n",
              "      <th>primary_cleaner.state.floatbank8_b_level</th>\n",
              "      <th>primary_cleaner.state.floatbank8_c_air</th>\n",
              "      <th>...</th>\n",
              "      <th>secondary_cleaner.state.floatbank4_a_air</th>\n",
              "      <th>secondary_cleaner.state.floatbank4_a_level</th>\n",
              "      <th>secondary_cleaner.state.floatbank4_b_air</th>\n",
              "      <th>secondary_cleaner.state.floatbank4_b_level</th>\n",
              "      <th>secondary_cleaner.state.floatbank5_a_air</th>\n",
              "      <th>secondary_cleaner.state.floatbank5_a_level</th>\n",
              "      <th>secondary_cleaner.state.floatbank5_b_air</th>\n",
              "      <th>secondary_cleaner.state.floatbank5_b_level</th>\n",
              "      <th>secondary_cleaner.state.floatbank6_a_air</th>\n",
              "      <th>secondary_cleaner.state.floatbank6_a_level</th>\n",
              "    </tr>\n",
              "  </thead>\n",
              "  <tbody>\n",
              "    <tr>\n",
              "      <th>0</th>\n",
              "      <td>2016-09-01 00:59:59</td>\n",
              "      <td>210.800909</td>\n",
              "      <td>14.993118</td>\n",
              "      <td>8.080000</td>\n",
              "      <td>1.005021</td>\n",
              "      <td>1398.981301</td>\n",
              "      <td>-500.225577</td>\n",
              "      <td>1399.144926</td>\n",
              "      <td>-499.919735</td>\n",
              "      <td>1400.102998</td>\n",
              "      <td>...</td>\n",
              "      <td>12.023554</td>\n",
              "      <td>-497.795834</td>\n",
              "      <td>8.016656</td>\n",
              "      <td>-501.289139</td>\n",
              "      <td>7.946562</td>\n",
              "      <td>-432.317850</td>\n",
              "      <td>4.872511</td>\n",
              "      <td>-500.037437</td>\n",
              "      <td>26.705889</td>\n",
              "      <td>-499.709414</td>\n",
              "    </tr>\n",
              "    <tr>\n",
              "      <th>1</th>\n",
              "      <td>2016-09-01 01:59:59</td>\n",
              "      <td>215.392455</td>\n",
              "      <td>14.987471</td>\n",
              "      <td>8.080000</td>\n",
              "      <td>0.990469</td>\n",
              "      <td>1398.777912</td>\n",
              "      <td>-500.057435</td>\n",
              "      <td>1398.055362</td>\n",
              "      <td>-499.778182</td>\n",
              "      <td>1396.151033</td>\n",
              "      <td>...</td>\n",
              "      <td>12.058140</td>\n",
              "      <td>-498.695773</td>\n",
              "      <td>8.130979</td>\n",
              "      <td>-499.634209</td>\n",
              "      <td>7.958270</td>\n",
              "      <td>-525.839648</td>\n",
              "      <td>4.878850</td>\n",
              "      <td>-500.162375</td>\n",
              "      <td>25.019940</td>\n",
              "      <td>-499.819438</td>\n",
              "    </tr>\n",
              "    <tr>\n",
              "      <th>2</th>\n",
              "      <td>2016-09-01 02:59:59</td>\n",
              "      <td>215.259946</td>\n",
              "      <td>12.884934</td>\n",
              "      <td>7.786667</td>\n",
              "      <td>0.996043</td>\n",
              "      <td>1398.493666</td>\n",
              "      <td>-500.868360</td>\n",
              "      <td>1398.860436</td>\n",
              "      <td>-499.764529</td>\n",
              "      <td>1398.075709</td>\n",
              "      <td>...</td>\n",
              "      <td>11.962366</td>\n",
              "      <td>-498.767484</td>\n",
              "      <td>8.096893</td>\n",
              "      <td>-500.827423</td>\n",
              "      <td>8.071056</td>\n",
              "      <td>-500.801673</td>\n",
              "      <td>4.905125</td>\n",
              "      <td>-499.828510</td>\n",
              "      <td>24.994862</td>\n",
              "      <td>-500.622559</td>\n",
              "    </tr>\n",
              "    <tr>\n",
              "      <th>3</th>\n",
              "      <td>2016-09-01 03:59:59</td>\n",
              "      <td>215.336236</td>\n",
              "      <td>12.006805</td>\n",
              "      <td>7.640000</td>\n",
              "      <td>0.863514</td>\n",
              "      <td>1399.618111</td>\n",
              "      <td>-498.863574</td>\n",
              "      <td>1397.440120</td>\n",
              "      <td>-499.211024</td>\n",
              "      <td>1400.129303</td>\n",
              "      <td>...</td>\n",
              "      <td>12.033091</td>\n",
              "      <td>-498.350935</td>\n",
              "      <td>8.074946</td>\n",
              "      <td>-499.474407</td>\n",
              "      <td>7.897085</td>\n",
              "      <td>-500.868509</td>\n",
              "      <td>4.931400</td>\n",
              "      <td>-499.963623</td>\n",
              "      <td>24.948919</td>\n",
              "      <td>-498.709987</td>\n",
              "    </tr>\n",
              "    <tr>\n",
              "      <th>4</th>\n",
              "      <td>2016-09-01 04:59:59</td>\n",
              "      <td>199.099327</td>\n",
              "      <td>10.682530</td>\n",
              "      <td>7.530000</td>\n",
              "      <td>0.805575</td>\n",
              "      <td>1401.268123</td>\n",
              "      <td>-500.808305</td>\n",
              "      <td>1398.128818</td>\n",
              "      <td>-499.504543</td>\n",
              "      <td>1402.172226</td>\n",
              "      <td>...</td>\n",
              "      <td>12.025367</td>\n",
              "      <td>-500.786497</td>\n",
              "      <td>8.054678</td>\n",
              "      <td>-500.397500</td>\n",
              "      <td>8.107890</td>\n",
              "      <td>-509.526725</td>\n",
              "      <td>4.957674</td>\n",
              "      <td>-500.360026</td>\n",
              "      <td>25.003331</td>\n",
              "      <td>-500.856333</td>\n",
              "    </tr>\n",
              "  </tbody>\n",
              "</table>\n",
              "<p>5 rows × 53 columns</p>\n",
              "</div>"
            ],
            "text/plain": [
              "                  date  primary_cleaner.input.sulfate  \\\n",
              "0  2016-09-01 00:59:59                     210.800909   \n",
              "1  2016-09-01 01:59:59                     215.392455   \n",
              "2  2016-09-01 02:59:59                     215.259946   \n",
              "3  2016-09-01 03:59:59                     215.336236   \n",
              "4  2016-09-01 04:59:59                     199.099327   \n",
              "\n",
              "   primary_cleaner.input.depressant  primary_cleaner.input.feed_size  \\\n",
              "0                         14.993118                         8.080000   \n",
              "1                         14.987471                         8.080000   \n",
              "2                         12.884934                         7.786667   \n",
              "3                         12.006805                         7.640000   \n",
              "4                         10.682530                         7.530000   \n",
              "\n",
              "   primary_cleaner.input.xanthate  primary_cleaner.state.floatbank8_a_air  \\\n",
              "0                        1.005021                             1398.981301   \n",
              "1                        0.990469                             1398.777912   \n",
              "2                        0.996043                             1398.493666   \n",
              "3                        0.863514                             1399.618111   \n",
              "4                        0.805575                             1401.268123   \n",
              "\n",
              "   primary_cleaner.state.floatbank8_a_level  \\\n",
              "0                               -500.225577   \n",
              "1                               -500.057435   \n",
              "2                               -500.868360   \n",
              "3                               -498.863574   \n",
              "4                               -500.808305   \n",
              "\n",
              "   primary_cleaner.state.floatbank8_b_air  \\\n",
              "0                             1399.144926   \n",
              "1                             1398.055362   \n",
              "2                             1398.860436   \n",
              "3                             1397.440120   \n",
              "4                             1398.128818   \n",
              "\n",
              "   primary_cleaner.state.floatbank8_b_level  \\\n",
              "0                               -499.919735   \n",
              "1                               -499.778182   \n",
              "2                               -499.764529   \n",
              "3                               -499.211024   \n",
              "4                               -499.504543   \n",
              "\n",
              "   primary_cleaner.state.floatbank8_c_air  ...  \\\n",
              "0                             1400.102998  ...   \n",
              "1                             1396.151033  ...   \n",
              "2                             1398.075709  ...   \n",
              "3                             1400.129303  ...   \n",
              "4                             1402.172226  ...   \n",
              "\n",
              "   secondary_cleaner.state.floatbank4_a_air  \\\n",
              "0                                 12.023554   \n",
              "1                                 12.058140   \n",
              "2                                 11.962366   \n",
              "3                                 12.033091   \n",
              "4                                 12.025367   \n",
              "\n",
              "   secondary_cleaner.state.floatbank4_a_level  \\\n",
              "0                                 -497.795834   \n",
              "1                                 -498.695773   \n",
              "2                                 -498.767484   \n",
              "3                                 -498.350935   \n",
              "4                                 -500.786497   \n",
              "\n",
              "   secondary_cleaner.state.floatbank4_b_air  \\\n",
              "0                                  8.016656   \n",
              "1                                  8.130979   \n",
              "2                                  8.096893   \n",
              "3                                  8.074946   \n",
              "4                                  8.054678   \n",
              "\n",
              "   secondary_cleaner.state.floatbank4_b_level  \\\n",
              "0                                 -501.289139   \n",
              "1                                 -499.634209   \n",
              "2                                 -500.827423   \n",
              "3                                 -499.474407   \n",
              "4                                 -500.397500   \n",
              "\n",
              "   secondary_cleaner.state.floatbank5_a_air  \\\n",
              "0                                  7.946562   \n",
              "1                                  7.958270   \n",
              "2                                  8.071056   \n",
              "3                                  7.897085   \n",
              "4                                  8.107890   \n",
              "\n",
              "   secondary_cleaner.state.floatbank5_a_level  \\\n",
              "0                                 -432.317850   \n",
              "1                                 -525.839648   \n",
              "2                                 -500.801673   \n",
              "3                                 -500.868509   \n",
              "4                                 -509.526725   \n",
              "\n",
              "   secondary_cleaner.state.floatbank5_b_air  \\\n",
              "0                                  4.872511   \n",
              "1                                  4.878850   \n",
              "2                                  4.905125   \n",
              "3                                  4.931400   \n",
              "4                                  4.957674   \n",
              "\n",
              "   secondary_cleaner.state.floatbank5_b_level  \\\n",
              "0                                 -500.037437   \n",
              "1                                 -500.162375   \n",
              "2                                 -499.828510   \n",
              "3                                 -499.963623   \n",
              "4                                 -500.360026   \n",
              "\n",
              "   secondary_cleaner.state.floatbank6_a_air  \\\n",
              "0                                 26.705889   \n",
              "1                                 25.019940   \n",
              "2                                 24.994862   \n",
              "3                                 24.948919   \n",
              "4                                 25.003331   \n",
              "\n",
              "   secondary_cleaner.state.floatbank6_a_level  \n",
              "0                                 -499.709414  \n",
              "1                                 -499.819438  \n",
              "2                                 -500.622559  \n",
              "3                                 -498.709987  \n",
              "4                                 -500.856333  \n",
              "\n",
              "[5 rows x 53 columns]"
            ]
          },
          "execution_count": 4,
          "metadata": {},
          "output_type": "execute_result"
        }
      ],
      "source": [
        "test.head()"
      ]
    },
    {
      "cell_type": "code",
      "execution_count": null,
      "metadata": {
        "scrolled": false,
        "id": "RGZCMibVPsyo",
        "outputId": "05535f88-7bf2-4394-85c3-cb74aa2b7ed9"
      },
      "outputs": [
        {
          "data": {
            "text/html": [
              "<div>\n",
              "<style scoped>\n",
              "    .dataframe tbody tr th:only-of-type {\n",
              "        vertical-align: middle;\n",
              "    }\n",
              "\n",
              "    .dataframe tbody tr th {\n",
              "        vertical-align: top;\n",
              "    }\n",
              "\n",
              "    .dataframe thead th {\n",
              "        text-align: right;\n",
              "    }\n",
              "</style>\n",
              "<table border=\"1\" class=\"dataframe\">\n",
              "  <thead>\n",
              "    <tr style=\"text-align: right;\">\n",
              "      <th></th>\n",
              "      <th>date</th>\n",
              "      <th>final.output.concentrate_ag</th>\n",
              "      <th>final.output.concentrate_pb</th>\n",
              "      <th>final.output.concentrate_sol</th>\n",
              "      <th>final.output.concentrate_au</th>\n",
              "      <th>final.output.recovery</th>\n",
              "      <th>final.output.tail_ag</th>\n",
              "      <th>final.output.tail_pb</th>\n",
              "      <th>final.output.tail_sol</th>\n",
              "      <th>final.output.tail_au</th>\n",
              "      <th>...</th>\n",
              "      <th>secondary_cleaner.state.floatbank4_a_air</th>\n",
              "      <th>secondary_cleaner.state.floatbank4_a_level</th>\n",
              "      <th>secondary_cleaner.state.floatbank4_b_air</th>\n",
              "      <th>secondary_cleaner.state.floatbank4_b_level</th>\n",
              "      <th>secondary_cleaner.state.floatbank5_a_air</th>\n",
              "      <th>secondary_cleaner.state.floatbank5_a_level</th>\n",
              "      <th>secondary_cleaner.state.floatbank5_b_air</th>\n",
              "      <th>secondary_cleaner.state.floatbank5_b_level</th>\n",
              "      <th>secondary_cleaner.state.floatbank6_a_air</th>\n",
              "      <th>secondary_cleaner.state.floatbank6_a_level</th>\n",
              "    </tr>\n",
              "  </thead>\n",
              "  <tbody>\n",
              "    <tr>\n",
              "      <th>0</th>\n",
              "      <td>2016-01-15 00:00:00</td>\n",
              "      <td>6.055403</td>\n",
              "      <td>9.889648</td>\n",
              "      <td>5.507324</td>\n",
              "      <td>42.192020</td>\n",
              "      <td>70.541216</td>\n",
              "      <td>10.411962</td>\n",
              "      <td>0.895447</td>\n",
              "      <td>16.904297</td>\n",
              "      <td>2.143149</td>\n",
              "      <td>...</td>\n",
              "      <td>14.016835</td>\n",
              "      <td>-502.488007</td>\n",
              "      <td>12.099931</td>\n",
              "      <td>-504.715942</td>\n",
              "      <td>9.925633</td>\n",
              "      <td>-498.310211</td>\n",
              "      <td>8.079666</td>\n",
              "      <td>-500.470978</td>\n",
              "      <td>14.151341</td>\n",
              "      <td>-605.841980</td>\n",
              "    </tr>\n",
              "    <tr>\n",
              "      <th>1</th>\n",
              "      <td>2016-01-15 01:00:00</td>\n",
              "      <td>6.029369</td>\n",
              "      <td>9.968944</td>\n",
              "      <td>5.257781</td>\n",
              "      <td>42.701629</td>\n",
              "      <td>69.266198</td>\n",
              "      <td>10.462676</td>\n",
              "      <td>0.927452</td>\n",
              "      <td>16.634514</td>\n",
              "      <td>2.224930</td>\n",
              "      <td>...</td>\n",
              "      <td>13.992281</td>\n",
              "      <td>-505.503262</td>\n",
              "      <td>11.950531</td>\n",
              "      <td>-501.331529</td>\n",
              "      <td>10.039245</td>\n",
              "      <td>-500.169983</td>\n",
              "      <td>7.984757</td>\n",
              "      <td>-500.582168</td>\n",
              "      <td>13.998353</td>\n",
              "      <td>-599.787184</td>\n",
              "    </tr>\n",
              "    <tr>\n",
              "      <th>2</th>\n",
              "      <td>2016-01-15 02:00:00</td>\n",
              "      <td>6.055926</td>\n",
              "      <td>10.213995</td>\n",
              "      <td>5.383759</td>\n",
              "      <td>42.657501</td>\n",
              "      <td>68.116445</td>\n",
              "      <td>10.507046</td>\n",
              "      <td>0.953716</td>\n",
              "      <td>16.208849</td>\n",
              "      <td>2.257889</td>\n",
              "      <td>...</td>\n",
              "      <td>14.015015</td>\n",
              "      <td>-502.520901</td>\n",
              "      <td>11.912783</td>\n",
              "      <td>-501.133383</td>\n",
              "      <td>10.070913</td>\n",
              "      <td>-500.129135</td>\n",
              "      <td>8.013877</td>\n",
              "      <td>-500.517572</td>\n",
              "      <td>14.028663</td>\n",
              "      <td>-601.427363</td>\n",
              "    </tr>\n",
              "    <tr>\n",
              "      <th>3</th>\n",
              "      <td>2016-01-15 03:00:00</td>\n",
              "      <td>6.047977</td>\n",
              "      <td>9.977019</td>\n",
              "      <td>4.858634</td>\n",
              "      <td>42.689819</td>\n",
              "      <td>68.347543</td>\n",
              "      <td>10.422762</td>\n",
              "      <td>0.883763</td>\n",
              "      <td>16.532835</td>\n",
              "      <td>2.146849</td>\n",
              "      <td>...</td>\n",
              "      <td>14.036510</td>\n",
              "      <td>-500.857308</td>\n",
              "      <td>11.999550</td>\n",
              "      <td>-501.193686</td>\n",
              "      <td>9.970366</td>\n",
              "      <td>-499.201640</td>\n",
              "      <td>7.977324</td>\n",
              "      <td>-500.255908</td>\n",
              "      <td>14.005551</td>\n",
              "      <td>-599.996129</td>\n",
              "    </tr>\n",
              "    <tr>\n",
              "      <th>4</th>\n",
              "      <td>2016-01-15 04:00:00</td>\n",
              "      <td>6.148599</td>\n",
              "      <td>10.142511</td>\n",
              "      <td>4.939416</td>\n",
              "      <td>42.774141</td>\n",
              "      <td>66.927016</td>\n",
              "      <td>10.360302</td>\n",
              "      <td>0.792826</td>\n",
              "      <td>16.525686</td>\n",
              "      <td>2.055292</td>\n",
              "      <td>...</td>\n",
              "      <td>14.027298</td>\n",
              "      <td>-499.838632</td>\n",
              "      <td>11.953070</td>\n",
              "      <td>-501.053894</td>\n",
              "      <td>9.925709</td>\n",
              "      <td>-501.686727</td>\n",
              "      <td>7.894242</td>\n",
              "      <td>-500.356035</td>\n",
              "      <td>13.996647</td>\n",
              "      <td>-601.496691</td>\n",
              "    </tr>\n",
              "  </tbody>\n",
              "</table>\n",
              "<p>5 rows × 87 columns</p>\n",
              "</div>"
            ],
            "text/plain": [
              "                  date  final.output.concentrate_ag  \\\n",
              "0  2016-01-15 00:00:00                     6.055403   \n",
              "1  2016-01-15 01:00:00                     6.029369   \n",
              "2  2016-01-15 02:00:00                     6.055926   \n",
              "3  2016-01-15 03:00:00                     6.047977   \n",
              "4  2016-01-15 04:00:00                     6.148599   \n",
              "\n",
              "   final.output.concentrate_pb  final.output.concentrate_sol  \\\n",
              "0                     9.889648                      5.507324   \n",
              "1                     9.968944                      5.257781   \n",
              "2                    10.213995                      5.383759   \n",
              "3                     9.977019                      4.858634   \n",
              "4                    10.142511                      4.939416   \n",
              "\n",
              "   final.output.concentrate_au  final.output.recovery  final.output.tail_ag  \\\n",
              "0                    42.192020              70.541216             10.411962   \n",
              "1                    42.701629              69.266198             10.462676   \n",
              "2                    42.657501              68.116445             10.507046   \n",
              "3                    42.689819              68.347543             10.422762   \n",
              "4                    42.774141              66.927016             10.360302   \n",
              "\n",
              "   final.output.tail_pb  final.output.tail_sol  final.output.tail_au  ...  \\\n",
              "0              0.895447              16.904297              2.143149  ...   \n",
              "1              0.927452              16.634514              2.224930  ...   \n",
              "2              0.953716              16.208849              2.257889  ...   \n",
              "3              0.883763              16.532835              2.146849  ...   \n",
              "4              0.792826              16.525686              2.055292  ...   \n",
              "\n",
              "   secondary_cleaner.state.floatbank4_a_air  \\\n",
              "0                                 14.016835   \n",
              "1                                 13.992281   \n",
              "2                                 14.015015   \n",
              "3                                 14.036510   \n",
              "4                                 14.027298   \n",
              "\n",
              "   secondary_cleaner.state.floatbank4_a_level  \\\n",
              "0                                 -502.488007   \n",
              "1                                 -505.503262   \n",
              "2                                 -502.520901   \n",
              "3                                 -500.857308   \n",
              "4                                 -499.838632   \n",
              "\n",
              "   secondary_cleaner.state.floatbank4_b_air  \\\n",
              "0                                 12.099931   \n",
              "1                                 11.950531   \n",
              "2                                 11.912783   \n",
              "3                                 11.999550   \n",
              "4                                 11.953070   \n",
              "\n",
              "   secondary_cleaner.state.floatbank4_b_level  \\\n",
              "0                                 -504.715942   \n",
              "1                                 -501.331529   \n",
              "2                                 -501.133383   \n",
              "3                                 -501.193686   \n",
              "4                                 -501.053894   \n",
              "\n",
              "   secondary_cleaner.state.floatbank5_a_air  \\\n",
              "0                                  9.925633   \n",
              "1                                 10.039245   \n",
              "2                                 10.070913   \n",
              "3                                  9.970366   \n",
              "4                                  9.925709   \n",
              "\n",
              "   secondary_cleaner.state.floatbank5_a_level  \\\n",
              "0                                 -498.310211   \n",
              "1                                 -500.169983   \n",
              "2                                 -500.129135   \n",
              "3                                 -499.201640   \n",
              "4                                 -501.686727   \n",
              "\n",
              "   secondary_cleaner.state.floatbank5_b_air  \\\n",
              "0                                  8.079666   \n",
              "1                                  7.984757   \n",
              "2                                  8.013877   \n",
              "3                                  7.977324   \n",
              "4                                  7.894242   \n",
              "\n",
              "   secondary_cleaner.state.floatbank5_b_level  \\\n",
              "0                                 -500.470978   \n",
              "1                                 -500.582168   \n",
              "2                                 -500.517572   \n",
              "3                                 -500.255908   \n",
              "4                                 -500.356035   \n",
              "\n",
              "   secondary_cleaner.state.floatbank6_a_air  \\\n",
              "0                                 14.151341   \n",
              "1                                 13.998353   \n",
              "2                                 14.028663   \n",
              "3                                 14.005551   \n",
              "4                                 13.996647   \n",
              "\n",
              "   secondary_cleaner.state.floatbank6_a_level  \n",
              "0                                 -605.841980  \n",
              "1                                 -599.787184  \n",
              "2                                 -601.427363  \n",
              "3                                 -599.996129  \n",
              "4                                 -601.496691  \n",
              "\n",
              "[5 rows x 87 columns]"
            ]
          },
          "execution_count": 5,
          "metadata": {},
          "output_type": "execute_result"
        }
      ],
      "source": [
        "full.head()"
      ]
    },
    {
      "cell_type": "code",
      "execution_count": null,
      "metadata": {
        "scrolled": true,
        "id": "Wcbod8RqPsyo",
        "outputId": "46ceb3ff-6db8-4c0a-a8d1-0b8a2cd6be42"
      },
      "outputs": [
        {
          "name": "stdout",
          "output_type": "stream",
          "text": [
            "<class 'pandas.core.frame.DataFrame'>\n",
            "RangeIndex: 14149 entries, 0 to 14148\n",
            "Data columns (total 87 columns):\n",
            " #   Column                                              Non-Null Count  Dtype  \n",
            "---  ------                                              --------------  -----  \n",
            " 0   date                                                14149 non-null  object \n",
            " 1   final.output.concentrate_ag                         14148 non-null  float64\n",
            " 2   final.output.concentrate_pb                         14148 non-null  float64\n",
            " 3   final.output.concentrate_sol                        13938 non-null  float64\n",
            " 4   final.output.concentrate_au                         14149 non-null  float64\n",
            " 5   final.output.recovery                               14149 non-null  float64\n",
            " 6   final.output.tail_ag                                14149 non-null  float64\n",
            " 7   final.output.tail_pb                                14049 non-null  float64\n",
            " 8   final.output.tail_sol                               14144 non-null  float64\n",
            " 9   final.output.tail_au                                14149 non-null  float64\n",
            " 10  primary_cleaner.input.sulfate                       14129 non-null  float64\n",
            " 11  primary_cleaner.input.depressant                    14117 non-null  float64\n",
            " 12  primary_cleaner.input.feed_size                     14149 non-null  float64\n",
            " 13  primary_cleaner.input.xanthate                      14049 non-null  float64\n",
            " 14  primary_cleaner.output.concentrate_ag               14149 non-null  float64\n",
            " 15  primary_cleaner.output.concentrate_pb               14063 non-null  float64\n",
            " 16  primary_cleaner.output.concentrate_sol              13863 non-null  float64\n",
            " 17  primary_cleaner.output.concentrate_au               14149 non-null  float64\n",
            " 18  primary_cleaner.output.tail_ag                      14148 non-null  float64\n",
            " 19  primary_cleaner.output.tail_pb                      14134 non-null  float64\n",
            " 20  primary_cleaner.output.tail_sol                     14103 non-null  float64\n",
            " 21  primary_cleaner.output.tail_au                      14149 non-null  float64\n",
            " 22  primary_cleaner.state.floatbank8_a_air              14145 non-null  float64\n",
            " 23  primary_cleaner.state.floatbank8_a_level            14148 non-null  float64\n",
            " 24  primary_cleaner.state.floatbank8_b_air              14145 non-null  float64\n",
            " 25  primary_cleaner.state.floatbank8_b_level            14148 non-null  float64\n",
            " 26  primary_cleaner.state.floatbank8_c_air              14147 non-null  float64\n",
            " 27  primary_cleaner.state.floatbank8_c_level            14148 non-null  float64\n",
            " 28  primary_cleaner.state.floatbank8_d_air              14146 non-null  float64\n",
            " 29  primary_cleaner.state.floatbank8_d_level            14148 non-null  float64\n",
            " 30  rougher.calculation.sulfate_to_au_concentrate       14148 non-null  float64\n",
            " 31  rougher.calculation.floatbank10_sulfate_to_au_feed  14148 non-null  float64\n",
            " 32  rougher.calculation.floatbank11_sulfate_to_au_feed  14148 non-null  float64\n",
            " 33  rougher.calculation.au_pb_ratio                     14149 non-null  float64\n",
            " 34  rougher.input.feed_ag                               14149 non-null  float64\n",
            " 35  rougher.input.feed_pb                               14049 non-null  float64\n",
            " 36  rougher.input.feed_rate                             14141 non-null  float64\n",
            " 37  rougher.input.feed_size                             14005 non-null  float64\n",
            " 38  rougher.input.feed_sol                              14071 non-null  float64\n",
            " 39  rougher.input.feed_au                               14149 non-null  float64\n",
            " 40  rougher.input.floatbank10_sulfate                   14120 non-null  float64\n",
            " 41  rougher.input.floatbank10_xanthate                  14141 non-null  float64\n",
            " 42  rougher.input.floatbank11_sulfate                   14113 non-null  float64\n",
            " 43  rougher.input.floatbank11_xanthate                  13721 non-null  float64\n",
            " 44  rougher.output.concentrate_ag                       14149 non-null  float64\n",
            " 45  rougher.output.concentrate_pb                       14149 non-null  float64\n",
            " 46  rougher.output.concentrate_sol                      14127 non-null  float64\n",
            " 47  rougher.output.concentrate_au                       14149 non-null  float64\n",
            " 48  rougher.output.recovery                             14149 non-null  float64\n",
            " 49  rougher.output.tail_ag                              14148 non-null  float64\n",
            " 50  rougher.output.tail_pb                              14149 non-null  float64\n",
            " 51  rougher.output.tail_sol                             14149 non-null  float64\n",
            " 52  rougher.output.tail_au                              14149 non-null  float64\n",
            " 53  rougher.state.floatbank10_a_air                     14148 non-null  float64\n",
            " 54  rougher.state.floatbank10_a_level                   14148 non-null  float64\n",
            " 55  rougher.state.floatbank10_b_air                     14148 non-null  float64\n",
            " 56  rougher.state.floatbank10_b_level                   14148 non-null  float64\n",
            " 57  rougher.state.floatbank10_c_air                     14148 non-null  float64\n",
            " 58  rougher.state.floatbank10_c_level                   14148 non-null  float64\n",
            " 59  rougher.state.floatbank10_d_air                     14149 non-null  float64\n",
            " 60  rougher.state.floatbank10_d_level                   14149 non-null  float64\n",
            " 61  rougher.state.floatbank10_e_air                     13713 non-null  float64\n",
            " 62  rougher.state.floatbank10_e_level                   14149 non-null  float64\n",
            " 63  rougher.state.floatbank10_f_air                     14149 non-null  float64\n",
            " 64  rougher.state.floatbank10_f_level                   14149 non-null  float64\n",
            " 65  secondary_cleaner.output.tail_ag                    14147 non-null  float64\n",
            " 66  secondary_cleaner.output.tail_pb                    14139 non-null  float64\n",
            " 67  secondary_cleaner.output.tail_sol                   12544 non-null  float64\n",
            " 68  secondary_cleaner.output.tail_au                    14149 non-null  float64\n",
            " 69  secondary_cleaner.state.floatbank2_a_air            13932 non-null  float64\n",
            " 70  secondary_cleaner.state.floatbank2_a_level          14148 non-null  float64\n",
            " 71  secondary_cleaner.state.floatbank2_b_air            14128 non-null  float64\n",
            " 72  secondary_cleaner.state.floatbank2_b_level          14148 non-null  float64\n",
            " 73  secondary_cleaner.state.floatbank3_a_air            14145 non-null  float64\n",
            " 74  secondary_cleaner.state.floatbank3_a_level          14148 non-null  float64\n",
            " 75  secondary_cleaner.state.floatbank3_b_air            14148 non-null  float64\n",
            " 76  secondary_cleaner.state.floatbank3_b_level          14148 non-null  float64\n",
            " 77  secondary_cleaner.state.floatbank4_a_air            14143 non-null  float64\n",
            " 78  secondary_cleaner.state.floatbank4_a_level          14148 non-null  float64\n",
            " 79  secondary_cleaner.state.floatbank4_b_air            14148 non-null  float64\n",
            " 80  secondary_cleaner.state.floatbank4_b_level          14148 non-null  float64\n",
            " 81  secondary_cleaner.state.floatbank5_a_air            14148 non-null  float64\n",
            " 82  secondary_cleaner.state.floatbank5_a_level          14148 non-null  float64\n",
            " 83  secondary_cleaner.state.floatbank5_b_air            14148 non-null  float64\n",
            " 84  secondary_cleaner.state.floatbank5_b_level          14148 non-null  float64\n",
            " 85  secondary_cleaner.state.floatbank6_a_air            14147 non-null  float64\n",
            " 86  secondary_cleaner.state.floatbank6_a_level          14148 non-null  float64\n",
            "dtypes: float64(86), object(1)\n",
            "memory usage: 9.4+ MB\n",
            "<class 'pandas.core.frame.DataFrame'>\n",
            "RangeIndex: 5290 entries, 0 to 5289\n",
            "Data columns (total 53 columns):\n",
            " #   Column                                      Non-Null Count  Dtype  \n",
            "---  ------                                      --------------  -----  \n",
            " 0   date                                        5290 non-null   object \n",
            " 1   primary_cleaner.input.sulfate               5286 non-null   float64\n",
            " 2   primary_cleaner.input.depressant            5285 non-null   float64\n",
            " 3   primary_cleaner.input.feed_size             5290 non-null   float64\n",
            " 4   primary_cleaner.input.xanthate              5286 non-null   float64\n",
            " 5   primary_cleaner.state.floatbank8_a_air      5290 non-null   float64\n",
            " 6   primary_cleaner.state.floatbank8_a_level    5290 non-null   float64\n",
            " 7   primary_cleaner.state.floatbank8_b_air      5290 non-null   float64\n",
            " 8   primary_cleaner.state.floatbank8_b_level    5290 non-null   float64\n",
            " 9   primary_cleaner.state.floatbank8_c_air      5290 non-null   float64\n",
            " 10  primary_cleaner.state.floatbank8_c_level    5290 non-null   float64\n",
            " 11  primary_cleaner.state.floatbank8_d_air      5290 non-null   float64\n",
            " 12  primary_cleaner.state.floatbank8_d_level    5290 non-null   float64\n",
            " 13  rougher.input.feed_ag                       5290 non-null   float64\n",
            " 14  rougher.input.feed_pb                       5290 non-null   float64\n",
            " 15  rougher.input.feed_rate                     5287 non-null   float64\n",
            " 16  rougher.input.feed_size                     5289 non-null   float64\n",
            " 17  rougher.input.feed_sol                      5269 non-null   float64\n",
            " 18  rougher.input.feed_au                       5290 non-null   float64\n",
            " 19  rougher.input.floatbank10_sulfate           5285 non-null   float64\n",
            " 20  rougher.input.floatbank10_xanthate          5290 non-null   float64\n",
            " 21  rougher.input.floatbank11_sulfate           5282 non-null   float64\n",
            " 22  rougher.input.floatbank11_xanthate          5265 non-null   float64\n",
            " 23  rougher.state.floatbank10_a_air             5290 non-null   float64\n",
            " 24  rougher.state.floatbank10_a_level           5290 non-null   float64\n",
            " 25  rougher.state.floatbank10_b_air             5290 non-null   float64\n",
            " 26  rougher.state.floatbank10_b_level           5290 non-null   float64\n",
            " 27  rougher.state.floatbank10_c_air             5290 non-null   float64\n",
            " 28  rougher.state.floatbank10_c_level           5290 non-null   float64\n",
            " 29  rougher.state.floatbank10_d_air             5290 non-null   float64\n",
            " 30  rougher.state.floatbank10_d_level           5290 non-null   float64\n",
            " 31  rougher.state.floatbank10_e_air             5290 non-null   float64\n",
            " 32  rougher.state.floatbank10_e_level           5290 non-null   float64\n",
            " 33  rougher.state.floatbank10_f_air             5290 non-null   float64\n",
            " 34  rougher.state.floatbank10_f_level           5290 non-null   float64\n",
            " 35  secondary_cleaner.state.floatbank2_a_air    5287 non-null   float64\n",
            " 36  secondary_cleaner.state.floatbank2_a_level  5290 non-null   float64\n",
            " 37  secondary_cleaner.state.floatbank2_b_air    5288 non-null   float64\n",
            " 38  secondary_cleaner.state.floatbank2_b_level  5290 non-null   float64\n",
            " 39  secondary_cleaner.state.floatbank3_a_air    5281 non-null   float64\n",
            " 40  secondary_cleaner.state.floatbank3_a_level  5290 non-null   float64\n",
            " 41  secondary_cleaner.state.floatbank3_b_air    5290 non-null   float64\n",
            " 42  secondary_cleaner.state.floatbank3_b_level  5290 non-null   float64\n",
            " 43  secondary_cleaner.state.floatbank4_a_air    5290 non-null   float64\n",
            " 44  secondary_cleaner.state.floatbank4_a_level  5290 non-null   float64\n",
            " 45  secondary_cleaner.state.floatbank4_b_air    5290 non-null   float64\n",
            " 46  secondary_cleaner.state.floatbank4_b_level  5290 non-null   float64\n",
            " 47  secondary_cleaner.state.floatbank5_a_air    5290 non-null   float64\n",
            " 48  secondary_cleaner.state.floatbank5_a_level  5290 non-null   float64\n",
            " 49  secondary_cleaner.state.floatbank5_b_air    5290 non-null   float64\n",
            " 50  secondary_cleaner.state.floatbank5_b_level  5290 non-null   float64\n",
            " 51  secondary_cleaner.state.floatbank6_a_air    5290 non-null   float64\n",
            " 52  secondary_cleaner.state.floatbank6_a_level  5290 non-null   float64\n",
            "dtypes: float64(52), object(1)\n",
            "memory usage: 2.1+ MB\n",
            "<class 'pandas.core.frame.DataFrame'>\n",
            "RangeIndex: 19439 entries, 0 to 19438\n",
            "Data columns (total 87 columns):\n",
            " #   Column                                              Non-Null Count  Dtype  \n",
            "---  ------                                              --------------  -----  \n",
            " 0   date                                                19439 non-null  object \n",
            " 1   final.output.concentrate_ag                         19438 non-null  float64\n",
            " 2   final.output.concentrate_pb                         19438 non-null  float64\n",
            " 3   final.output.concentrate_sol                        19228 non-null  float64\n",
            " 4   final.output.concentrate_au                         19439 non-null  float64\n",
            " 5   final.output.recovery                               19439 non-null  float64\n",
            " 6   final.output.tail_ag                                19438 non-null  float64\n",
            " 7   final.output.tail_pb                                19338 non-null  float64\n",
            " 8   final.output.tail_sol                               19433 non-null  float64\n",
            " 9   final.output.tail_au                                19439 non-null  float64\n",
            " 10  primary_cleaner.input.sulfate                       19415 non-null  float64\n",
            " 11  primary_cleaner.input.depressant                    19402 non-null  float64\n",
            " 12  primary_cleaner.input.feed_size                     19439 non-null  float64\n",
            " 13  primary_cleaner.input.xanthate                      19335 non-null  float64\n",
            " 14  primary_cleaner.output.concentrate_ag               19439 non-null  float64\n",
            " 15  primary_cleaner.output.concentrate_pb               19323 non-null  float64\n",
            " 16  primary_cleaner.output.concentrate_sol              19069 non-null  float64\n",
            " 17  primary_cleaner.output.concentrate_au               19439 non-null  float64\n",
            " 18  primary_cleaner.output.tail_ag                      19435 non-null  float64\n",
            " 19  primary_cleaner.output.tail_pb                      19418 non-null  float64\n",
            " 20  primary_cleaner.output.tail_sol                     19377 non-null  float64\n",
            " 21  primary_cleaner.output.tail_au                      19439 non-null  float64\n",
            " 22  primary_cleaner.state.floatbank8_a_air              19435 non-null  float64\n",
            " 23  primary_cleaner.state.floatbank8_a_level            19438 non-null  float64\n",
            " 24  primary_cleaner.state.floatbank8_b_air              19435 non-null  float64\n",
            " 25  primary_cleaner.state.floatbank8_b_level            19438 non-null  float64\n",
            " 26  primary_cleaner.state.floatbank8_c_air              19437 non-null  float64\n",
            " 27  primary_cleaner.state.floatbank8_c_level            19438 non-null  float64\n",
            " 28  primary_cleaner.state.floatbank8_d_air              19436 non-null  float64\n",
            " 29  primary_cleaner.state.floatbank8_d_level            19438 non-null  float64\n",
            " 30  rougher.calculation.sulfate_to_au_concentrate       19437 non-null  float64\n",
            " 31  rougher.calculation.floatbank10_sulfate_to_au_feed  19437 non-null  float64\n",
            " 32  rougher.calculation.floatbank11_sulfate_to_au_feed  19437 non-null  float64\n",
            " 33  rougher.calculation.au_pb_ratio                     19439 non-null  float64\n",
            " 34  rougher.input.feed_ag                               19439 non-null  float64\n",
            " 35  rougher.input.feed_pb                               19339 non-null  float64\n",
            " 36  rougher.input.feed_rate                             19428 non-null  float64\n",
            " 37  rougher.input.feed_size                             19294 non-null  float64\n",
            " 38  rougher.input.feed_sol                              19340 non-null  float64\n",
            " 39  rougher.input.feed_au                               19439 non-null  float64\n",
            " 40  rougher.input.floatbank10_sulfate                   19405 non-null  float64\n",
            " 41  rougher.input.floatbank10_xanthate                  19431 non-null  float64\n",
            " 42  rougher.input.floatbank11_sulfate                   19395 non-null  float64\n",
            " 43  rougher.input.floatbank11_xanthate                  18986 non-null  float64\n",
            " 44  rougher.output.concentrate_ag                       19439 non-null  float64\n",
            " 45  rougher.output.concentrate_pb                       19439 non-null  float64\n",
            " 46  rougher.output.concentrate_sol                      19416 non-null  float64\n",
            " 47  rougher.output.concentrate_au                       19439 non-null  float64\n",
            " 48  rougher.output.recovery                             19439 non-null  float64\n",
            " 49  rougher.output.tail_ag                              19438 non-null  float64\n",
            " 50  rougher.output.tail_pb                              19439 non-null  float64\n",
            " 51  rougher.output.tail_sol                             19439 non-null  float64\n",
            " 52  rougher.output.tail_au                              19439 non-null  float64\n",
            " 53  rougher.state.floatbank10_a_air                     19438 non-null  float64\n",
            " 54  rougher.state.floatbank10_a_level                   19438 non-null  float64\n",
            " 55  rougher.state.floatbank10_b_air                     19438 non-null  float64\n",
            " 56  rougher.state.floatbank10_b_level                   19438 non-null  float64\n",
            " 57  rougher.state.floatbank10_c_air                     19438 non-null  float64\n",
            " 58  rougher.state.floatbank10_c_level                   19438 non-null  float64\n",
            " 59  rougher.state.floatbank10_d_air                     19439 non-null  float64\n",
            " 60  rougher.state.floatbank10_d_level                   19439 non-null  float64\n",
            " 61  rougher.state.floatbank10_e_air                     19003 non-null  float64\n",
            " 62  rougher.state.floatbank10_e_level                   19439 non-null  float64\n",
            " 63  rougher.state.floatbank10_f_air                     19439 non-null  float64\n",
            " 64  rougher.state.floatbank10_f_level                   19439 non-null  float64\n",
            " 65  secondary_cleaner.output.tail_ag                    19437 non-null  float64\n",
            " 66  secondary_cleaner.output.tail_pb                    19427 non-null  float64\n",
            " 67  secondary_cleaner.output.tail_sol                   17691 non-null  float64\n",
            " 68  secondary_cleaner.output.tail_au                    19439 non-null  float64\n",
            " 69  secondary_cleaner.state.floatbank2_a_air            19219 non-null  float64\n",
            " 70  secondary_cleaner.state.floatbank2_a_level          19438 non-null  float64\n",
            " 71  secondary_cleaner.state.floatbank2_b_air            19416 non-null  float64\n",
            " 72  secondary_cleaner.state.floatbank2_b_level          19438 non-null  float64\n",
            " 73  secondary_cleaner.state.floatbank3_a_air            19426 non-null  float64\n",
            " 74  secondary_cleaner.state.floatbank3_a_level          19438 non-null  float64\n",
            " 75  secondary_cleaner.state.floatbank3_b_air            19438 non-null  float64\n",
            " 76  secondary_cleaner.state.floatbank3_b_level          19438 non-null  float64\n",
            " 77  secondary_cleaner.state.floatbank4_a_air            19433 non-null  float64\n",
            " 78  secondary_cleaner.state.floatbank4_a_level          19438 non-null  float64\n",
            " 79  secondary_cleaner.state.floatbank4_b_air            19438 non-null  float64\n",
            " 80  secondary_cleaner.state.floatbank4_b_level          19438 non-null  float64\n",
            " 81  secondary_cleaner.state.floatbank5_a_air            19438 non-null  float64\n",
            " 82  secondary_cleaner.state.floatbank5_a_level          19438 non-null  float64\n",
            " 83  secondary_cleaner.state.floatbank5_b_air            19438 non-null  float64\n",
            " 84  secondary_cleaner.state.floatbank5_b_level          19438 non-null  float64\n",
            " 85  secondary_cleaner.state.floatbank6_a_air            19437 non-null  float64\n",
            " 86  secondary_cleaner.state.floatbank6_a_level          19438 non-null  float64\n",
            "dtypes: float64(86), object(1)\n",
            "memory usage: 12.9+ MB\n"
          ]
        }
      ],
      "source": [
        "# посмотрим общую информацию о данных\n",
        "\n",
        "train.info()\n",
        "test.info()\n",
        "full.info()"
      ]
    },
    {
      "cell_type": "code",
      "execution_count": null,
      "metadata": {
        "scrolled": true,
        "id": "4-iPSIhFPsyp",
        "outputId": "3522d825-f126-4d80-a2d8-c3eeac657227"
      },
      "outputs": [
        {
          "name": "stdout",
          "output_type": "stream",
          "text": [
            "date                                            0\n",
            "final.output.concentrate_ag                     1\n",
            "final.output.concentrate_pb                     1\n",
            "final.output.concentrate_sol                  211\n",
            "final.output.concentrate_au                     0\n",
            "                                             ... \n",
            "secondary_cleaner.state.floatbank5_a_level      1\n",
            "secondary_cleaner.state.floatbank5_b_air        1\n",
            "secondary_cleaner.state.floatbank5_b_level      1\n",
            "secondary_cleaner.state.floatbank6_a_air        2\n",
            "secondary_cleaner.state.floatbank6_a_level      1\n",
            "Length: 87, dtype: int64\n",
            "date                                           0\n",
            "primary_cleaner.input.sulfate                  4\n",
            "primary_cleaner.input.depressant               5\n",
            "primary_cleaner.input.feed_size                0\n",
            "primary_cleaner.input.xanthate                 4\n",
            "primary_cleaner.state.floatbank8_a_air         0\n",
            "primary_cleaner.state.floatbank8_a_level       0\n",
            "primary_cleaner.state.floatbank8_b_air         0\n",
            "primary_cleaner.state.floatbank8_b_level       0\n",
            "primary_cleaner.state.floatbank8_c_air         0\n",
            "primary_cleaner.state.floatbank8_c_level       0\n",
            "primary_cleaner.state.floatbank8_d_air         0\n",
            "primary_cleaner.state.floatbank8_d_level       0\n",
            "rougher.input.feed_ag                          0\n",
            "rougher.input.feed_pb                          0\n",
            "rougher.input.feed_rate                        3\n",
            "rougher.input.feed_size                        1\n",
            "rougher.input.feed_sol                        21\n",
            "rougher.input.feed_au                          0\n",
            "rougher.input.floatbank10_sulfate              5\n",
            "rougher.input.floatbank10_xanthate             0\n",
            "rougher.input.floatbank11_sulfate              8\n",
            "rougher.input.floatbank11_xanthate            25\n",
            "rougher.state.floatbank10_a_air                0\n",
            "rougher.state.floatbank10_a_level              0\n",
            "rougher.state.floatbank10_b_air                0\n",
            "rougher.state.floatbank10_b_level              0\n",
            "rougher.state.floatbank10_c_air                0\n",
            "rougher.state.floatbank10_c_level              0\n",
            "rougher.state.floatbank10_d_air                0\n",
            "rougher.state.floatbank10_d_level              0\n",
            "rougher.state.floatbank10_e_air                0\n",
            "rougher.state.floatbank10_e_level              0\n",
            "rougher.state.floatbank10_f_air                0\n",
            "rougher.state.floatbank10_f_level              0\n",
            "secondary_cleaner.state.floatbank2_a_air       3\n",
            "secondary_cleaner.state.floatbank2_a_level     0\n",
            "secondary_cleaner.state.floatbank2_b_air       2\n",
            "secondary_cleaner.state.floatbank2_b_level     0\n",
            "secondary_cleaner.state.floatbank3_a_air       9\n",
            "secondary_cleaner.state.floatbank3_a_level     0\n",
            "secondary_cleaner.state.floatbank3_b_air       0\n",
            "secondary_cleaner.state.floatbank3_b_level     0\n",
            "secondary_cleaner.state.floatbank4_a_air       0\n",
            "secondary_cleaner.state.floatbank4_a_level     0\n",
            "secondary_cleaner.state.floatbank4_b_air       0\n",
            "secondary_cleaner.state.floatbank4_b_level     0\n",
            "secondary_cleaner.state.floatbank5_a_air       0\n",
            "secondary_cleaner.state.floatbank5_a_level     0\n",
            "secondary_cleaner.state.floatbank5_b_air       0\n",
            "secondary_cleaner.state.floatbank5_b_level     0\n",
            "secondary_cleaner.state.floatbank6_a_air       0\n",
            "secondary_cleaner.state.floatbank6_a_level     0\n",
            "dtype: int64\n"
          ]
        },
        {
          "data": {
            "text/plain": [
              "date                                            0\n",
              "final.output.concentrate_ag                     1\n",
              "final.output.concentrate_pb                     1\n",
              "final.output.concentrate_sol                  211\n",
              "final.output.concentrate_au                     0\n",
              "                                             ... \n",
              "secondary_cleaner.state.floatbank5_a_level      1\n",
              "secondary_cleaner.state.floatbank5_b_air        1\n",
              "secondary_cleaner.state.floatbank5_b_level      1\n",
              "secondary_cleaner.state.floatbank6_a_air        2\n",
              "secondary_cleaner.state.floatbank6_a_level      1\n",
              "Length: 87, dtype: int64"
            ]
          },
          "execution_count": 7,
          "metadata": {},
          "output_type": "execute_result"
        }
      ],
      "source": [
        "# выведем число пропусков по колонкам в каждой таблице\n",
        "\n",
        "print(train.isna().sum())\n",
        "print(test.isna().sum())\n",
        "full.isna().sum()"
      ]
    },
    {
      "cell_type": "markdown",
      "metadata": {
        "id": "516dBqPkPsyp"
      },
      "source": [
        "Пропуски есть. Позже их обработаем."
      ]
    },
    {
      "cell_type": "code",
      "execution_count": null,
      "metadata": {
        "id": "C7tY2k1nPsyp",
        "outputId": "dd54f321-94a5-4de5-c8eb-ff75f02ae2ae"
      },
      "outputs": [
        {
          "name": "stdout",
          "output_type": "stream",
          "text": [
            "4100\n",
            "90\n",
            "4481\n"
          ]
        }
      ],
      "source": [
        "# посчитаем суммарное число пропусков в каждой таблице\n",
        "\n",
        "for data in [train, test, full]:\n",
        "    print(data.isna().sum().sum())"
      ]
    },
    {
      "cell_type": "markdown",
      "metadata": {
        "id": "2iwxv1KZPsyq"
      },
      "source": [
        "Проверим, что эффективность обогащения рассчитана правильно. \n",
        "Эффективность обогащения рассчитывается по формуле:\n",
        "![image.png](attachment:image.png)\n",
        "где:\n",
        "- C — доля золота в концентрате после флотации/очистки;\n",
        "- F — доля золота в сырье/концентрате до флотации/очистки;\n",
        "- T — доля золота в отвальных хвостах после флотации/очистки.\n",
        "\n",
        "Напишем функцию для расчета эффективности. Сделаем проверку для золота. "
      ]
    },
    {
      "cell_type": "code",
      "execution_count": null,
      "metadata": {
        "id": "LEb6pWnOPsyq"
      },
      "outputs": [],
      "source": [
        "def recovery(data, c, f, t):\n",
        "    return ((data[c]*(data[f]-data[t]))/\\\n",
        "           (data[f]*(data[c]-data[t])))*100"
      ]
    },
    {
      "cell_type": "code",
      "execution_count": null,
      "metadata": {
        "id": "H-9bSnIZPsyq"
      },
      "outputs": [],
      "source": [
        "check = recovery(train, 'rougher.output.concentrate_au', \\\n",
        "         'rougher.input.feed_au', 'rougher.output.tail_au')"
      ]
    },
    {
      "cell_type": "code",
      "execution_count": null,
      "metadata": {
        "scrolled": true,
        "id": "XAIiPoqDPsyq",
        "outputId": "512598b0-07d6-4395-8277-017463375f75"
      },
      "outputs": [
        {
          "data": {
            "text/plain": [
              "9.73512347450521e-15"
            ]
          },
          "execution_count": 11,
          "metadata": {},
          "output_type": "execute_result"
        }
      ],
      "source": [
        "mean_absolute_error(train['rougher.output.recovery'], check)"
      ]
    },
    {
      "cell_type": "markdown",
      "metadata": {
        "id": "D4Zrz4kXPsyq"
      },
      "source": [
        "Ошибка маленькая. Можно считать, что расчеты в таблице правильные."
      ]
    },
    {
      "cell_type": "markdown",
      "metadata": {
        "id": "s50V-uR7Psyq"
      },
      "source": [
        "Проанализируем признаки, недоступные в тестовой выборке. Определим, что это за параметры и к какому типу они относятся."
      ]
    },
    {
      "cell_type": "code",
      "execution_count": null,
      "metadata": {
        "scrolled": true,
        "id": "2cXLt1cdPsyr",
        "outputId": "4c318e69-7b6e-4e3c-9ba0-921c0c0603c2"
      },
      "outputs": [
        {
          "data": {
            "text/plain": [
              "['final.output.concentrate_ag',\n",
              " 'final.output.concentrate_pb',\n",
              " 'final.output.concentrate_sol',\n",
              " 'final.output.concentrate_au',\n",
              " 'final.output.recovery',\n",
              " 'final.output.tail_ag',\n",
              " 'final.output.tail_pb',\n",
              " 'final.output.tail_sol',\n",
              " 'final.output.tail_au',\n",
              " 'primary_cleaner.output.concentrate_ag',\n",
              " 'primary_cleaner.output.concentrate_pb',\n",
              " 'primary_cleaner.output.concentrate_sol',\n",
              " 'primary_cleaner.output.concentrate_au',\n",
              " 'primary_cleaner.output.tail_ag',\n",
              " 'primary_cleaner.output.tail_pb',\n",
              " 'primary_cleaner.output.tail_sol',\n",
              " 'primary_cleaner.output.tail_au',\n",
              " 'rougher.calculation.sulfate_to_au_concentrate',\n",
              " 'rougher.calculation.floatbank10_sulfate_to_au_feed',\n",
              " 'rougher.calculation.floatbank11_sulfate_to_au_feed',\n",
              " 'rougher.calculation.au_pb_ratio',\n",
              " 'rougher.output.concentrate_ag',\n",
              " 'rougher.output.concentrate_pb',\n",
              " 'rougher.output.concentrate_sol',\n",
              " 'rougher.output.concentrate_au',\n",
              " 'rougher.output.recovery',\n",
              " 'rougher.output.tail_ag',\n",
              " 'rougher.output.tail_pb',\n",
              " 'rougher.output.tail_sol',\n",
              " 'rougher.output.tail_au',\n",
              " 'secondary_cleaner.output.tail_ag',\n",
              " 'secondary_cleaner.output.tail_pb',\n",
              " 'secondary_cleaner.output.tail_sol',\n",
              " 'secondary_cleaner.output.tail_au']"
            ]
          },
          "execution_count": 12,
          "metadata": {},
          "output_type": "execute_result"
        }
      ],
      "source": [
        "list(train.drop(test.columns, axis=1).columns)"
      ]
    },
    {
      "cell_type": "markdown",
      "metadata": {
        "id": "J9r9-WSaPsyr"
      },
      "source": [
        "В тестовой выборке отсутсвуют колонки с параметром продукта `output`, которые становятся известны после начала технологического процесса."
      ]
    },
    {
      "cell_type": "code",
      "execution_count": null,
      "metadata": {
        "id": "dMkrnpQxPsyr",
        "outputId": "45688e71-52df-4c61-c55e-05d28335de2e"
      },
      "outputs": [
        {
          "data": {
            "text/plain": [
              "2395"
            ]
          },
          "execution_count": 13,
          "metadata": {},
          "output_type": "execute_result"
        }
      ],
      "source": [
        "# общее число пропусков в обучающей выборке\n",
        "# без колонок тестовой выборки\n",
        "\n",
        "train.drop(test.columns, axis=1).isna().sum().sum()"
      ]
    },
    {
      "cell_type": "markdown",
      "metadata": {
        "id": "v8j4x2nvPsyr"
      },
      "source": [
        "Эти пропуски нас волновать не будут, т.к. колонки, которых нет в тестовой выборке, мы не будем использовать в обучении модели."
      ]
    },
    {
      "cell_type": "code",
      "execution_count": null,
      "metadata": {
        "id": "X4fndqhLPsyr",
        "outputId": "96f26eba-e365-4da0-97de-374d1d9ff36a"
      },
      "outputs": [
        {
          "data": {
            "text/plain": [
              "1705"
            ]
          },
          "execution_count": 14,
          "metadata": {},
          "output_type": "execute_result"
        }
      ],
      "source": [
        "# общее число пропусков в обучающей выборке\n",
        "# в колонках соответствующих тестовой выборке\n",
        "\n",
        "train[test.columns].isna().sum().sum()"
      ]
    },
    {
      "cell_type": "markdown",
      "metadata": {
        "id": "Rf2DlLQrPsys"
      },
      "source": [
        "С этими пропусками уже нужно будет разобраться, т.к. эти колонки будут участвовать в обучении."
      ]
    },
    {
      "cell_type": "code",
      "execution_count": null,
      "metadata": {
        "id": "z1aJT12MPsys"
      },
      "outputs": [],
      "source": [
        "# общее число пропусков в полной выборке\n",
        "# в колонках соответствующих тестовой выборке\n",
        "#full.drop(test.columns, axis=1).isna().sum().sum()"
      ]
    },
    {
      "cell_type": "code",
      "execution_count": null,
      "metadata": {
        "id": "FdMjJlYwPsys"
      },
      "outputs": [],
      "source": [
        "# переведем колонку с датой в соответсвующий формат\n",
        "\n",
        "for data in [train, test, full]:\n",
        "    data['date'] = pd.to_datetime(data['date'], format='%Y-%m-%d %H:%M:%S')"
      ]
    },
    {
      "cell_type": "code",
      "execution_count": null,
      "metadata": {
        "id": "haJCTFJuPsys",
        "outputId": "04a51774-8771-4bb8-9da8-14c58ec947e3"
      },
      "outputs": [
        {
          "name": "stdout",
          "output_type": "stream",
          "text": [
            "0\n",
            "0\n",
            "0\n"
          ]
        }
      ],
      "source": [
        "# проверим наличие явных дубликатов\n",
        "\n",
        "print(train.duplicated().sum())\n",
        "print(test.duplicated().sum())\n",
        "print(full.duplicated().sum())"
      ]
    },
    {
      "cell_type": "code",
      "execution_count": null,
      "metadata": {
        "id": "k4QqkbWXPsys"
      },
      "outputs": [],
      "source": [
        "# создадим список колонок, которые оставим в обучающей выборке\n",
        "\n",
        "columns = list(test.columns)\n",
        "columns.append('rougher.output.recovery')\n",
        "columns.append('final.output.recovery')"
      ]
    },
    {
      "cell_type": "code",
      "execution_count": null,
      "metadata": {
        "id": "a21SjGG3Psys"
      },
      "outputs": [],
      "source": [
        "train = train[columns]"
      ]
    },
    {
      "cell_type": "code",
      "execution_count": null,
      "metadata": {
        "id": "aQYk56zqPsys",
        "outputId": "ca389526-dbed-4114-955e-d91d7e28dd80"
      },
      "outputs": [
        {
          "data": {
            "text/plain": [
              "date                                            0\n",
              "primary_cleaner.input.sulfate                  20\n",
              "primary_cleaner.input.depressant               32\n",
              "primary_cleaner.input.feed_size                 0\n",
              "primary_cleaner.input.xanthate                100\n",
              "primary_cleaner.state.floatbank8_a_air          4\n",
              "primary_cleaner.state.floatbank8_a_level        1\n",
              "primary_cleaner.state.floatbank8_b_air          4\n",
              "primary_cleaner.state.floatbank8_b_level        1\n",
              "primary_cleaner.state.floatbank8_c_air          2\n",
              "primary_cleaner.state.floatbank8_c_level        1\n",
              "primary_cleaner.state.floatbank8_d_air          3\n",
              "primary_cleaner.state.floatbank8_d_level        1\n",
              "rougher.input.feed_ag                           0\n",
              "rougher.input.feed_pb                         100\n",
              "rougher.input.feed_rate                         8\n",
              "rougher.input.feed_size                       144\n",
              "rougher.input.feed_sol                         78\n",
              "rougher.input.feed_au                           0\n",
              "rougher.input.floatbank10_sulfate              29\n",
              "rougher.input.floatbank10_xanthate              8\n",
              "rougher.input.floatbank11_sulfate              36\n",
              "rougher.input.floatbank11_xanthate            428\n",
              "rougher.state.floatbank10_a_air                 1\n",
              "rougher.state.floatbank10_a_level               1\n",
              "rougher.state.floatbank10_b_air                 1\n",
              "rougher.state.floatbank10_b_level               1\n",
              "rougher.state.floatbank10_c_air                 1\n",
              "rougher.state.floatbank10_c_level               1\n",
              "rougher.state.floatbank10_d_air                 0\n",
              "rougher.state.floatbank10_d_level               0\n",
              "rougher.state.floatbank10_e_air               436\n",
              "rougher.state.floatbank10_e_level               0\n",
              "rougher.state.floatbank10_f_air                 0\n",
              "rougher.state.floatbank10_f_level               0\n",
              "secondary_cleaner.state.floatbank2_a_air      217\n",
              "secondary_cleaner.state.floatbank2_a_level      1\n",
              "secondary_cleaner.state.floatbank2_b_air       21\n",
              "secondary_cleaner.state.floatbank2_b_level      1\n",
              "secondary_cleaner.state.floatbank3_a_air        4\n",
              "secondary_cleaner.state.floatbank3_a_level      1\n",
              "secondary_cleaner.state.floatbank3_b_air        1\n",
              "secondary_cleaner.state.floatbank3_b_level      1\n",
              "secondary_cleaner.state.floatbank4_a_air        6\n",
              "secondary_cleaner.state.floatbank4_a_level      1\n",
              "secondary_cleaner.state.floatbank4_b_air        1\n",
              "secondary_cleaner.state.floatbank4_b_level      1\n",
              "secondary_cleaner.state.floatbank5_a_air        1\n",
              "secondary_cleaner.state.floatbank5_a_level      1\n",
              "secondary_cleaner.state.floatbank5_b_air        1\n",
              "secondary_cleaner.state.floatbank5_b_level      1\n",
              "secondary_cleaner.state.floatbank6_a_air        2\n",
              "secondary_cleaner.state.floatbank6_a_level      1\n",
              "rougher.output.recovery                         0\n",
              "final.output.recovery                           0\n",
              "dtype: int64"
            ]
          },
          "execution_count": 20,
          "metadata": {},
          "output_type": "execute_result"
        }
      ],
      "source": [
        "# посмотрим на пропуски в обновленной таблице train\n",
        "\n",
        "train.isna().sum()"
      ]
    },
    {
      "cell_type": "markdown",
      "metadata": {
        "id": "2dyQvagaPsyt"
      },
      "source": [
        "Т.к. у нас рассматривается технологический процесс во времени, то логично, что мы можем заполнить пропуски путем распространения последнего наблюдения на следующее. Для этого остортируем данные по времени и затем заполним сами пропуски."
      ]
    },
    {
      "cell_type": "code",
      "execution_count": null,
      "metadata": {
        "id": "M-Hvb18oPsyt"
      },
      "outputs": [],
      "source": [
        "train = train.sort_values('date')"
      ]
    },
    {
      "cell_type": "code",
      "execution_count": null,
      "metadata": {
        "id": "WHr_MpP8Psyt"
      },
      "outputs": [],
      "source": [
        "train = train.fillna(method=\"ffill\")"
      ]
    },
    {
      "cell_type": "code",
      "execution_count": null,
      "metadata": {
        "id": "EI_sg84ZPsyt",
        "outputId": "7fd4d1e7-8cd9-4a90-e5aa-478c1f319743"
      },
      "outputs": [
        {
          "data": {
            "text/plain": [
              "date                                          0\n",
              "primary_cleaner.input.sulfate                 0\n",
              "primary_cleaner.input.depressant              0\n",
              "primary_cleaner.input.feed_size               0\n",
              "primary_cleaner.input.xanthate                0\n",
              "primary_cleaner.state.floatbank8_a_air        0\n",
              "primary_cleaner.state.floatbank8_a_level      0\n",
              "primary_cleaner.state.floatbank8_b_air        0\n",
              "primary_cleaner.state.floatbank8_b_level      0\n",
              "primary_cleaner.state.floatbank8_c_air        0\n",
              "primary_cleaner.state.floatbank8_c_level      0\n",
              "primary_cleaner.state.floatbank8_d_air        0\n",
              "primary_cleaner.state.floatbank8_d_level      0\n",
              "rougher.input.feed_ag                         0\n",
              "rougher.input.feed_pb                         0\n",
              "rougher.input.feed_rate                       0\n",
              "rougher.input.feed_size                       0\n",
              "rougher.input.feed_sol                        0\n",
              "rougher.input.feed_au                         0\n",
              "rougher.input.floatbank10_sulfate             0\n",
              "rougher.input.floatbank10_xanthate            0\n",
              "rougher.input.floatbank11_sulfate             0\n",
              "rougher.input.floatbank11_xanthate            0\n",
              "rougher.state.floatbank10_a_air               0\n",
              "rougher.state.floatbank10_a_level             0\n",
              "rougher.state.floatbank10_b_air               0\n",
              "rougher.state.floatbank10_b_level             0\n",
              "rougher.state.floatbank10_c_air               0\n",
              "rougher.state.floatbank10_c_level             0\n",
              "rougher.state.floatbank10_d_air               0\n",
              "rougher.state.floatbank10_d_level             0\n",
              "rougher.state.floatbank10_e_air               0\n",
              "rougher.state.floatbank10_e_level             0\n",
              "rougher.state.floatbank10_f_air               0\n",
              "rougher.state.floatbank10_f_level             0\n",
              "secondary_cleaner.state.floatbank2_a_air      0\n",
              "secondary_cleaner.state.floatbank2_a_level    0\n",
              "secondary_cleaner.state.floatbank2_b_air      0\n",
              "secondary_cleaner.state.floatbank2_b_level    0\n",
              "secondary_cleaner.state.floatbank3_a_air      0\n",
              "secondary_cleaner.state.floatbank3_a_level    0\n",
              "secondary_cleaner.state.floatbank3_b_air      0\n",
              "secondary_cleaner.state.floatbank3_b_level    0\n",
              "secondary_cleaner.state.floatbank4_a_air      0\n",
              "secondary_cleaner.state.floatbank4_a_level    0\n",
              "secondary_cleaner.state.floatbank4_b_air      0\n",
              "secondary_cleaner.state.floatbank4_b_level    0\n",
              "secondary_cleaner.state.floatbank5_a_air      0\n",
              "secondary_cleaner.state.floatbank5_a_level    0\n",
              "secondary_cleaner.state.floatbank5_b_air      0\n",
              "secondary_cleaner.state.floatbank5_b_level    0\n",
              "secondary_cleaner.state.floatbank6_a_air      0\n",
              "secondary_cleaner.state.floatbank6_a_level    0\n",
              "rougher.output.recovery                       0\n",
              "final.output.recovery                         0\n",
              "dtype: int64"
            ]
          },
          "execution_count": 23,
          "metadata": {},
          "output_type": "execute_result"
        }
      ],
      "source": [
        "train.isna().sum()"
      ]
    },
    {
      "cell_type": "markdown",
      "metadata": {
        "id": "6DRNngEyPsyt"
      },
      "source": [
        "Посмотрим на распределения эффективностей обогащения чернового и финального концентратов."
      ]
    },
    {
      "cell_type": "code",
      "execution_count": null,
      "metadata": {
        "id": "VhbXaVUSPsyu",
        "outputId": "b2cfa535-9157-4c56-f9f8-f7342dec4b88"
      },
      "outputs": [
        {
          "data": {
            "image/png": "[encoded data removed]",
            "text/plain": [
              "<Figure size 720x504 with 1 Axes>"
            ]
          },
          "metadata": {
            "needs_background": "light"
          },
          "output_type": "display_data"
        }
      ],
      "source": [
        "train['rougher.output.recovery'].hist(bins=60, figsize=(10,7), legend=True);\n",
        "train['final.output.recovery'].hist(bins=60, figsize=(10,7), legend=True, alpha=0.5);\n",
        "plt.legend(['Черновой концентрат','Финальный концентрат'])\n",
        "plt.title('Эффективность обогащения чернового и финального концентратов')\n",
        "plt.xlabel('Эффективность')\n",
        "plt.ylabel('Количество');"
      ]
    },
    {
      "cell_type": "markdown",
      "metadata": {
        "id": "nBAxBA51Psyu"
      },
      "source": [
        "Видно, что есть нули. Они могут помешать в обучении. Удалим их."
      ]
    },
    {
      "cell_type": "code",
      "execution_count": null,
      "metadata": {
        "id": "et8XylXlPsyu"
      },
      "outputs": [],
      "source": [
        "train = train.loc[(train['final.output.recovery'] != 0)&(train['rougher.output.recovery'] != 0)]"
      ]
    },
    {
      "cell_type": "markdown",
      "metadata": {
        "id": "LfC2SaoqPsyu"
      },
      "source": [
        "**Выводы**\n",
        "\n",
        "В данных эффективность обогащения рассчитана правильно. Есть пропуски. В таблице `test` нет колонок с данными, которые известны после начала технологического процесса - от них избавились, т.к. они в обучении участвовать не будут. Имеющиеся пропуски заполнили путем распространением данных предыдущего наблюдения на следующее. Удалили наблюдения с нулевыми значениями эффективности обогащения, чтобы не искажать работу модели.\n"
      ]
    },
    {
      "cell_type": "markdown",
      "metadata": {
        "id": "Gd5p1R90Psyu"
      },
      "source": [
        "## Анализ данных"
      ]
    },
    {
      "cell_type": "markdown",
      "metadata": {
        "id": "7vp9UPNiPsyu"
      },
      "source": [
        "Проследим, как меняется концентрация металлов (Au, Ag, Pb) на различных этапах очистки. Найдем интересующие колонки."
      ]
    },
    {
      "cell_type": "code",
      "execution_count": null,
      "metadata": {
        "id": "c8tr3LtXPsyu",
        "outputId": "ee09e190-e51f-4f1d-e515-dea3bac26e8e"
      },
      "outputs": [
        {
          "data": {
            "text/plain": [
              "(Index(['final.output.concentrate_au', 'final.output.tail_au',\n",
              "        'primary_cleaner.output.concentrate_au',\n",
              "        'primary_cleaner.output.tail_au', 'rougher.input.feed_au',\n",
              "        'rougher.output.concentrate_au', 'rougher.output.tail_au',\n",
              "        'secondary_cleaner.output.tail_au'],\n",
              "       dtype='object'),\n",
              " Index(['final.output.concentrate_ag', 'final.output.tail_ag',\n",
              "        'primary_cleaner.output.concentrate_ag',\n",
              "        'primary_cleaner.output.tail_ag', 'rougher.input.feed_ag',\n",
              "        'rougher.output.concentrate_ag', 'rougher.output.tail_ag',\n",
              "        'secondary_cleaner.output.tail_ag'],\n",
              "       dtype='object'),\n",
              " Index(['final.output.concentrate_pb', 'final.output.tail_pb',\n",
              "        'primary_cleaner.output.concentrate_pb',\n",
              "        'primary_cleaner.output.tail_pb', 'rougher.input.feed_pb',\n",
              "        'rougher.output.concentrate_pb', 'rougher.output.tail_pb',\n",
              "        'secondary_cleaner.output.tail_pb'],\n",
              "       dtype='object'))"
            ]
          },
          "execution_count": 26,
          "metadata": {},
          "output_type": "execute_result"
        }
      ],
      "source": [
        "full.columns[full.columns.str.endswith('au')],\\\n",
        "full.columns[full.columns.str.endswith('ag')],\\\n",
        "full.columns[full.columns.str.endswith('pb')]"
      ]
    },
    {
      "cell_type": "code",
      "execution_count": null,
      "metadata": {
        "id": "f93XPUfXPsyv"
      },
      "outputs": [],
      "source": [
        "# данные по каждому металлу сохраним в отдельную переменную\n",
        "\n",
        "au = full[['rougher.input.feed_au', 'rougher.output.concentrate_au',\\\n",
        "'primary_cleaner.output.concentrate_au', 'final.output.concentrate_au']].dropna()\n",
        "ag = full[['rougher.input.feed_ag', 'rougher.output.concentrate_ag',\\\n",
        "'primary_cleaner.output.concentrate_ag', 'final.output.concentrate_ag']].dropna()\n",
        "pb = full[['rougher.input.feed_pb', 'rougher.output.concentrate_pb',\\\n",
        "'primary_cleaner.output.concentrate_pb', 'final.output.concentrate_pb']].dropna()"
      ]
    },
    {
      "cell_type": "code",
      "execution_count": null,
      "metadata": {
        "id": "L10RE5z9Psyv",
        "outputId": "c3bf4e9c-41ca-47c3-bba4-524afa6ae881"
      },
      "outputs": [
        {
          "name": "stdout",
          "output_type": "stream",
          "text": [
            "До флотации:\n",
            "ag: 8.59, pb: 3.54, au: 8.13\n",
            "\n",
            "После флотации:\n",
            "ag: 12.10, pb: 7.75, au: 20.28\n",
            "\n",
            "После первичной очистки:\n",
            "ag: 8.51, pb: 10.16, au: 32.84\n",
            "\n",
            "Финальная концентрация:\n",
            "ag: 5.07, pb: 10.12, au: 45.01\n"
          ]
        }
      ],
      "source": [
        "# выведем медианную концентрацию\n",
        "# по каждому металлу на каждом этапе\n",
        "\n",
        "print('До флотации:')\n",
        "print('ag:{: 0.2f}, pb:{: 0.2f}, au:{: 0.2f}'.\\\n",
        "format(ag['rougher.input.feed_ag'].median(),\n",
        "       pb['rougher.input.feed_pb'].median(),\n",
        "       au['rougher.input.feed_au'].median()))\n",
        "print()\n",
        "print('После флотации:')\n",
        "print('ag:{: 0.2f}, pb:{: 0.2f}, au:{: 0.2f}'.\\\n",
        "format(ag['rougher.output.concentrate_ag'].median(),\n",
        "       pb['rougher.output.concentrate_pb'].median(),\n",
        "       au['rougher.output.concentrate_au'].median()))\n",
        "print()\n",
        "print('После первичной очистки:')\n",
        "print('ag:{: 0.2f}, pb:{: 0.2f}, au:{: 0.2f}'.\\\n",
        "format(ag['primary_cleaner.output.concentrate_ag'].median(),\n",
        "       pb['primary_cleaner.output.concentrate_pb'].median(),\n",
        "       au['primary_cleaner.output.concentrate_au'].median()))\n",
        "print()\n",
        "print('Финальная концентрация:')\n",
        "print('ag:{: 0.2f}, pb:{: 0.2f}, au:{: 0.2f}'.\\\n",
        "format(ag['final.output.concentrate_ag'].median(),\n",
        "       pb['final.output.concentrate_pb'].median(),\n",
        "       au['final.output.concentrate_au'].median()))"
      ]
    },
    {
      "cell_type": "markdown",
      "metadata": {
        "id": "ommsUdyEPsyv"
      },
      "source": [
        "Медианная концентрация золота растет. У свинца в принципе тоже. А вот медианная концентрация серебра по итогу снижается. Посмотрим на распределения концентраций по каждому металлу на каждом этапе."
      ]
    },
    {
      "cell_type": "code",
      "execution_count": null,
      "metadata": {
        "id": "vYbONz15Psyv",
        "outputId": "7cc330b4-c048-439d-a8fd-2e01d9fcd2b1"
      },
      "outputs": [
        {
          "data": {
            "image/png": "[encoded data removed]",
            "text/plain": [
              "<Figure size 360x360 with 1 Axes>"
            ]
          },
          "metadata": {
            "needs_background": "light"
          },
          "output_type": "display_data"
        },
        {
          "data": {
            "image/png": "[encoded data removed]",
            "text/plain": [
              "<Figure size 360x360 with 1 Axes>"
            ]
          },
          "metadata": {
            "needs_background": "light"
          },
          "output_type": "display_data"
        },
        {
          "data": {
            "image/png": "[encoded data removed]",
            "text/plain": [
              "<Figure size 360x360 with 1 Axes>"
            ]
          },
          "metadata": {
            "needs_background": "light"
          },
          "output_type": "display_data"
        }
      ],
      "source": [
        "for m, m_name in zip([au, ag, pb], ['золота', 'серебра', 'свинца']):\n",
        "    sns.displot(m, legend=False, kind='kde')\n",
        "    plt.title(f'Концентрация {m_name} после разных этапов обработки')\n",
        "    plt.legend(['Финальный концентрат','Первичная очистка','После флотации', 'Сырье'])\n",
        "    plt.xlabel('Концентрация');"
      ]
    },
    {
      "cell_type": "markdown",
      "metadata": {
        "id": "db6LV9kAPsyv"
      },
      "source": [
        "Распределения подтверждают выводы по медианам. Концентрация золота заметно растет."
      ]
    },
    {
      "cell_type": "markdown",
      "metadata": {
        "id": "s9kpz2GKPsyv"
      },
      "source": [
        "**Сравнение распределений размеров гранул сырья на обучающей и тестовой выборках**"
      ]
    },
    {
      "cell_type": "code",
      "execution_count": null,
      "metadata": {
        "id": "5u2Pj8ydPsyv",
        "outputId": "50b6f48b-e51e-40cc-a75a-3781b525e213"
      },
      "outputs": [
        {
          "data": {
            "image/png": "[encoded data removed]",
            "text/plain": [
              "<Figure size 720x504 with 1 Axes>"
            ]
          },
          "metadata": {
            "needs_background": "light"
          },
          "output_type": "display_data"
        }
      ],
      "source": [
        "train['rougher.input.feed_size'].hist(figsize=(10,7), bins=40, density=True);\n",
        "test['rougher.input.feed_size'].hist(figsize=(10,7), bins=40, alpha=0.5, density=True);\n",
        "plt.title('Распределение размеров гранул сырья на обучающей и тестовой выборках')\n",
        "plt.legend(['Обучающая выборка','Тестовая выборка']);\n",
        "plt.xlabel('Размер');\n",
        "plt.ylabel('Соотношение');"
      ]
    },
    {
      "cell_type": "markdown",
      "metadata": {
        "id": "FeTTJb1EPsyw"
      },
      "source": [
        "Как видно, распределения схожи. Ожидаем правильную оценку модели."
      ]
    },
    {
      "cell_type": "markdown",
      "metadata": {
        "id": "VnHcx3knPsyw"
      },
      "source": [
        " **Суммарная концентрация всех веществ на разных стадиях**"
      ]
    },
    {
      "cell_type": "code",
      "execution_count": null,
      "metadata": {
        "id": "5NbAWfbGPsyw"
      },
      "outputs": [],
      "source": [
        "feed = full['rougher.input.feed_au']+full['rougher.input.feed_ag']\\\n",
        "       +full['rougher.input.feed_pb']+full['rougher.input.feed_sol']\n",
        "rougher = full['rougher.output.concentrate_au']+full['rougher.output.concentrate_ag']\\\n",
        "          +full['rougher.output.concentrate_pb']+full['rougher.output.concentrate_sol']\n",
        "final = full['final.output.concentrate_au']+full['final.output.concentrate_ag']\\\n",
        "          +full['final.output.concentrate_pb']+full['final.output.concentrate_sol']"
      ]
    },
    {
      "cell_type": "code",
      "execution_count": null,
      "metadata": {
        "id": "o3hP4m9FPsyw",
        "outputId": "6a4b23b6-489e-4bdc-99df-f4d7e83010bc"
      },
      "outputs": [
        {
          "data": {
            "image/png": "[encoded data removed]",
            "text/plain": [
              "<Figure size 720x504 with 1 Axes>"
            ]
          },
          "metadata": {
            "needs_background": "light"
          },
          "output_type": "display_data"
        }
      ],
      "source": [
        "feed.hist(figsize=(10,7), bins=80);\n",
        "rougher.hist(figsize=(10,7), bins=80, alpha=0.5);\n",
        "final.hist(figsize=(10,7), bins=80, alpha=0.5);\n",
        "plt.title('Суммарная концентрация всех веществ на разных стадиях')\n",
        "plt.legend(['Сырье','Черновой концентрат', 'Финальный концентрат']);\n",
        "plt.xlabel('Концентрация');\n",
        "plt.ylabel('Количество');"
      ]
    },
    {
      "cell_type": "markdown",
      "metadata": {
        "id": "u_AoMuiDPsyw"
      },
      "source": [
        "Видим, что к финальной стадии суммарная концентрация всех веществ закономерно растет."
      ]
    },
    {
      "cell_type": "markdown",
      "metadata": {
        "id": "_zsTRBPiPsyw"
      },
      "source": [
        "**Выводы**\n",
        "\n",
        "Концентрация золота и свинца растет по мере очистки. Концентрация серебра падает. Но суммарная концентрация веществ все же растет.\n",
        "Распределения размеров гранул сырья на обучающей и тестовой выборках схожи.\n"
      ]
    },
    {
      "cell_type": "markdown",
      "metadata": {
        "id": "xUiKI9_MPsyw"
      },
      "source": [
        "## Построение и обучение модели"
      ]
    },
    {
      "cell_type": "markdown",
      "metadata": {
        "id": "hoe1aoeSPsyw"
      },
      "source": [
        "Для решения задачи введём новую метрику качества — sMAPE (англ. Symmetric Mean Absolute Percentage Error, «симметричное среднее абсолютное процентное отклонение»). Она похожа на MAE, но выражается не в абсолютных величинах, а в относительных. Симметричная, т.к. она одинаково учитывает масштаб и целевого признака, и предсказания.\n",
        "![image-2.png](attachment:image-2.png)\n",
        "\n",
        "Итоговая метрика складывается из двух величин:\n",
        "![image.png](attachment:image.png)\n",
        "\n",
        "Напишем функцию для вычисления итоговой sMAPE."
      ]
    },
    {
      "cell_type": "code",
      "execution_count": null,
      "metadata": {
        "id": "vxk_QX63Psyw"
      },
      "outputs": [],
      "source": [
        "def smape(true, pred):\n",
        "    n = 0\n",
        "    for i in range(len(true)):\n",
        "        n += (abs(true[i]-pred[i]))/((abs(true[i])+abs(pred[i]))/2)\n",
        "    return (n/len(true))*100"
      ]
    },
    {
      "cell_type": "code",
      "execution_count": null,
      "metadata": {
        "id": "2QRTr0SiPsyx"
      },
      "outputs": [],
      "source": [
        "def total_smape(rougher_smape, final_smape):\n",
        "    return 0.25*rougher_smape + 0.75*final_smape"
      ]
    },
    {
      "cell_type": "code",
      "execution_count": null,
      "metadata": {
        "id": "tT2-NqxJPsyx"
      },
      "outputs": [],
      "source": [
        "# введем соответствующий оценщик\n",
        "\n",
        "smape_score = make_scorer(smape, greater_is_better=False)"
      ]
    },
    {
      "cell_type": "code",
      "execution_count": null,
      "metadata": {
        "id": "e1DxyIANPsyx"
      },
      "outputs": [],
      "source": [
        "# избавимся от пропусков в test\n",
        "\n",
        "test = test.sort_values('date')\n",
        "test = test.fillna(method=\"ffill\")"
      ]
    },
    {
      "cell_type": "code",
      "execution_count": null,
      "metadata": {
        "id": "KtydlHq_Psyx",
        "outputId": "fe9bd248-7fce-4b2d-8324-d213cf23d8a6"
      },
      "outputs": [
        {
          "data": {
            "text/plain": [
              "0"
            ]
          },
          "execution_count": 38,
          "metadata": {},
          "output_type": "execute_result"
        }
      ],
      "source": [
        "test.isna().sum().sum()"
      ]
    },
    {
      "cell_type": "markdown",
      "metadata": {
        "id": "6_TGGp7YPsyx"
      },
      "source": [
        "Чтобы мы могли проверить качетво модели на тестовой выборке, нам нужно иметь значения целевых переменных. Возьмем их из таблицы `full`. Для этого сделаем колонку `date` в таблицах индексами и перенесем значения целевых переменных по индексам в `test`."
      ]
    },
    {
      "cell_type": "markdown",
      "metadata": {
        "id": "SnSGM6YaPsyx"
      },
      "source": [
        "Уберем из таблицы `full` явные аномальные строки, чтобы взять из нее только релевантные для обучения наблюдения."
      ]
    },
    {
      "cell_type": "code",
      "execution_count": null,
      "metadata": {
        "id": "RjCtfPEIPsyx"
      },
      "outputs": [],
      "source": [
        "full = full.query('@feed > 1 & @rougher > 20 & @final > 20')"
      ]
    },
    {
      "cell_type": "code",
      "execution_count": null,
      "metadata": {
        "id": "CVLX3CsJPsyy"
      },
      "outputs": [],
      "source": [
        "train.set_index('date', inplace=True)\n",
        "test.set_index('date', inplace=True)\n",
        "full.set_index('date', inplace=True)"
      ]
    },
    {
      "cell_type": "code",
      "execution_count": null,
      "metadata": {
        "id": "t9ntAv4sPsyy"
      },
      "outputs": [],
      "source": [
        "train = train.drop(['rougher.output.recovery', 'final.output.recovery'], axis=1)"
      ]
    },
    {
      "cell_type": "code",
      "execution_count": null,
      "metadata": {
        "id": "TO3P9quMPsyy"
      },
      "outputs": [],
      "source": [
        "train = pd.merge(train, full[['rougher.output.recovery', 'final.output.recovery']],\n",
        "         left_index=True, right_index=True)"
      ]
    },
    {
      "cell_type": "code",
      "execution_count": null,
      "metadata": {
        "id": "vFTN722JPsyy"
      },
      "outputs": [],
      "source": [
        "test = pd.merge(test, full[['rougher.output.recovery', 'final.output.recovery']],\n",
        "         left_index=True, right_index=True)"
      ]
    },
    {
      "cell_type": "code",
      "execution_count": null,
      "metadata": {
        "id": "rcaOJggzPsyy"
      },
      "outputs": [],
      "source": [
        "# разделим данные на параметры и целевые переменные\n",
        "\n",
        "features_train = train.drop(['final.output.recovery','rougher.output.recovery'], axis=1)\n",
        "target_rougher_train = train['rougher.output.recovery']\n",
        "target_final_train = train['final.output.recovery']\n",
        "features_test = test.drop(['final.output.recovery','rougher.output.recovery'], axis=1)\n",
        "target_rougher_test = test['rougher.output.recovery']\n",
        "target_final_test = test['final.output.recovery']"
      ]
    },
    {
      "cell_type": "code",
      "execution_count": null,
      "metadata": {
        "id": "A0C_4HBtPsyy"
      },
      "outputs": [],
      "source": [
        "# масштабируем данные для лучшего качетсва моделей\n",
        "\n",
        "columns = list(features_train.columns)\n",
        "scaler = StandardScaler()\n",
        "scaler.fit(features_train)\n",
        "features_train[columns] = scaler.transform(features_train[columns])\n",
        "features_test[columns] = scaler.transform(features_test[columns])"
      ]
    },
    {
      "cell_type": "markdown",
      "metadata": {
        "id": "0EUFz1sDPsyy"
      },
      "source": [
        "Последовательно построим и обучим модели случайного леса, дерева решений и лассо. Проверим их качество кросс-валидацией. Подберем оптимальные гиперпараметры. Оценим значения метрик sMAPE и итогового sMAPE."
      ]
    },
    {
      "cell_type": "code",
      "execution_count": null,
      "metadata": {
        "id": "HZSkdCApPsyy",
        "outputId": "71946f99-f63f-460c-ee12-7a5a4f421453"
      },
      "outputs": [
        {
          "name": "stdout",
          "output_type": "stream",
          "text": [
            "sMAPE эффективности обогащения чернового концентрата: -6.706500249128524\n",
            "sMAPE эффективности обогащения финального концентрата: -8.409885898351844\n",
            "Итоговое sMAPE: -7.984039486046013\n"
          ]
        }
      ],
      "source": [
        "# строим и обучаем случайный лес, смотрим метрики\n",
        "\n",
        "forestreg = RandomForestRegressor(random_state=12345)\n",
        "forestreg_params = {'n_estimators': range(10, 61, 10), 'max_depth': range(1, 10)}\n",
        "forestreg_rougher = RandomizedSearchCV(forestreg, forestreg_params, cv=5, scoring=smape_score, n_jobs=-1)\n",
        "forestreg_final = RandomizedSearchCV(forestreg, forestreg_params, cv=5, scoring=smape_score, n_jobs=-1)\n",
        "forestreg_rougher.fit(features_train, target_rougher_train)\n",
        "forestreg_final.fit(features_train, target_final_train)\n",
        "print('sMAPE эффективности обогащения чернового концентрата:', forestreg_rougher.best_score_)\n",
        "print('sMAPE эффективности обогащения финального концентрата:', forestreg_final.best_score_)\n",
        "print('Итоговое sMAPE:', total_smape(forestreg_rougher.best_score_, forestreg_final.best_score_))"
      ]
    },
    {
      "cell_type": "code",
      "execution_count": null,
      "metadata": {
        "id": "8tJ8RAdlPsyy",
        "outputId": "3565da7f-3794-480c-85ec-1bdf7d0068e7"
      },
      "outputs": [
        {
          "name": "stdout",
          "output_type": "stream",
          "text": [
            "sMAPE эффективности обогащения чернового концентрата: -7.025541589567306\n",
            "sMAPE эффективности обогащения финального концентрата: -9.033522839875957\n",
            "Итоговое sMAPE: -8.531527527298794\n"
          ]
        }
      ],
      "source": [
        "# строим и обучаем дерево решений, смотрим метрики\n",
        "\n",
        "treereg = DecisionTreeRegressor(random_state=12345)\n",
        "treereg_params = {'max_depth': range(1, 10)}\n",
        "treereg_rougher = RandomizedSearchCV(treereg, treereg_params, cv=5, scoring=smape_score, n_jobs=-1)\n",
        "treereg_final = RandomizedSearchCV(treereg, treereg_params, cv=5, scoring=smape_score, n_jobs=-1)\n",
        "treereg_rougher.fit(features_train, target_rougher_train)\n",
        "treereg_final.fit(features_train, target_final_train)\n",
        "print('sMAPE эффективности обогащения чернового концентрата:', treereg_rougher.best_score_)\n",
        "print('sMAPE эффективности обогащения финального концентрата:', treereg_final.best_score_)\n",
        "print('Итоговое sMAPE:', total_smape(treereg_rougher.best_score_, treereg_final.best_score_))"
      ]
    },
    {
      "cell_type": "code",
      "execution_count": null,
      "metadata": {
        "id": "7ThTk8L5Psyz",
        "outputId": "13d7c675-230c-4feb-94c3-4f995e4bbfa5"
      },
      "outputs": [
        {
          "name": "stdout",
          "output_type": "stream",
          "text": [
            "sMAPE эффективности обогащения чернового концентрата: -6.564055237226375\n",
            "sMAPE эффективности обогащения финального концентрата: -9.604969545749615\n",
            "Итоговое sMAPE: -8.844740968618805\n"
          ]
        }
      ],
      "source": [
        "# строим и обучаем лассо, смотрим метрики\n",
        "\n",
        "lasso = Lasso(random_state=12345)\n",
        "lasso_params = {'alpha':[0.02, 0.024, 0.025, 0.026, 0.03]}\n",
        "lasso_rougher = RandomizedSearchCV(lasso, lasso_params, cv=5, scoring=smape_score, n_jobs=-1)\n",
        "lasso_final = RandomizedSearchCV(lasso, lasso_params, cv=5, scoring=smape_score, n_jobs=-1)\n",
        "lasso_rougher.fit(features_train, target_rougher_train)\n",
        "lasso_final.fit(features_train, target_final_train)\n",
        "print('sMAPE эффективности обогащения чернового концентрата:', lasso_rougher.best_score_)\n",
        "print('sMAPE эффективности обогащения финального концентрата:', lasso_final.best_score_)\n",
        "print('Итоговое sMAPE:', total_smape(lasso_rougher.best_score_, lasso_final.best_score_))"
      ]
    },
    {
      "cell_type": "markdown",
      "metadata": {
        "id": "61Gp4_tpPsyz"
      },
      "source": [
        "Лучший итоговый результат показала модель лассо."
      ]
    },
    {
      "cell_type": "markdown",
      "metadata": {
        "id": "8Y728pTkPsyz"
      },
      "source": [
        "Протестируем лучшую модель на тестовой выборке."
      ]
    },
    {
      "cell_type": "code",
      "execution_count": null,
      "metadata": {
        "id": "U9m1VkzdPsyz",
        "outputId": "48d64f14-5ea0-4bb7-87c9-b249ea40d1d7"
      },
      "outputs": [
        {
          "name": "stdout",
          "output_type": "stream",
          "text": [
            "Итоговое sMAPE на тестовой выборке: 6.910374761092424\n",
            "{'alpha': 0.03}\n",
            "{'alpha': 0.03}\n"
          ]
        }
      ],
      "source": [
        "rougher_pred = lasso_rougher.predict(features_test)\n",
        "final_pred = lasso_final.predict(features_test)\n",
        "print('Итоговое sMAPE на тестовой выборке:', \\\n",
        "      total_smape(smape(target_rougher_test, rougher_pred),\\\n",
        "                  smape(target_final_test, final_pred)))\n",
        "print(lasso_rougher.best_params_)\n",
        "print(lasso_final.best_params_)"
      ]
    },
    {
      "cell_type": "markdown",
      "metadata": {
        "id": "dngz0B_sPsyz"
      },
      "source": [
        "Сравним качество работы нашей модели с константной моделью, которая предсказывает медиану."
      ]
    },
    {
      "cell_type": "code",
      "execution_count": null,
      "metadata": {
        "id": "QXsD4Rm4Psyz",
        "outputId": "2c7bb63a-a590-43a2-903a-bb37629f6c14"
      },
      "outputs": [
        {
          "name": "stdout",
          "output_type": "stream",
          "text": [
            "Итоговое sMAPE на константной модели: 7.201685692679165\n"
          ]
        }
      ],
      "source": [
        "dummy_rougher = DummyRegressor(strategy='median')\n",
        "dummy_final = DummyRegressor(strategy='median')\n",
        "dummy_rougher.fit(features_train, target_rougher_train)\n",
        "dummy_final.fit(features_train, target_final_train)\n",
        "dummy_rougher_pred = dummy_rougher.predict(features_train)\n",
        "dummy_final_pred = dummy_final.predict(features_train)\n",
        "print('Итоговое sMAPE на константной модели:', \\\n",
        "      total_smape(smape(target_rougher_test, dummy_rougher_pred),\\\n",
        "                  smape(target_final_test, dummy_final_pred)))"
      ]
    },
    {
      "cell_type": "markdown",
      "metadata": {
        "id": "Tht2ZqLQPsyz"
      },
      "source": [
        "У константной модели результат хуже, чем у нашей лучшей модели. Значит, все посчитано верно."
      ]
    },
    {
      "cell_type": "markdown",
      "metadata": {
        "id": "4PEz144iPsyz"
      },
      "source": [
        "**Выводы**\n",
        "\n",
        "Лучшую метрику sMAPE на обучающей выборке показала модель лассо с параметром `alpha` = 0.03. Результат модели на тестовой выборке 6.91.\n"
      ]
    },
    {
      "cell_type": "markdown",
      "metadata": {
        "id": "fUnkhCgBPsyz"
      },
      "source": [
        "## Общий вывод"
      ]
    },
    {
      "cell_type": "markdown",
      "metadata": {
        "id": "sN2odPlGPsyz"
      },
      "source": [
        "Для предсказания эффективности обогащения чернового и финального концентрата рекомендуется использовать модель лассо с параметром `alpha` = 0.03."
      ]
    }
  ],
  "metadata": {
    "ExecuteTimeLog": [
      {
        "duration": 752,
        "start_time": "2023-03-28T05:41:40.353Z"
      },
      {
        "duration": 56,
        "start_time": "2023-03-28T10:21:53.359Z"
      },
      {
        "duration": 845,
        "start_time": "2023-03-28T10:21:56.010Z"
      },
      {
        "duration": 1829,
        "start_time": "2023-03-28T10:21:58.085Z"
      },
      {
        "duration": 43,
        "start_time": "2023-03-28T10:22:04.488Z"
      },
      {
        "duration": 21,
        "start_time": "2023-03-28T10:27:35.932Z"
      },
      {
        "duration": 1514,
        "start_time": "2023-03-29T09:11:31.247Z"
      },
      {
        "duration": 1529,
        "start_time": "2023-03-29T09:28:11.601Z"
      },
      {
        "duration": 23,
        "start_time": "2023-03-29T09:28:15.285Z"
      },
      {
        "duration": 14,
        "start_time": "2023-03-29T09:31:14.670Z"
      },
      {
        "duration": 17,
        "start_time": "2023-03-29T09:32:55.910Z"
      },
      {
        "duration": 17,
        "start_time": "2023-03-29T09:33:34.492Z"
      },
      {
        "duration": 22,
        "start_time": "2023-03-29T09:49:29.229Z"
      },
      {
        "duration": 20,
        "start_time": "2023-03-29T09:49:54.677Z"
      },
      {
        "duration": 16,
        "start_time": "2023-03-29T09:50:57.616Z"
      },
      {
        "duration": 19,
        "start_time": "2023-03-29T09:51:07.693Z"
      },
      {
        "duration": 35,
        "start_time": "2023-03-29T09:51:46.275Z"
      },
      {
        "duration": 108,
        "start_time": "2023-03-29T09:53:14.358Z"
      },
      {
        "duration": 16,
        "start_time": "2023-03-29T09:53:22.801Z"
      },
      {
        "duration": 17,
        "start_time": "2023-03-29T09:53:40.016Z"
      },
      {
        "duration": 23,
        "start_time": "2023-03-29T09:58:48.351Z"
      },
      {
        "duration": 2,
        "start_time": "2023-03-29T09:59:03.289Z"
      },
      {
        "duration": 126917,
        "start_time": "2023-03-29T10:01:13.367Z"
      },
      {
        "duration": 5726,
        "start_time": "2023-03-29T10:30:11.204Z"
      },
      {
        "duration": 2,
        "start_time": "2023-03-29T10:41:46.794Z"
      },
      {
        "duration": 3,
        "start_time": "2023-03-29T10:43:53.608Z"
      },
      {
        "duration": 1355,
        "start_time": "2023-03-29T10:51:29.551Z"
      },
      {
        "duration": 4,
        "start_time": "2023-03-29T10:51:53.915Z"
      },
      {
        "duration": 8,
        "start_time": "2023-03-29T10:52:02.547Z"
      },
      {
        "duration": 31,
        "start_time": "2023-03-29T11:08:21.149Z"
      },
      {
        "duration": 4,
        "start_time": "2023-03-29T11:08:53.230Z"
      },
      {
        "duration": 12,
        "start_time": "2023-03-29T11:08:54.083Z"
      },
      {
        "duration": 3,
        "start_time": "2023-03-29T11:09:05.003Z"
      },
      {
        "duration": 7,
        "start_time": "2023-03-29T11:09:06.985Z"
      },
      {
        "duration": 6,
        "start_time": "2023-03-29T11:11:00.797Z"
      },
      {
        "duration": 13,
        "start_time": "2023-03-29T11:11:14.937Z"
      },
      {
        "duration": 7,
        "start_time": "2023-03-29T11:13:08.164Z"
      },
      {
        "duration": 6,
        "start_time": "2023-03-29T11:13:24.339Z"
      },
      {
        "duration": 3,
        "start_time": "2023-03-29T11:13:44.424Z"
      },
      {
        "duration": 10,
        "start_time": "2023-03-29T12:11:11.039Z"
      },
      {
        "duration": 14,
        "start_time": "2023-03-29T12:12:18.439Z"
      },
      {
        "duration": 3,
        "start_time": "2023-03-29T13:26:13.864Z"
      },
      {
        "duration": 15,
        "start_time": "2023-03-29T13:26:14.338Z"
      },
      {
        "duration": 4,
        "start_time": "2023-03-29T13:26:14.987Z"
      },
      {
        "duration": 3,
        "start_time": "2023-03-29T13:26:22.227Z"
      },
      {
        "duration": 3,
        "start_time": "2023-03-29T13:26:22.672Z"
      },
      {
        "duration": 5,
        "start_time": "2023-03-29T13:26:23.106Z"
      },
      {
        "duration": 4,
        "start_time": "2023-03-29T13:26:32.116Z"
      },
      {
        "duration": 4,
        "start_time": "2023-03-29T13:26:32.597Z"
      },
      {
        "duration": 5,
        "start_time": "2023-03-29T13:26:33.071Z"
      },
      {
        "duration": 3,
        "start_time": "2023-03-29T13:27:00.909Z"
      },
      {
        "duration": 4,
        "start_time": "2023-03-29T13:27:01.559Z"
      },
      {
        "duration": 4,
        "start_time": "2023-03-29T13:27:02.259Z"
      },
      {
        "duration": 1281,
        "start_time": "2023-03-29T13:37:39.536Z"
      },
      {
        "duration": 1680,
        "start_time": "2023-03-29T13:37:40.818Z"
      },
      {
        "duration": 2,
        "start_time": "2023-03-29T13:37:42.500Z"
      },
      {
        "duration": 22,
        "start_time": "2023-03-29T13:37:42.504Z"
      },
      {
        "duration": 35,
        "start_time": "2023-03-29T13:37:42.527Z"
      },
      {
        "duration": 16,
        "start_time": "2023-03-29T13:37:42.564Z"
      },
      {
        "duration": 37,
        "start_time": "2023-03-29T13:37:42.582Z"
      },
      {
        "duration": 23,
        "start_time": "2023-03-29T13:37:42.645Z"
      },
      {
        "duration": 5,
        "start_time": "2023-03-29T13:37:42.670Z"
      },
      {
        "duration": 3,
        "start_time": "2023-03-29T13:37:42.677Z"
      },
      {
        "duration": 4,
        "start_time": "2023-03-29T13:37:42.682Z"
      },
      {
        "duration": 5,
        "start_time": "2023-03-29T13:37:42.688Z"
      },
      {
        "duration": 3,
        "start_time": "2023-03-29T13:53:14.979Z"
      },
      {
        "duration": 4,
        "start_time": "2023-03-29T13:53:15.647Z"
      },
      {
        "duration": 5,
        "start_time": "2023-03-29T13:53:16.173Z"
      },
      {
        "duration": 5,
        "start_time": "2023-03-29T13:57:24.011Z"
      },
      {
        "duration": 7,
        "start_time": "2023-03-29T13:57:32.536Z"
      },
      {
        "duration": 2,
        "start_time": "2023-03-29T14:02:45.890Z"
      },
      {
        "duration": 5,
        "start_time": "2023-03-29T14:02:47.394Z"
      },
      {
        "duration": 3,
        "start_time": "2023-03-29T14:02:51.899Z"
      },
      {
        "duration": 6,
        "start_time": "2023-03-29T14:02:52.704Z"
      },
      {
        "duration": 3,
        "start_time": "2023-03-29T14:03:22.963Z"
      },
      {
        "duration": 6,
        "start_time": "2023-03-29T14:03:26.830Z"
      },
      {
        "duration": 4,
        "start_time": "2023-03-29T14:03:28.414Z"
      },
      {
        "duration": 4,
        "start_time": "2023-03-29T14:06:17.291Z"
      },
      {
        "duration": 4,
        "start_time": "2023-03-29T14:06:39.216Z"
      },
      {
        "duration": 23,
        "start_time": "2023-03-29T14:07:13.204Z"
      },
      {
        "duration": 5,
        "start_time": "2023-03-29T14:07:22.296Z"
      },
      {
        "duration": 86,
        "start_time": "2023-03-29T14:07:32.642Z"
      },
      {
        "duration": 5,
        "start_time": "2023-03-29T14:07:36.483Z"
      },
      {
        "duration": 80,
        "start_time": "2023-03-29T14:41:39.862Z"
      },
      {
        "duration": 76,
        "start_time": "2023-03-29T14:42:01.233Z"
      },
      {
        "duration": 5,
        "start_time": "2023-03-29T14:42:09.991Z"
      },
      {
        "duration": 7,
        "start_time": "2023-03-29T14:42:16.970Z"
      },
      {
        "duration": 7,
        "start_time": "2023-03-29T14:42:41.918Z"
      },
      {
        "duration": 1560,
        "start_time": "2023-03-30T06:00:14.836Z"
      },
      {
        "duration": 2237,
        "start_time": "2023-03-30T06:00:16.398Z"
      },
      {
        "duration": 3,
        "start_time": "2023-03-30T06:00:18.637Z"
      },
      {
        "duration": 32,
        "start_time": "2023-03-30T06:00:18.642Z"
      },
      {
        "duration": 21,
        "start_time": "2023-03-30T06:00:18.676Z"
      },
      {
        "duration": 23,
        "start_time": "2023-03-30T06:00:18.699Z"
      },
      {
        "duration": 68,
        "start_time": "2023-03-30T06:00:18.724Z"
      },
      {
        "duration": 19,
        "start_time": "2023-03-30T06:00:18.794Z"
      },
      {
        "duration": 3,
        "start_time": "2023-03-30T06:00:18.814Z"
      },
      {
        "duration": 7,
        "start_time": "2023-03-30T06:00:18.819Z"
      },
      {
        "duration": 6,
        "start_time": "2023-03-30T06:00:18.828Z"
      },
      {
        "duration": 31,
        "start_time": "2023-03-30T06:00:18.836Z"
      },
      {
        "duration": 7,
        "start_time": "2023-03-30T06:00:28.061Z"
      },
      {
        "duration": 6,
        "start_time": "2023-03-30T06:10:52.148Z"
      },
      {
        "duration": 12,
        "start_time": "2023-03-30T06:14:03.527Z"
      },
      {
        "duration": 7,
        "start_time": "2023-03-30T06:14:09.510Z"
      },
      {
        "duration": 114,
        "start_time": "2023-03-30T06:14:18.112Z"
      },
      {
        "duration": 24,
        "start_time": "2023-03-30T06:14:26.659Z"
      },
      {
        "duration": 20,
        "start_time": "2023-03-30T06:14:51.799Z"
      },
      {
        "duration": 17,
        "start_time": "2023-03-30T06:15:16.126Z"
      },
      {
        "duration": 17,
        "start_time": "2023-03-30T06:15:21.951Z"
      },
      {
        "duration": 12,
        "start_time": "2023-03-30T06:17:04.166Z"
      },
      {
        "duration": 10,
        "start_time": "2023-03-30T06:17:09.351Z"
      },
      {
        "duration": 91,
        "start_time": "2023-03-30T06:17:37.870Z"
      },
      {
        "duration": 220,
        "start_time": "2023-03-30T06:18:09.221Z"
      },
      {
        "duration": 220,
        "start_time": "2023-03-30T06:18:24.470Z"
      },
      {
        "duration": 227,
        "start_time": "2023-03-30T06:18:31.350Z"
      },
      {
        "duration": 24,
        "start_time": "2023-03-30T06:27:31.883Z"
      },
      {
        "duration": 14,
        "start_time": "2023-03-30T06:32:19.019Z"
      },
      {
        "duration": 108,
        "start_time": "2023-03-30T06:32:30.279Z"
      },
      {
        "duration": 10,
        "start_time": "2023-03-30T06:32:33.674Z"
      },
      {
        "duration": 10,
        "start_time": "2023-03-30T06:32:36.510Z"
      },
      {
        "duration": 12,
        "start_time": "2023-03-30T06:32:39.419Z"
      },
      {
        "duration": 10,
        "start_time": "2023-03-30T06:32:55.310Z"
      },
      {
        "duration": 15,
        "start_time": "2023-03-30T06:34:53.903Z"
      },
      {
        "duration": 74,
        "start_time": "2023-03-30T06:35:34.145Z"
      },
      {
        "duration": 19,
        "start_time": "2023-03-30T06:35:46.004Z"
      },
      {
        "duration": 10,
        "start_time": "2023-03-30T08:58:57.989Z"
      },
      {
        "duration": 8,
        "start_time": "2023-03-30T08:59:57.320Z"
      },
      {
        "duration": 11,
        "start_time": "2023-03-30T09:03:05.281Z"
      },
      {
        "duration": 11,
        "start_time": "2023-03-30T09:04:15.789Z"
      },
      {
        "duration": 8,
        "start_time": "2023-03-30T09:04:33.494Z"
      },
      {
        "duration": 10,
        "start_time": "2023-03-30T09:04:51.087Z"
      },
      {
        "duration": 27,
        "start_time": "2023-03-30T09:07:01.040Z"
      },
      {
        "duration": 13,
        "start_time": "2023-03-30T09:07:12.240Z"
      },
      {
        "duration": 9,
        "start_time": "2023-03-30T09:07:35.322Z"
      },
      {
        "duration": 116,
        "start_time": "2023-03-30T09:07:56.762Z"
      },
      {
        "duration": 6,
        "start_time": "2023-03-30T09:08:14.237Z"
      },
      {
        "duration": 15,
        "start_time": "2023-03-30T09:08:23.160Z"
      },
      {
        "duration": 93,
        "start_time": "2023-03-30T09:08:29.760Z"
      },
      {
        "duration": 11,
        "start_time": "2023-03-30T09:08:39.446Z"
      },
      {
        "duration": 10,
        "start_time": "2023-03-30T09:08:54.709Z"
      },
      {
        "duration": 11,
        "start_time": "2023-03-30T09:09:13.233Z"
      },
      {
        "duration": 11,
        "start_time": "2023-03-30T09:09:30.240Z"
      },
      {
        "duration": 9,
        "start_time": "2023-03-30T09:09:38.716Z"
      },
      {
        "duration": 10,
        "start_time": "2023-03-30T09:12:37.875Z"
      },
      {
        "duration": 6,
        "start_time": "2023-03-30T09:12:49.853Z"
      },
      {
        "duration": 8,
        "start_time": "2023-03-30T09:12:52.876Z"
      },
      {
        "duration": 1460,
        "start_time": "2023-03-30T11:32:09.822Z"
      },
      {
        "duration": 1611,
        "start_time": "2023-03-30T11:32:11.285Z"
      },
      {
        "duration": 3,
        "start_time": "2023-03-30T11:32:12.898Z"
      },
      {
        "duration": 37,
        "start_time": "2023-03-30T11:32:12.902Z"
      },
      {
        "duration": 21,
        "start_time": "2023-03-30T11:32:12.942Z"
      },
      {
        "duration": 35,
        "start_time": "2023-03-30T11:32:12.972Z"
      },
      {
        "duration": 48,
        "start_time": "2023-03-30T11:32:13.009Z"
      },
      {
        "duration": 26,
        "start_time": "2023-03-30T11:32:13.059Z"
      },
      {
        "duration": 22,
        "start_time": "2023-03-30T11:32:13.086Z"
      },
      {
        "duration": 7,
        "start_time": "2023-03-30T11:32:13.110Z"
      },
      {
        "duration": 16,
        "start_time": "2023-03-30T11:32:13.119Z"
      },
      {
        "duration": 7,
        "start_time": "2023-03-30T11:32:13.137Z"
      },
      {
        "duration": 6,
        "start_time": "2023-03-30T11:32:13.146Z"
      },
      {
        "duration": 8,
        "start_time": "2023-03-30T11:32:13.154Z"
      },
      {
        "duration": 52,
        "start_time": "2023-03-30T11:32:13.163Z"
      },
      {
        "duration": 0,
        "start_time": "2023-03-30T11:32:13.216Z"
      },
      {
        "duration": 0,
        "start_time": "2023-03-30T11:32:13.218Z"
      },
      {
        "duration": 0,
        "start_time": "2023-03-30T11:32:13.219Z"
      },
      {
        "duration": 0,
        "start_time": "2023-03-30T11:32:13.219Z"
      },
      {
        "duration": 0,
        "start_time": "2023-03-30T11:32:13.220Z"
      },
      {
        "duration": 0,
        "start_time": "2023-03-30T11:32:13.221Z"
      },
      {
        "duration": 9,
        "start_time": "2023-03-30T11:32:40.687Z"
      },
      {
        "duration": 15,
        "start_time": "2023-03-30T11:32:43.166Z"
      },
      {
        "duration": 10,
        "start_time": "2023-03-30T11:32:44.052Z"
      },
      {
        "duration": 20,
        "start_time": "2023-03-30T11:32:45.421Z"
      },
      {
        "duration": 243,
        "start_time": "2023-03-30T11:32:46.393Z"
      },
      {
        "duration": 117,
        "start_time": "2023-03-30T11:32:48.118Z"
      },
      {
        "duration": 8,
        "start_time": "2023-03-30T11:33:28.383Z"
      },
      {
        "duration": 2,
        "start_time": "2023-03-30T11:33:33.514Z"
      },
      {
        "duration": 2,
        "start_time": "2023-03-30T11:33:43.633Z"
      },
      {
        "duration": 2,
        "start_time": "2023-03-30T11:33:46.964Z"
      },
      {
        "duration": 3,
        "start_time": "2023-03-30T11:33:57.522Z"
      },
      {
        "duration": 4,
        "start_time": "2023-03-30T11:33:59.324Z"
      },
      {
        "duration": 3,
        "start_time": "2023-03-30T11:34:14.246Z"
      },
      {
        "duration": 5,
        "start_time": "2023-03-30T11:34:17.892Z"
      },
      {
        "duration": 2,
        "start_time": "2023-03-30T11:34:39.318Z"
      },
      {
        "duration": 6,
        "start_time": "2023-03-30T11:34:40.962Z"
      },
      {
        "duration": 15,
        "start_time": "2023-03-30T11:35:56.937Z"
      },
      {
        "duration": 4,
        "start_time": "2023-03-30T11:40:28.858Z"
      },
      {
        "duration": 13,
        "start_time": "2023-03-30T11:40:43.243Z"
      },
      {
        "duration": 11,
        "start_time": "2023-03-30T11:40:59.844Z"
      },
      {
        "duration": 11,
        "start_time": "2023-03-30T11:41:07.765Z"
      },
      {
        "duration": 7,
        "start_time": "2023-03-30T11:42:16.440Z"
      },
      {
        "duration": 6,
        "start_time": "2023-03-30T11:42:57.624Z"
      },
      {
        "duration": 7,
        "start_time": "2023-03-30T11:43:02.851Z"
      },
      {
        "duration": 6,
        "start_time": "2023-03-30T12:06:52.031Z"
      },
      {
        "duration": 25,
        "start_time": "2023-03-30T12:14:22.013Z"
      },
      {
        "duration": 21,
        "start_time": "2023-03-30T12:14:49.550Z"
      },
      {
        "duration": 19,
        "start_time": "2023-03-30T12:14:58.243Z"
      },
      {
        "duration": 49,
        "start_time": "2023-03-31T11:23:20.795Z"
      },
      {
        "duration": 1533,
        "start_time": "2023-03-31T11:23:26.954Z"
      },
      {
        "duration": 2040,
        "start_time": "2023-03-31T11:23:28.489Z"
      },
      {
        "duration": 2,
        "start_time": "2023-03-31T11:23:30.532Z"
      },
      {
        "duration": 56,
        "start_time": "2023-03-31T11:23:30.541Z"
      },
      {
        "duration": 52,
        "start_time": "2023-03-31T11:23:30.599Z"
      },
      {
        "duration": 43,
        "start_time": "2023-03-31T11:23:30.653Z"
      },
      {
        "duration": 61,
        "start_time": "2023-03-31T11:23:30.698Z"
      },
      {
        "duration": 16,
        "start_time": "2023-03-31T11:23:30.761Z"
      },
      {
        "duration": 27,
        "start_time": "2023-03-31T11:23:30.778Z"
      },
      {
        "duration": 16,
        "start_time": "2023-03-31T11:23:30.807Z"
      },
      {
        "duration": 40,
        "start_time": "2023-03-31T11:23:30.825Z"
      },
      {
        "duration": 48,
        "start_time": "2023-03-31T11:23:30.866Z"
      },
      {
        "duration": 33,
        "start_time": "2023-03-31T11:23:30.916Z"
      },
      {
        "duration": 35,
        "start_time": "2023-03-31T11:23:30.950Z"
      },
      {
        "duration": 27,
        "start_time": "2023-03-31T11:23:30.988Z"
      },
      {
        "duration": 36,
        "start_time": "2023-03-31T11:23:31.017Z"
      },
      {
        "duration": 34,
        "start_time": "2023-03-31T11:23:31.055Z"
      },
      {
        "duration": 263,
        "start_time": "2023-03-31T11:23:31.090Z"
      },
      {
        "duration": 3,
        "start_time": "2023-03-31T11:23:31.355Z"
      },
      {
        "duration": 21,
        "start_time": "2023-03-31T11:23:31.359Z"
      },
      {
        "duration": 23,
        "start_time": "2023-03-31T11:23:31.381Z"
      },
      {
        "duration": 164,
        "start_time": "2023-03-31T11:23:31.406Z"
      },
      {
        "duration": 34,
        "start_time": "2023-03-31T11:23:51.927Z"
      },
      {
        "duration": 31,
        "start_time": "2023-03-31T11:24:34.957Z"
      },
      {
        "duration": 31,
        "start_time": "2023-03-31T11:27:25.015Z"
      },
      {
        "duration": 26,
        "start_time": "2023-03-31T11:27:32.893Z"
      },
      {
        "duration": 8,
        "start_time": "2023-03-31T11:27:55.895Z"
      },
      {
        "duration": 20,
        "start_time": "2023-03-31T12:16:29.961Z"
      },
      {
        "duration": 40,
        "start_time": "2023-03-31T12:16:58.230Z"
      },
      {
        "duration": 6,
        "start_time": "2023-03-31T12:17:11.254Z"
      },
      {
        "duration": 37,
        "start_time": "2023-03-31T12:38:32.210Z"
      },
      {
        "duration": 3,
        "start_time": "2023-03-31T12:38:58.374Z"
      },
      {
        "duration": 39,
        "start_time": "2023-03-31T12:41:25.842Z"
      },
      {
        "duration": 16,
        "start_time": "2023-03-31T12:46:11.484Z"
      },
      {
        "duration": 9,
        "start_time": "2023-03-31T12:49:31.481Z"
      },
      {
        "duration": 1598,
        "start_time": "2023-03-31T12:50:16.000Z"
      },
      {
        "duration": 8,
        "start_time": "2023-03-31T12:50:27.366Z"
      },
      {
        "duration": 11,
        "start_time": "2023-03-31T12:50:42.637Z"
      },
      {
        "duration": 130,
        "start_time": "2023-03-31T12:51:25.570Z"
      },
      {
        "duration": 1593,
        "start_time": "2023-03-31T12:51:36.330Z"
      },
      {
        "duration": 1548,
        "start_time": "2023-03-31T12:54:37.471Z"
      },
      {
        "duration": 33,
        "start_time": "2023-03-31T14:11:38.540Z"
      },
      {
        "duration": 14,
        "start_time": "2023-03-31T14:11:53.407Z"
      },
      {
        "duration": 6,
        "start_time": "2023-03-31T14:12:14.293Z"
      },
      {
        "duration": 8,
        "start_time": "2023-03-31T14:12:19.206Z"
      },
      {
        "duration": 34,
        "start_time": "2023-03-31T14:13:00.173Z"
      },
      {
        "duration": 34,
        "start_time": "2023-03-31T14:13:08.523Z"
      },
      {
        "duration": 7,
        "start_time": "2023-03-31T14:14:54.856Z"
      },
      {
        "duration": 148,
        "start_time": "2023-03-31T14:15:37.009Z"
      },
      {
        "duration": 141,
        "start_time": "2023-03-31T14:16:06.522Z"
      },
      {
        "duration": 255,
        "start_time": "2023-03-31T14:16:09.166Z"
      },
      {
        "duration": 140,
        "start_time": "2023-03-31T14:16:12.124Z"
      },
      {
        "duration": 1400,
        "start_time": "2023-03-31T14:17:44.447Z"
      },
      {
        "duration": 2006,
        "start_time": "2023-03-31T14:17:45.849Z"
      },
      {
        "duration": 3,
        "start_time": "2023-03-31T14:17:47.856Z"
      },
      {
        "duration": 37,
        "start_time": "2023-03-31T14:17:47.861Z"
      },
      {
        "duration": 24,
        "start_time": "2023-03-31T14:17:47.899Z"
      },
      {
        "duration": 40,
        "start_time": "2023-03-31T14:17:47.925Z"
      },
      {
        "duration": 45,
        "start_time": "2023-03-31T14:17:47.967Z"
      },
      {
        "duration": 26,
        "start_time": "2023-03-31T14:17:48.014Z"
      },
      {
        "duration": 16,
        "start_time": "2023-03-31T14:17:48.042Z"
      },
      {
        "duration": 3,
        "start_time": "2023-03-31T14:17:48.062Z"
      },
      {
        "duration": 11,
        "start_time": "2023-03-31T14:17:48.066Z"
      },
      {
        "duration": 7,
        "start_time": "2023-03-31T14:17:48.079Z"
      },
      {
        "duration": 8,
        "start_time": "2023-03-31T14:17:48.087Z"
      },
      {
        "duration": 45,
        "start_time": "2023-03-31T14:17:48.097Z"
      },
      {
        "duration": 14,
        "start_time": "2023-03-31T14:17:48.144Z"
      },
      {
        "duration": 9,
        "start_time": "2023-03-31T14:17:48.160Z"
      },
      {
        "duration": 13,
        "start_time": "2023-03-31T14:17:48.170Z"
      },
      {
        "duration": 270,
        "start_time": "2023-03-31T14:17:48.185Z"
      },
      {
        "duration": 3,
        "start_time": "2023-03-31T14:17:48.458Z"
      },
      {
        "duration": 34,
        "start_time": "2023-03-31T14:17:48.463Z"
      },
      {
        "duration": 17,
        "start_time": "2023-03-31T14:17:48.499Z"
      },
      {
        "duration": 13,
        "start_time": "2023-03-31T14:17:48.518Z"
      },
      {
        "duration": 12,
        "start_time": "2023-03-31T14:17:48.533Z"
      },
      {
        "duration": 21,
        "start_time": "2023-03-31T14:17:48.546Z"
      },
      {
        "duration": 161,
        "start_time": "2023-03-31T14:17:48.569Z"
      },
      {
        "duration": 138,
        "start_time": "2023-03-31T14:17:48.732Z"
      },
      {
        "duration": 6,
        "start_time": "2023-03-31T14:17:48.872Z"
      },
      {
        "duration": 1441,
        "start_time": "2023-03-31T14:23:04.726Z"
      },
      {
        "duration": 1992,
        "start_time": "2023-03-31T14:23:06.170Z"
      },
      {
        "duration": 2,
        "start_time": "2023-03-31T14:23:08.164Z"
      },
      {
        "duration": 31,
        "start_time": "2023-03-31T14:23:08.168Z"
      },
      {
        "duration": 22,
        "start_time": "2023-03-31T14:23:08.201Z"
      },
      {
        "duration": 24,
        "start_time": "2023-03-31T14:23:08.241Z"
      },
      {
        "duration": 43,
        "start_time": "2023-03-31T14:23:08.267Z"
      },
      {
        "duration": 44,
        "start_time": "2023-03-31T14:23:08.312Z"
      },
      {
        "duration": 16,
        "start_time": "2023-03-31T14:23:08.357Z"
      },
      {
        "duration": 3,
        "start_time": "2023-03-31T14:23:08.375Z"
      },
      {
        "duration": 8,
        "start_time": "2023-03-31T14:23:08.380Z"
      },
      {
        "duration": 5,
        "start_time": "2023-03-31T14:23:08.390Z"
      },
      {
        "duration": 46,
        "start_time": "2023-03-31T14:23:08.397Z"
      },
      {
        "duration": 41,
        "start_time": "2023-03-31T14:23:08.445Z"
      },
      {
        "duration": 18,
        "start_time": "2023-03-31T14:23:08.489Z"
      },
      {
        "duration": 11,
        "start_time": "2023-03-31T14:23:08.509Z"
      },
      {
        "duration": 14,
        "start_time": "2023-03-31T14:23:08.521Z"
      },
      {
        "duration": 266,
        "start_time": "2023-03-31T14:23:08.537Z"
      },
      {
        "duration": 3,
        "start_time": "2023-03-31T14:23:08.805Z"
      },
      {
        "duration": 20,
        "start_time": "2023-03-31T14:23:08.810Z"
      },
      {
        "duration": 13,
        "start_time": "2023-03-31T14:23:08.832Z"
      },
      {
        "duration": 15,
        "start_time": "2023-03-31T14:23:08.846Z"
      },
      {
        "duration": 11,
        "start_time": "2023-03-31T14:23:08.863Z"
      },
      {
        "duration": 15,
        "start_time": "2023-03-31T14:23:08.876Z"
      },
      {
        "duration": 158,
        "start_time": "2023-03-31T14:23:08.893Z"
      },
      {
        "duration": 194,
        "start_time": "2023-03-31T14:23:09.054Z"
      },
      {
        "duration": 10,
        "start_time": "2023-03-31T14:23:09.250Z"
      },
      {
        "duration": 29,
        "start_time": "2023-03-31T14:30:51.210Z"
      },
      {
        "duration": 305,
        "start_time": "2023-03-31T14:40:14.411Z"
      },
      {
        "duration": 111,
        "start_time": "2023-03-31T14:40:34.669Z"
      },
      {
        "duration": 6,
        "start_time": "2023-03-31T14:40:46.191Z"
      },
      {
        "duration": 6,
        "start_time": "2023-03-31T14:40:52.155Z"
      },
      {
        "duration": 5,
        "start_time": "2023-03-31T14:45:35.630Z"
      },
      {
        "duration": 7,
        "start_time": "2023-03-31T14:46:56.418Z"
      },
      {
        "duration": 5,
        "start_time": "2023-03-31T14:48:21.750Z"
      },
      {
        "duration": 72,
        "start_time": "2023-03-31T14:59:44.838Z"
      },
      {
        "duration": 18,
        "start_time": "2023-03-31T14:59:50.534Z"
      },
      {
        "duration": 11,
        "start_time": "2023-03-31T15:00:09.385Z"
      },
      {
        "duration": 5,
        "start_time": "2023-03-31T15:00:23.461Z"
      },
      {
        "duration": 5,
        "start_time": "2023-03-31T15:00:36.461Z"
      },
      {
        "duration": 10,
        "start_time": "2023-03-31T15:00:44.572Z"
      },
      {
        "duration": 5,
        "start_time": "2023-03-31T15:00:48.626Z"
      },
      {
        "duration": 11,
        "start_time": "2023-03-31T15:00:55.956Z"
      },
      {
        "duration": 9,
        "start_time": "2023-03-31T15:01:35.666Z"
      },
      {
        "duration": 5,
        "start_time": "2023-03-31T15:01:54.520Z"
      },
      {
        "duration": 10,
        "start_time": "2023-03-31T15:03:56.625Z"
      },
      {
        "duration": 83,
        "start_time": "2023-03-31T15:04:25.458Z"
      },
      {
        "duration": 10,
        "start_time": "2023-03-31T15:04:30.921Z"
      },
      {
        "duration": 9,
        "start_time": "2023-03-31T15:05:15.301Z"
      },
      {
        "duration": 10,
        "start_time": "2023-03-31T15:05:44.493Z"
      },
      {
        "duration": 6,
        "start_time": "2023-03-31T15:13:44.556Z"
      },
      {
        "duration": 5,
        "start_time": "2023-03-31T15:15:05.827Z"
      },
      {
        "duration": 11,
        "start_time": "2023-03-31T15:15:17.556Z"
      },
      {
        "duration": 6,
        "start_time": "2023-03-31T15:16:05.626Z"
      },
      {
        "duration": 14,
        "start_time": "2023-03-31T15:19:30.790Z"
      },
      {
        "duration": 17,
        "start_time": "2023-03-31T15:19:42.126Z"
      },
      {
        "duration": 11,
        "start_time": "2023-03-31T15:21:08.698Z"
      },
      {
        "duration": 11,
        "start_time": "2023-03-31T15:28:30.860Z"
      },
      {
        "duration": 3,
        "start_time": "2023-03-31T15:31:24.500Z"
      },
      {
        "duration": 6,
        "start_time": "2023-03-31T15:31:37.418Z"
      },
      {
        "duration": 10,
        "start_time": "2023-03-31T15:31:55.731Z"
      },
      {
        "duration": 6,
        "start_time": "2023-03-31T15:32:11.844Z"
      },
      {
        "duration": 5,
        "start_time": "2023-03-31T15:34:38.901Z"
      },
      {
        "duration": 6,
        "start_time": "2023-03-31T15:34:45.787Z"
      },
      {
        "duration": 6,
        "start_time": "2023-03-31T15:34:46.004Z"
      },
      {
        "duration": 3,
        "start_time": "2023-03-31T15:35:28.965Z"
      },
      {
        "duration": 4,
        "start_time": "2023-03-31T15:35:36.090Z"
      },
      {
        "duration": 11,
        "start_time": "2023-03-31T15:38:26.707Z"
      },
      {
        "duration": 6,
        "start_time": "2023-03-31T15:38:43.945Z"
      },
      {
        "duration": 11,
        "start_time": "2023-03-31T15:38:56.220Z"
      },
      {
        "duration": 10,
        "start_time": "2023-03-31T15:38:59.762Z"
      },
      {
        "duration": 4,
        "start_time": "2023-03-31T15:58:14.296Z"
      },
      {
        "duration": 10,
        "start_time": "2023-03-31T15:58:30.040Z"
      },
      {
        "duration": 79,
        "start_time": "2023-03-31T16:02:02.255Z"
      },
      {
        "duration": 13,
        "start_time": "2023-03-31T16:02:08.946Z"
      },
      {
        "duration": 2,
        "start_time": "2023-03-31T16:03:43.707Z"
      },
      {
        "duration": 12,
        "start_time": "2023-03-31T16:40:36.512Z"
      },
      {
        "duration": 16,
        "start_time": "2023-03-31T16:44:43.446Z"
      },
      {
        "duration": 14,
        "start_time": "2023-03-31T16:45:15.021Z"
      },
      {
        "duration": 15,
        "start_time": "2023-03-31T16:46:47.277Z"
      },
      {
        "duration": 15,
        "start_time": "2023-03-31T16:47:08.367Z"
      },
      {
        "duration": 82,
        "start_time": "2023-03-31T16:49:01.848Z"
      },
      {
        "duration": 15,
        "start_time": "2023-03-31T16:49:51.342Z"
      },
      {
        "duration": 15,
        "start_time": "2023-03-31T16:51:36.110Z"
      },
      {
        "duration": 15,
        "start_time": "2023-03-31T16:52:01.582Z"
      },
      {
        "duration": 13,
        "start_time": "2023-03-31T16:59:20.351Z"
      },
      {
        "duration": 67,
        "start_time": "2023-03-31T16:59:43.102Z"
      },
      {
        "duration": 1410,
        "start_time": "2023-03-31T16:59:53.288Z"
      },
      {
        "duration": 1355,
        "start_time": "2023-03-31T17:00:22.443Z"
      },
      {
        "duration": 1182,
        "start_time": "2023-03-31T17:01:44.108Z"
      },
      {
        "duration": 1228,
        "start_time": "2023-03-31T17:02:49.658Z"
      },
      {
        "duration": 1401,
        "start_time": "2023-03-31T17:02:54.583Z"
      },
      {
        "duration": 1327,
        "start_time": "2023-03-31T17:07:23.557Z"
      },
      {
        "duration": 1291,
        "start_time": "2023-03-31T17:07:38.794Z"
      },
      {
        "duration": 6,
        "start_time": "2023-03-31T17:09:18.592Z"
      },
      {
        "duration": 1151,
        "start_time": "2023-03-31T17:10:33.719Z"
      },
      {
        "duration": 1277,
        "start_time": "2023-03-31T17:10:43.007Z"
      },
      {
        "duration": 1636,
        "start_time": "2023-03-31T17:10:51.078Z"
      },
      {
        "duration": 1374,
        "start_time": "2023-03-31T17:12:33.105Z"
      },
      {
        "duration": 1489,
        "start_time": "2023-04-01T06:33:58.787Z"
      },
      {
        "duration": 1863,
        "start_time": "2023-04-01T06:34:00.278Z"
      },
      {
        "duration": 27,
        "start_time": "2023-04-01T06:34:02.142Z"
      },
      {
        "duration": 17,
        "start_time": "2023-04-01T06:34:02.171Z"
      },
      {
        "duration": 25,
        "start_time": "2023-04-01T06:34:02.189Z"
      },
      {
        "duration": 1248,
        "start_time": "2023-04-01T06:45:43.896Z"
      },
      {
        "duration": 1935,
        "start_time": "2023-04-01T06:45:45.146Z"
      },
      {
        "duration": 25,
        "start_time": "2023-04-01T06:45:47.082Z"
      },
      {
        "duration": 20,
        "start_time": "2023-04-01T06:45:47.109Z"
      },
      {
        "duration": 42,
        "start_time": "2023-04-01T06:45:47.131Z"
      },
      {
        "duration": 42,
        "start_time": "2023-04-01T06:45:47.174Z"
      },
      {
        "duration": 17,
        "start_time": "2023-04-01T06:45:47.218Z"
      },
      {
        "duration": 13,
        "start_time": "2023-04-01T06:45:47.236Z"
      },
      {
        "duration": 3,
        "start_time": "2023-04-01T06:45:47.268Z"
      },
      {
        "duration": 6,
        "start_time": "2023-04-01T06:45:47.273Z"
      },
      {
        "duration": 4,
        "start_time": "2023-04-01T06:45:47.280Z"
      },
      {
        "duration": 5,
        "start_time": "2023-04-01T06:45:47.286Z"
      },
      {
        "duration": 7,
        "start_time": "2023-04-01T06:45:47.293Z"
      },
      {
        "duration": 10,
        "start_time": "2023-04-01T06:45:47.301Z"
      },
      {
        "duration": 7,
        "start_time": "2023-04-01T06:45:47.312Z"
      },
      {
        "duration": 20,
        "start_time": "2023-04-01T06:45:47.320Z"
      },
      {
        "duration": 216,
        "start_time": "2023-04-01T06:45:47.368Z"
      },
      {
        "duration": 2,
        "start_time": "2023-04-01T06:45:47.586Z"
      },
      {
        "duration": 10,
        "start_time": "2023-04-01T06:45:47.590Z"
      },
      {
        "duration": 9,
        "start_time": "2023-04-01T06:45:47.601Z"
      },
      {
        "duration": 5,
        "start_time": "2023-04-01T06:45:47.611Z"
      },
      {
        "duration": 5,
        "start_time": "2023-04-01T06:45:47.617Z"
      },
      {
        "duration": 7,
        "start_time": "2023-04-01T06:45:47.623Z"
      },
      {
        "duration": 160,
        "start_time": "2023-04-01T06:45:47.632Z"
      },
      {
        "duration": 133,
        "start_time": "2023-04-01T06:45:47.794Z"
      },
      {
        "duration": 7,
        "start_time": "2023-04-01T06:45:47.929Z"
      },
      {
        "duration": 5,
        "start_time": "2023-04-01T06:45:47.938Z"
      },
      {
        "duration": 28,
        "start_time": "2023-04-01T06:45:47.945Z"
      },
      {
        "duration": 54,
        "start_time": "2023-04-01T06:45:47.975Z"
      },
      {
        "duration": 6,
        "start_time": "2023-04-01T06:45:48.030Z"
      },
      {
        "duration": 1492,
        "start_time": "2023-04-01T06:45:48.038Z"
      },
      {
        "duration": 1381,
        "start_time": "2023-04-01T06:45:49.532Z"
      },
      {
        "duration": 1628,
        "start_time": "2023-04-01T06:45:50.915Z"
      },
      {
        "duration": 457,
        "start_time": "2023-04-01T06:46:43.002Z"
      },
      {
        "duration": 1112,
        "start_time": "2023-04-01T06:49:27.973Z"
      },
      {
        "duration": 8,
        "start_time": "2023-04-01T06:50:04.201Z"
      },
      {
        "duration": 12,
        "start_time": "2023-04-01T06:50:32.617Z"
      },
      {
        "duration": 1253,
        "start_time": "2023-04-01T06:52:17.243Z"
      },
      {
        "duration": 1153,
        "start_time": "2023-04-01T06:52:44.695Z"
      },
      {
        "duration": 1224,
        "start_time": "2023-04-01T06:52:53.338Z"
      },
      {
        "duration": 1167,
        "start_time": "2023-04-01T06:54:40.896Z"
      },
      {
        "duration": 646,
        "start_time": "2023-04-01T06:55:58.257Z"
      },
      {
        "duration": 1555,
        "start_time": "2023-04-01T06:56:22.928Z"
      },
      {
        "duration": 1484,
        "start_time": "2023-04-01T06:57:01.219Z"
      },
      {
        "duration": 1670,
        "start_time": "2023-04-01T06:57:54.931Z"
      },
      {
        "duration": 1179,
        "start_time": "2023-04-01T06:58:29.812Z"
      },
      {
        "duration": 1371,
        "start_time": "2023-04-01T06:58:46.522Z"
      },
      {
        "duration": 1367,
        "start_time": "2023-04-01T06:59:04.732Z"
      },
      {
        "duration": 1446,
        "start_time": "2023-04-01T06:59:23.196Z"
      },
      {
        "duration": 1353,
        "start_time": "2023-04-01T06:59:38.739Z"
      },
      {
        "duration": 1207,
        "start_time": "2023-04-01T07:00:02.878Z"
      },
      {
        "duration": 1204,
        "start_time": "2023-04-01T07:00:10.084Z"
      },
      {
        "duration": 768,
        "start_time": "2023-04-01T07:04:38.735Z"
      },
      {
        "duration": 859,
        "start_time": "2023-04-01T07:04:55.163Z"
      },
      {
        "duration": 1179,
        "start_time": "2023-04-01T07:05:07.003Z"
      },
      {
        "duration": 4,
        "start_time": "2023-04-01T07:06:51.049Z"
      },
      {
        "duration": 5,
        "start_time": "2023-04-01T07:08:46.818Z"
      },
      {
        "duration": 200,
        "start_time": "2023-04-01T07:09:37.331Z"
      },
      {
        "duration": 197,
        "start_time": "2023-04-01T07:09:39.801Z"
      },
      {
        "duration": 365,
        "start_time": "2023-04-01T07:10:06.442Z"
      },
      {
        "duration": 384,
        "start_time": "2023-04-01T07:10:47.367Z"
      },
      {
        "duration": 53,
        "start_time": "2023-04-02T10:01:54.248Z"
      },
      {
        "duration": 1737,
        "start_time": "2023-04-02T10:01:59.405Z"
      },
      {
        "duration": 1882,
        "start_time": "2023-04-02T10:02:01.144Z"
      },
      {
        "duration": 28,
        "start_time": "2023-04-02T10:02:03.027Z"
      },
      {
        "duration": 28,
        "start_time": "2023-04-02T10:02:03.056Z"
      },
      {
        "duration": 39,
        "start_time": "2023-04-02T10:02:03.086Z"
      },
      {
        "duration": 48,
        "start_time": "2023-04-02T10:02:03.127Z"
      },
      {
        "duration": 20,
        "start_time": "2023-04-02T10:02:03.177Z"
      },
      {
        "duration": 35,
        "start_time": "2023-04-02T10:02:03.199Z"
      },
      {
        "duration": 3,
        "start_time": "2023-04-02T10:02:03.236Z"
      },
      {
        "duration": 9,
        "start_time": "2023-04-02T10:02:03.240Z"
      },
      {
        "duration": 7,
        "start_time": "2023-04-02T10:02:03.251Z"
      },
      {
        "duration": 7,
        "start_time": "2023-04-02T10:02:03.260Z"
      },
      {
        "duration": 10,
        "start_time": "2023-04-02T10:02:03.268Z"
      },
      {
        "duration": 44,
        "start_time": "2023-04-02T10:02:03.281Z"
      },
      {
        "duration": 9,
        "start_time": "2023-04-02T10:02:03.326Z"
      },
      {
        "duration": 13,
        "start_time": "2023-04-02T10:02:03.337Z"
      },
      {
        "duration": 259,
        "start_time": "2023-04-02T10:02:03.352Z"
      },
      {
        "duration": 3,
        "start_time": "2023-04-02T10:02:03.613Z"
      },
      {
        "duration": 6,
        "start_time": "2023-04-02T10:02:03.622Z"
      },
      {
        "duration": 12,
        "start_time": "2023-04-02T10:02:03.630Z"
      },
      {
        "duration": 6,
        "start_time": "2023-04-02T10:02:03.643Z"
      },
      {
        "duration": 6,
        "start_time": "2023-04-02T10:02:03.651Z"
      },
      {
        "duration": 9,
        "start_time": "2023-04-02T10:02:03.658Z"
      },
      {
        "duration": 189,
        "start_time": "2023-04-02T10:02:03.668Z"
      },
      {
        "duration": 149,
        "start_time": "2023-04-02T10:02:03.859Z"
      },
      {
        "duration": 13,
        "start_time": "2023-04-02T10:02:04.010Z"
      },
      {
        "duration": 7,
        "start_time": "2023-04-02T10:02:04.025Z"
      },
      {
        "duration": 15,
        "start_time": "2023-04-02T10:02:04.033Z"
      },
      {
        "duration": 17,
        "start_time": "2023-04-02T10:02:04.050Z"
      },
      {
        "duration": 1398,
        "start_time": "2023-04-02T10:02:04.069Z"
      },
      {
        "duration": 1202,
        "start_time": "2023-04-02T10:02:05.469Z"
      },
      {
        "duration": 1300,
        "start_time": "2023-04-02T10:02:06.672Z"
      },
      {
        "duration": 5,
        "start_time": "2023-04-02T10:02:07.974Z"
      },
      {
        "duration": 439,
        "start_time": "2023-04-02T10:02:07.980Z"
      },
      {
        "duration": 150,
        "start_time": "2023-04-02T10:06:20.596Z"
      },
      {
        "duration": 211,
        "start_time": "2023-04-02T10:07:08.044Z"
      },
      {
        "duration": 198,
        "start_time": "2023-04-02T10:07:26.312Z"
      },
      {
        "duration": 209,
        "start_time": "2023-04-02T10:07:30.915Z"
      },
      {
        "duration": 203,
        "start_time": "2023-04-02T10:07:48.850Z"
      },
      {
        "duration": 1348,
        "start_time": "2023-04-02T10:08:29.547Z"
      },
      {
        "duration": 1298,
        "start_time": "2023-04-02T10:08:39.244Z"
      },
      {
        "duration": 5,
        "start_time": "2023-04-02T10:09:22.545Z"
      },
      {
        "duration": 6,
        "start_time": "2023-04-02T10:09:29.265Z"
      },
      {
        "duration": 172,
        "start_time": "2023-04-02T10:10:02.864Z"
      },
      {
        "duration": 225,
        "start_time": "2023-04-02T10:11:13.438Z"
      },
      {
        "duration": 224,
        "start_time": "2023-04-02T10:11:18.505Z"
      },
      {
        "duration": 213,
        "start_time": "2023-04-02T10:11:43.104Z"
      },
      {
        "duration": 197,
        "start_time": "2023-04-02T10:12:58.865Z"
      },
      {
        "duration": 199,
        "start_time": "2023-04-02T10:13:03.465Z"
      },
      {
        "duration": 197,
        "start_time": "2023-04-02T10:13:23.803Z"
      },
      {
        "duration": 76,
        "start_time": "2023-04-02T10:13:53.517Z"
      },
      {
        "duration": 268,
        "start_time": "2023-04-02T10:13:57.224Z"
      },
      {
        "duration": 228,
        "start_time": "2023-04-02T10:14:18.769Z"
      },
      {
        "duration": 311,
        "start_time": "2023-04-02T10:14:30.196Z"
      },
      {
        "duration": 1241,
        "start_time": "2023-04-02T10:15:26.427Z"
      },
      {
        "duration": 1172,
        "start_time": "2023-04-02T10:15:43.918Z"
      },
      {
        "duration": 683,
        "start_time": "2023-04-02T10:21:09.784Z"
      },
      {
        "duration": 321,
        "start_time": "2023-04-02T10:21:58.752Z"
      },
      {
        "duration": 560,
        "start_time": "2023-04-02T10:23:00.116Z"
      },
      {
        "duration": 479,
        "start_time": "2023-04-02T10:23:34.905Z"
      },
      {
        "duration": 458,
        "start_time": "2023-04-02T10:24:12.359Z"
      },
      {
        "duration": 579,
        "start_time": "2023-04-02T10:25:02.105Z"
      },
      {
        "duration": 472,
        "start_time": "2023-04-02T10:25:16.195Z"
      },
      {
        "duration": 160,
        "start_time": "2023-04-02T10:28:03.145Z"
      },
      {
        "duration": 154,
        "start_time": "2023-04-02T10:28:18.263Z"
      },
      {
        "duration": 187,
        "start_time": "2023-04-02T10:28:49.751Z"
      },
      {
        "duration": 4,
        "start_time": "2023-04-02T10:29:56.949Z"
      },
      {
        "duration": 447,
        "start_time": "2023-04-02T10:31:12.865Z"
      },
      {
        "duration": 406,
        "start_time": "2023-04-02T10:33:53.357Z"
      },
      {
        "duration": 287,
        "start_time": "2023-04-02T10:34:25.363Z"
      },
      {
        "duration": 316,
        "start_time": "2023-04-02T10:34:39.485Z"
      },
      {
        "duration": 320,
        "start_time": "2023-04-02T10:35:29.753Z"
      },
      {
        "duration": 310,
        "start_time": "2023-04-02T10:35:54.967Z"
      },
      {
        "duration": 2150,
        "start_time": "2023-04-02T10:39:10.427Z"
      },
      {
        "duration": 7,
        "start_time": "2023-04-02T10:56:13.585Z"
      },
      {
        "duration": 403,
        "start_time": "2023-04-02T10:58:43.067Z"
      },
      {
        "duration": 386,
        "start_time": "2023-04-02T11:00:33.759Z"
      },
      {
        "duration": 395,
        "start_time": "2023-04-02T11:00:41.066Z"
      },
      {
        "duration": 393,
        "start_time": "2023-04-02T11:00:56.120Z"
      },
      {
        "duration": 439,
        "start_time": "2023-04-02T11:01:12.761Z"
      },
      {
        "duration": 389,
        "start_time": "2023-04-02T11:01:16.597Z"
      },
      {
        "duration": 587,
        "start_time": "2023-04-02T11:07:19.174Z"
      },
      {
        "duration": 872,
        "start_time": "2023-04-02T11:07:31.844Z"
      },
      {
        "duration": 859,
        "start_time": "2023-04-02T11:07:49.204Z"
      },
      {
        "duration": 452,
        "start_time": "2023-04-02T11:08:02.907Z"
      },
      {
        "duration": 456,
        "start_time": "2023-04-02T11:08:08.274Z"
      },
      {
        "duration": 586,
        "start_time": "2023-04-02T11:08:51.190Z"
      },
      {
        "duration": 718,
        "start_time": "2023-04-02T11:11:55.952Z"
      },
      {
        "duration": 226,
        "start_time": "2023-04-02T11:12:16.985Z"
      },
      {
        "duration": 951,
        "start_time": "2023-04-02T11:13:00.105Z"
      },
      {
        "duration": 905,
        "start_time": "2023-04-02T11:14:17.989Z"
      },
      {
        "duration": 792,
        "start_time": "2023-04-02T11:14:47.543Z"
      },
      {
        "duration": 1257,
        "start_time": "2023-04-02T11:15:08.224Z"
      },
      {
        "duration": 976,
        "start_time": "2023-04-02T11:15:51.985Z"
      },
      {
        "duration": 59,
        "start_time": "2023-04-02T13:41:51.182Z"
      },
      {
        "duration": 1598,
        "start_time": "2023-04-02T13:42:01.030Z"
      },
      {
        "duration": 2384,
        "start_time": "2023-04-02T13:42:02.630Z"
      },
      {
        "duration": 62,
        "start_time": "2023-04-02T13:42:05.017Z"
      },
      {
        "duration": 23,
        "start_time": "2023-04-02T13:42:05.081Z"
      },
      {
        "duration": 32,
        "start_time": "2023-04-02T13:42:05.107Z"
      },
      {
        "duration": 88,
        "start_time": "2023-04-02T13:42:05.141Z"
      },
      {
        "duration": 30,
        "start_time": "2023-04-02T13:42:05.231Z"
      },
      {
        "duration": 16,
        "start_time": "2023-04-02T13:42:05.263Z"
      },
      {
        "duration": 4,
        "start_time": "2023-04-02T13:42:05.281Z"
      },
      {
        "duration": 14,
        "start_time": "2023-04-02T13:42:05.286Z"
      },
      {
        "duration": 8,
        "start_time": "2023-04-02T13:42:05.302Z"
      },
      {
        "duration": 22,
        "start_time": "2023-04-02T13:42:05.312Z"
      },
      {
        "duration": 32,
        "start_time": "2023-04-02T13:42:05.336Z"
      },
      {
        "duration": 12,
        "start_time": "2023-04-02T13:42:05.371Z"
      },
      {
        "duration": 26,
        "start_time": "2023-04-02T13:42:05.384Z"
      },
      {
        "duration": 23,
        "start_time": "2023-04-02T13:42:05.412Z"
      },
      {
        "duration": 270,
        "start_time": "2023-04-02T13:42:05.438Z"
      },
      {
        "duration": 3,
        "start_time": "2023-04-02T13:42:05.709Z"
      },
      {
        "duration": 9,
        "start_time": "2023-04-02T13:42:05.714Z"
      },
      {
        "duration": 16,
        "start_time": "2023-04-02T13:42:05.724Z"
      },
      {
        "duration": 16,
        "start_time": "2023-04-02T13:42:05.751Z"
      },
      {
        "duration": 26,
        "start_time": "2023-04-02T13:42:05.769Z"
      },
      {
        "duration": 26,
        "start_time": "2023-04-02T13:42:05.797Z"
      },
      {
        "duration": 174,
        "start_time": "2023-04-02T13:42:05.826Z"
      },
      {
        "duration": 123,
        "start_time": "2023-04-02T13:42:06.002Z"
      },
      {
        "duration": 152,
        "start_time": "2023-04-02T13:42:06.127Z"
      },
      {
        "duration": 0,
        "start_time": "2023-04-02T13:42:06.281Z"
      },
      {
        "duration": 0,
        "start_time": "2023-04-02T13:42:06.282Z"
      },
      {
        "duration": 0,
        "start_time": "2023-04-02T13:42:06.284Z"
      },
      {
        "duration": 0,
        "start_time": "2023-04-02T13:42:06.284Z"
      },
      {
        "duration": 0,
        "start_time": "2023-04-02T13:42:06.285Z"
      },
      {
        "duration": 0,
        "start_time": "2023-04-02T13:42:06.286Z"
      },
      {
        "duration": 0,
        "start_time": "2023-04-02T13:42:06.288Z"
      },
      {
        "duration": 0,
        "start_time": "2023-04-02T13:42:06.289Z"
      },
      {
        "duration": 0,
        "start_time": "2023-04-02T13:42:06.290Z"
      },
      {
        "duration": 0,
        "start_time": "2023-04-02T13:42:06.290Z"
      },
      {
        "duration": 0,
        "start_time": "2023-04-02T13:42:06.292Z"
      },
      {
        "duration": 0,
        "start_time": "2023-04-02T13:42:06.293Z"
      },
      {
        "duration": 39,
        "start_time": "2023-04-02T13:42:32.279Z"
      },
      {
        "duration": 13,
        "start_time": "2023-04-02T13:43:55.705Z"
      },
      {
        "duration": 216,
        "start_time": "2023-04-02T13:43:58.518Z"
      },
      {
        "duration": 359,
        "start_time": "2023-04-02T13:44:43.385Z"
      },
      {
        "duration": 6,
        "start_time": "2023-04-02T13:48:21.187Z"
      },
      {
        "duration": 6,
        "start_time": "2023-04-02T13:48:36.393Z"
      },
      {
        "duration": 367,
        "start_time": "2023-04-02T13:49:01.157Z"
      },
      {
        "duration": 2287,
        "start_time": "2023-04-02T13:49:32.756Z"
      },
      {
        "duration": 1796,
        "start_time": "2023-04-02T13:49:35.046Z"
      },
      {
        "duration": 27,
        "start_time": "2023-04-02T13:49:36.844Z"
      },
      {
        "duration": 32,
        "start_time": "2023-04-02T13:49:36.873Z"
      },
      {
        "duration": 48,
        "start_time": "2023-04-02T13:49:36.908Z"
      },
      {
        "duration": 40,
        "start_time": "2023-04-02T13:49:36.961Z"
      },
      {
        "duration": 22,
        "start_time": "2023-04-02T13:49:37.002Z"
      },
      {
        "duration": 36,
        "start_time": "2023-04-02T13:49:37.026Z"
      },
      {
        "duration": 3,
        "start_time": "2023-04-02T13:49:37.064Z"
      },
      {
        "duration": 10,
        "start_time": "2023-04-02T13:49:37.073Z"
      },
      {
        "duration": 11,
        "start_time": "2023-04-02T13:49:37.084Z"
      },
      {
        "duration": 9,
        "start_time": "2023-04-02T13:49:37.097Z"
      },
      {
        "duration": 23,
        "start_time": "2023-04-02T13:49:37.108Z"
      },
      {
        "duration": 24,
        "start_time": "2023-04-02T13:49:37.135Z"
      },
      {
        "duration": 15,
        "start_time": "2023-04-02T13:49:37.160Z"
      },
      {
        "duration": 20,
        "start_time": "2023-04-02T13:49:37.176Z"
      },
      {
        "duration": 242,
        "start_time": "2023-04-02T13:49:37.198Z"
      },
      {
        "duration": 3,
        "start_time": "2023-04-02T13:49:37.442Z"
      },
      {
        "duration": 27,
        "start_time": "2023-04-02T13:49:37.450Z"
      },
      {
        "duration": 28,
        "start_time": "2023-04-02T13:49:37.479Z"
      },
      {
        "duration": 10,
        "start_time": "2023-04-02T13:49:37.509Z"
      },
      {
        "duration": 11,
        "start_time": "2023-04-02T13:49:37.520Z"
      },
      {
        "duration": 13,
        "start_time": "2023-04-02T13:49:37.532Z"
      },
      {
        "duration": 23,
        "start_time": "2023-04-02T13:49:37.546Z"
      },
      {
        "duration": 349,
        "start_time": "2023-04-02T13:49:37.571Z"
      },
      {
        "duration": 6,
        "start_time": "2023-04-02T13:49:37.922Z"
      },
      {
        "duration": 8,
        "start_time": "2023-04-02T13:49:37.929Z"
      },
      {
        "duration": 29,
        "start_time": "2023-04-02T13:49:37.938Z"
      },
      {
        "duration": 17,
        "start_time": "2023-04-02T13:49:37.969Z"
      },
      {
        "duration": 1682,
        "start_time": "2023-04-02T13:49:37.988Z"
      },
      {
        "duration": 895,
        "start_time": "2023-04-02T13:49:39.672Z"
      },
      {
        "duration": 1209,
        "start_time": "2023-04-02T13:49:40.569Z"
      },
      {
        "duration": 1197,
        "start_time": "2023-04-02T13:49:41.780Z"
      },
      {
        "duration": 6,
        "start_time": "2023-04-02T13:49:42.980Z"
      },
      {
        "duration": 383,
        "start_time": "2023-04-02T13:49:42.988Z"
      },
      {
        "duration": 7,
        "start_time": "2023-04-02T13:49:43.373Z"
      },
      {
        "duration": 597,
        "start_time": "2023-04-02T13:49:43.382Z"
      },
      {
        "duration": 331,
        "start_time": "2023-04-02T13:50:31.889Z"
      },
      {
        "duration": 886,
        "start_time": "2023-04-02T13:51:38.993Z"
      },
      {
        "duration": 1326,
        "start_time": "2023-04-02T13:52:37.503Z"
      },
      {
        "duration": 1451,
        "start_time": "2023-04-02T13:52:38.831Z"
      },
      {
        "duration": 22,
        "start_time": "2023-04-02T13:52:40.284Z"
      },
      {
        "duration": 17,
        "start_time": "2023-04-02T13:52:40.308Z"
      },
      {
        "duration": 25,
        "start_time": "2023-04-02T13:52:40.352Z"
      },
      {
        "duration": 41,
        "start_time": "2023-04-02T13:52:40.378Z"
      },
      {
        "duration": 47,
        "start_time": "2023-04-02T13:52:40.421Z"
      },
      {
        "duration": 14,
        "start_time": "2023-04-02T13:52:40.470Z"
      },
      {
        "duration": 3,
        "start_time": "2023-04-02T13:52:40.486Z"
      },
      {
        "duration": 9,
        "start_time": "2023-04-02T13:52:40.491Z"
      },
      {
        "duration": 5,
        "start_time": "2023-04-02T13:52:40.502Z"
      },
      {
        "duration": 11,
        "start_time": "2023-04-02T13:52:40.509Z"
      },
      {
        "duration": 12,
        "start_time": "2023-04-02T13:52:40.522Z"
      },
      {
        "duration": 22,
        "start_time": "2023-04-02T13:52:40.549Z"
      },
      {
        "duration": 11,
        "start_time": "2023-04-02T13:52:40.573Z"
      },
      {
        "duration": 22,
        "start_time": "2023-04-02T13:52:40.587Z"
      },
      {
        "duration": 246,
        "start_time": "2023-04-02T13:52:40.611Z"
      },
      {
        "duration": 14,
        "start_time": "2023-04-02T13:52:40.859Z"
      },
      {
        "duration": 7,
        "start_time": "2023-04-02T13:52:40.875Z"
      },
      {
        "duration": 10,
        "start_time": "2023-04-02T13:52:40.884Z"
      },
      {
        "duration": 5,
        "start_time": "2023-04-02T13:52:40.896Z"
      },
      {
        "duration": 8,
        "start_time": "2023-04-02T13:52:40.903Z"
      },
      {
        "duration": 10,
        "start_time": "2023-04-02T13:52:40.913Z"
      },
      {
        "duration": 11,
        "start_time": "2023-04-02T13:52:40.960Z"
      },
      {
        "duration": 396,
        "start_time": "2023-04-02T13:52:40.973Z"
      },
      {
        "duration": 8,
        "start_time": "2023-04-02T13:52:41.371Z"
      },
      {
        "duration": 19,
        "start_time": "2023-04-02T13:52:41.381Z"
      },
      {
        "duration": 23,
        "start_time": "2023-04-02T13:52:41.402Z"
      },
      {
        "duration": 19,
        "start_time": "2023-04-02T13:52:41.426Z"
      },
      {
        "duration": 1242,
        "start_time": "2023-04-02T13:52:41.447Z"
      },
      {
        "duration": 900,
        "start_time": "2023-04-02T13:52:42.691Z"
      },
      {
        "duration": 1220,
        "start_time": "2023-04-02T13:52:43.593Z"
      },
      {
        "duration": 1559,
        "start_time": "2023-04-02T13:52:44.816Z"
      },
      {
        "duration": 5,
        "start_time": "2023-04-02T13:52:46.377Z"
      },
      {
        "duration": 296,
        "start_time": "2023-04-02T13:52:46.383Z"
      },
      {
        "duration": 7,
        "start_time": "2023-04-02T13:52:46.680Z"
      },
      {
        "duration": 599,
        "start_time": "2023-04-02T13:52:46.688Z"
      },
      {
        "duration": 4,
        "start_time": "2023-04-02T14:09:33.486Z"
      },
      {
        "duration": 2,
        "start_time": "2023-04-02T14:18:15.521Z"
      },
      {
        "duration": 4,
        "start_time": "2023-04-02T14:22:04.428Z"
      },
      {
        "duration": 1391,
        "start_time": "2023-04-02T14:22:19.805Z"
      },
      {
        "duration": 1868,
        "start_time": "2023-04-02T14:22:21.198Z"
      },
      {
        "duration": 21,
        "start_time": "2023-04-02T14:22:23.067Z"
      },
      {
        "duration": 16,
        "start_time": "2023-04-02T14:22:23.090Z"
      },
      {
        "duration": 32,
        "start_time": "2023-04-02T14:22:23.108Z"
      },
      {
        "duration": 51,
        "start_time": "2023-04-02T14:22:23.142Z"
      },
      {
        "duration": 15,
        "start_time": "2023-04-02T14:22:23.194Z"
      },
      {
        "duration": 13,
        "start_time": "2023-04-02T14:22:23.211Z"
      },
      {
        "duration": 3,
        "start_time": "2023-04-02T14:22:23.225Z"
      },
      {
        "duration": 34,
        "start_time": "2023-04-02T14:22:23.230Z"
      },
      {
        "duration": 18,
        "start_time": "2023-04-02T14:22:23.266Z"
      },
      {
        "duration": 15,
        "start_time": "2023-04-02T14:22:23.285Z"
      },
      {
        "duration": 32,
        "start_time": "2023-04-02T14:22:23.302Z"
      },
      {
        "duration": 41,
        "start_time": "2023-04-02T14:22:23.336Z"
      },
      {
        "duration": 29,
        "start_time": "2023-04-02T14:22:23.379Z"
      },
      {
        "duration": 35,
        "start_time": "2023-04-02T14:22:23.409Z"
      },
      {
        "duration": 236,
        "start_time": "2023-04-02T14:22:23.446Z"
      },
      {
        "duration": 3,
        "start_time": "2023-04-02T14:22:23.683Z"
      },
      {
        "duration": 12,
        "start_time": "2023-04-02T14:22:23.688Z"
      },
      {
        "duration": 13,
        "start_time": "2023-04-02T14:22:23.701Z"
      },
      {
        "duration": 5,
        "start_time": "2023-04-02T14:22:23.715Z"
      },
      {
        "duration": 22,
        "start_time": "2023-04-02T14:22:23.721Z"
      },
      {
        "duration": 24,
        "start_time": "2023-04-02T14:22:23.745Z"
      },
      {
        "duration": 6,
        "start_time": "2023-04-02T14:22:23.771Z"
      },
      {
        "duration": 312,
        "start_time": "2023-04-02T14:22:23.779Z"
      },
      {
        "duration": 5,
        "start_time": "2023-04-02T14:22:24.092Z"
      },
      {
        "duration": 13,
        "start_time": "2023-04-02T14:22:24.099Z"
      },
      {
        "duration": 20,
        "start_time": "2023-04-02T14:22:24.115Z"
      },
      {
        "duration": 21,
        "start_time": "2023-04-02T14:22:24.136Z"
      },
      {
        "duration": 1203,
        "start_time": "2023-04-02T14:22:24.164Z"
      },
      {
        "duration": 749,
        "start_time": "2023-04-02T14:22:25.368Z"
      },
      {
        "duration": 1237,
        "start_time": "2023-04-02T14:22:26.118Z"
      },
      {
        "duration": 1306,
        "start_time": "2023-04-02T14:22:27.356Z"
      },
      {
        "duration": 5,
        "start_time": "2023-04-02T14:22:28.664Z"
      },
      {
        "duration": 253,
        "start_time": "2023-04-02T14:22:28.670Z"
      },
      {
        "duration": 8,
        "start_time": "2023-04-02T14:22:28.925Z"
      },
      {
        "duration": 583,
        "start_time": "2023-04-02T14:22:28.936Z"
      },
      {
        "duration": 4,
        "start_time": "2023-04-02T14:22:29.521Z"
      },
      {
        "duration": 5,
        "start_time": "2023-04-02T14:22:29.527Z"
      },
      {
        "duration": 3,
        "start_time": "2023-04-02T14:27:53.792Z"
      },
      {
        "duration": 1554,
        "start_time": "2023-04-02T15:45:51.399Z"
      },
      {
        "duration": 1869,
        "start_time": "2023-04-02T15:45:52.955Z"
      },
      {
        "duration": 27,
        "start_time": "2023-04-02T15:45:54.826Z"
      },
      {
        "duration": 20,
        "start_time": "2023-04-02T15:45:54.855Z"
      },
      {
        "duration": 25,
        "start_time": "2023-04-02T15:45:54.877Z"
      },
      {
        "duration": 61,
        "start_time": "2023-04-02T15:45:54.903Z"
      },
      {
        "duration": 17,
        "start_time": "2023-04-02T15:45:54.965Z"
      },
      {
        "duration": 13,
        "start_time": "2023-04-02T15:45:54.984Z"
      },
      {
        "duration": 3,
        "start_time": "2023-04-02T15:45:54.999Z"
      },
      {
        "duration": 7,
        "start_time": "2023-04-02T15:45:55.033Z"
      },
      {
        "duration": 24,
        "start_time": "2023-04-02T15:45:55.042Z"
      },
      {
        "duration": 17,
        "start_time": "2023-04-02T15:45:55.068Z"
      },
      {
        "duration": 21,
        "start_time": "2023-04-02T15:45:55.086Z"
      },
      {
        "duration": 15,
        "start_time": "2023-04-02T15:45:55.111Z"
      },
      {
        "duration": 11,
        "start_time": "2023-04-02T15:45:55.128Z"
      },
      {
        "duration": 19,
        "start_time": "2023-04-02T15:45:55.141Z"
      },
      {
        "duration": 248,
        "start_time": "2023-04-02T15:45:55.162Z"
      },
      {
        "duration": 3,
        "start_time": "2023-04-02T15:45:55.412Z"
      },
      {
        "duration": 17,
        "start_time": "2023-04-02T15:45:55.416Z"
      },
      {
        "duration": 7,
        "start_time": "2023-04-02T15:45:55.435Z"
      },
      {
        "duration": 5,
        "start_time": "2023-04-02T15:45:55.444Z"
      },
      {
        "duration": 13,
        "start_time": "2023-04-02T15:45:55.450Z"
      },
      {
        "duration": 10,
        "start_time": "2023-04-02T15:45:55.465Z"
      },
      {
        "duration": 5,
        "start_time": "2023-04-02T15:45:55.476Z"
      },
      {
        "duration": 424,
        "start_time": "2023-04-02T15:45:55.483Z"
      },
      {
        "duration": 6,
        "start_time": "2023-04-02T15:45:55.909Z"
      },
      {
        "duration": 17,
        "start_time": "2023-04-02T15:45:55.917Z"
      },
      {
        "duration": 13,
        "start_time": "2023-04-02T15:45:55.936Z"
      },
      {
        "duration": 15,
        "start_time": "2023-04-02T15:45:55.951Z"
      },
      {
        "duration": 1396,
        "start_time": "2023-04-02T15:45:55.967Z"
      },
      {
        "duration": 1030,
        "start_time": "2023-04-02T15:45:57.365Z"
      },
      {
        "duration": 1297,
        "start_time": "2023-04-02T15:45:58.397Z"
      },
      {
        "duration": 1288,
        "start_time": "2023-04-02T15:45:59.696Z"
      },
      {
        "duration": 5,
        "start_time": "2023-04-02T15:46:00.986Z"
      },
      {
        "duration": 317,
        "start_time": "2023-04-02T15:46:00.993Z"
      },
      {
        "duration": 7,
        "start_time": "2023-04-02T15:46:01.312Z"
      },
      {
        "duration": 662,
        "start_time": "2023-04-02T15:46:01.320Z"
      },
      {
        "duration": 3,
        "start_time": "2023-04-02T15:46:01.984Z"
      },
      {
        "duration": 33,
        "start_time": "2023-04-02T15:46:01.989Z"
      },
      {
        "duration": 132,
        "start_time": "2023-04-02T15:54:59.351Z"
      },
      {
        "duration": 17,
        "start_time": "2023-04-02T15:55:22.434Z"
      },
      {
        "duration": 5,
        "start_time": "2023-04-02T15:55:59.900Z"
      },
      {
        "duration": 5,
        "start_time": "2023-04-02T15:56:10.141Z"
      },
      {
        "duration": 30,
        "start_time": "2023-04-02T15:56:15.635Z"
      },
      {
        "duration": 1408,
        "start_time": "2023-04-02T15:58:09.999Z"
      },
      {
        "duration": 1445,
        "start_time": "2023-04-02T15:58:11.409Z"
      },
      {
        "duration": 26,
        "start_time": "2023-04-02T15:58:12.856Z"
      },
      {
        "duration": 22,
        "start_time": "2023-04-02T15:58:12.884Z"
      },
      {
        "duration": 43,
        "start_time": "2023-04-02T15:58:12.908Z"
      },
      {
        "duration": 43,
        "start_time": "2023-04-02T15:58:12.952Z"
      },
      {
        "duration": 18,
        "start_time": "2023-04-02T15:58:12.997Z"
      },
      {
        "duration": 14,
        "start_time": "2023-04-02T15:58:13.034Z"
      },
      {
        "duration": 8,
        "start_time": "2023-04-02T15:58:13.049Z"
      },
      {
        "duration": 6,
        "start_time": "2023-04-02T15:58:13.060Z"
      },
      {
        "duration": 8,
        "start_time": "2023-04-02T15:58:13.068Z"
      },
      {
        "duration": 15,
        "start_time": "2023-04-02T15:58:13.078Z"
      },
      {
        "duration": 26,
        "start_time": "2023-04-02T15:58:13.094Z"
      },
      {
        "duration": 21,
        "start_time": "2023-04-02T15:58:13.122Z"
      },
      {
        "duration": 13,
        "start_time": "2023-04-02T15:58:13.145Z"
      },
      {
        "duration": 20,
        "start_time": "2023-04-02T15:58:13.160Z"
      },
      {
        "duration": 235,
        "start_time": "2023-04-02T15:58:13.182Z"
      },
      {
        "duration": 4,
        "start_time": "2023-04-02T15:58:13.418Z"
      },
      {
        "duration": 20,
        "start_time": "2023-04-02T15:58:13.424Z"
      },
      {
        "duration": 20,
        "start_time": "2023-04-02T15:58:13.446Z"
      },
      {
        "duration": 7,
        "start_time": "2023-04-02T15:58:13.469Z"
      },
      {
        "duration": 9,
        "start_time": "2023-04-02T15:58:13.478Z"
      },
      {
        "duration": 7,
        "start_time": "2023-04-02T15:58:13.489Z"
      },
      {
        "duration": 6,
        "start_time": "2023-04-02T15:58:13.498Z"
      },
      {
        "duration": 380,
        "start_time": "2023-04-02T15:58:13.506Z"
      },
      {
        "duration": 6,
        "start_time": "2023-04-02T15:58:13.889Z"
      },
      {
        "duration": 8,
        "start_time": "2023-04-02T15:58:13.897Z"
      },
      {
        "duration": 26,
        "start_time": "2023-04-02T15:58:13.908Z"
      },
      {
        "duration": 15,
        "start_time": "2023-04-02T15:58:13.936Z"
      },
      {
        "duration": 1318,
        "start_time": "2023-04-02T15:58:13.952Z"
      },
      {
        "duration": 875,
        "start_time": "2023-04-02T15:58:15.272Z"
      },
      {
        "duration": 1353,
        "start_time": "2023-04-02T15:58:16.149Z"
      },
      {
        "duration": 1367,
        "start_time": "2023-04-02T15:58:17.505Z"
      },
      {
        "duration": 5,
        "start_time": "2023-04-02T15:58:18.874Z"
      },
      {
        "duration": 310,
        "start_time": "2023-04-02T15:58:18.880Z"
      },
      {
        "duration": 6,
        "start_time": "2023-04-02T15:58:19.192Z"
      },
      {
        "duration": 664,
        "start_time": "2023-04-02T15:58:19.200Z"
      },
      {
        "duration": 5,
        "start_time": "2023-04-02T15:58:19.866Z"
      },
      {
        "duration": 13,
        "start_time": "2023-04-02T15:58:19.873Z"
      },
      {
        "duration": 8,
        "start_time": "2023-04-02T15:58:19.888Z"
      },
      {
        "duration": 11,
        "start_time": "2023-04-02T15:58:19.897Z"
      },
      {
        "duration": 4,
        "start_time": "2023-04-02T16:12:25.005Z"
      },
      {
        "duration": 4,
        "start_time": "2023-04-02T16:40:48.490Z"
      },
      {
        "duration": 3,
        "start_time": "2023-04-02T17:06:39.616Z"
      },
      {
        "duration": 1959,
        "start_time": "2023-04-03T04:55:30.630Z"
      },
      {
        "duration": 5,
        "start_time": "2023-04-03T04:58:05.416Z"
      },
      {
        "duration": 1490,
        "start_time": "2023-04-03T04:58:11.429Z"
      },
      {
        "duration": 2056,
        "start_time": "2023-04-03T04:58:12.922Z"
      },
      {
        "duration": 40,
        "start_time": "2023-04-03T04:58:14.982Z"
      },
      {
        "duration": 34,
        "start_time": "2023-04-03T04:58:15.025Z"
      },
      {
        "duration": 30,
        "start_time": "2023-04-03T04:58:15.061Z"
      },
      {
        "duration": 59,
        "start_time": "2023-04-03T04:58:15.092Z"
      },
      {
        "duration": 18,
        "start_time": "2023-04-03T04:58:15.153Z"
      },
      {
        "duration": 37,
        "start_time": "2023-04-03T04:58:15.173Z"
      },
      {
        "duration": 6,
        "start_time": "2023-04-03T04:58:15.212Z"
      },
      {
        "duration": 6,
        "start_time": "2023-04-03T04:58:15.221Z"
      },
      {
        "duration": 6,
        "start_time": "2023-04-03T04:58:15.228Z"
      },
      {
        "duration": 6,
        "start_time": "2023-04-03T04:58:15.236Z"
      },
      {
        "duration": 8,
        "start_time": "2023-04-03T04:58:15.245Z"
      },
      {
        "duration": 10,
        "start_time": "2023-04-03T04:58:15.255Z"
      },
      {
        "duration": 8,
        "start_time": "2023-04-03T04:58:15.266Z"
      },
      {
        "duration": 49,
        "start_time": "2023-04-03T04:58:15.275Z"
      },
      {
        "duration": 262,
        "start_time": "2023-04-03T04:58:15.326Z"
      },
      {
        "duration": 3,
        "start_time": "2023-04-03T04:58:15.590Z"
      },
      {
        "duration": 15,
        "start_time": "2023-04-03T04:58:15.595Z"
      },
      {
        "duration": 14,
        "start_time": "2023-04-03T04:58:15.612Z"
      },
      {
        "duration": 18,
        "start_time": "2023-04-03T04:58:15.627Z"
      },
      {
        "duration": 12,
        "start_time": "2023-04-03T04:58:15.647Z"
      },
      {
        "duration": 8,
        "start_time": "2023-04-03T04:58:15.661Z"
      },
      {
        "duration": 416,
        "start_time": "2023-04-03T04:58:15.671Z"
      },
      {
        "duration": 24,
        "start_time": "2023-04-03T04:58:16.089Z"
      },
      {
        "duration": 7,
        "start_time": "2023-04-03T04:58:16.118Z"
      },
      {
        "duration": 12,
        "start_time": "2023-04-03T04:58:16.126Z"
      },
      {
        "duration": 16,
        "start_time": "2023-04-03T04:58:16.139Z"
      },
      {
        "duration": 1403,
        "start_time": "2023-04-03T04:58:16.156Z"
      },
      {
        "duration": 2,
        "start_time": "2023-04-03T04:58:17.561Z"
      },
      {
        "duration": 1397,
        "start_time": "2023-04-03T04:58:17.565Z"
      },
      {
        "duration": 1281,
        "start_time": "2023-04-03T04:58:18.964Z"
      },
      {
        "duration": 338,
        "start_time": "2023-04-03T04:58:20.247Z"
      },
      {
        "duration": 22,
        "start_time": "2023-04-03T04:58:20.587Z"
      },
      {
        "duration": 673,
        "start_time": "2023-04-03T04:58:20.618Z"
      },
      {
        "duration": 4,
        "start_time": "2023-04-03T04:58:21.293Z"
      },
      {
        "duration": 10,
        "start_time": "2023-04-03T04:58:21.302Z"
      },
      {
        "duration": 8,
        "start_time": "2023-04-03T04:58:21.317Z"
      },
      {
        "duration": 154,
        "start_time": "2023-04-03T05:18:21.362Z"
      },
      {
        "duration": 5,
        "start_time": "2023-04-03T05:18:47.021Z"
      },
      {
        "duration": 8,
        "start_time": "2023-04-03T05:18:52.039Z"
      },
      {
        "duration": 1561,
        "start_time": "2023-04-03T05:25:27.581Z"
      },
      {
        "duration": 2278,
        "start_time": "2023-04-03T05:25:29.144Z"
      },
      {
        "duration": 29,
        "start_time": "2023-04-03T05:25:31.424Z"
      },
      {
        "duration": 24,
        "start_time": "2023-04-03T05:25:31.455Z"
      },
      {
        "duration": 51,
        "start_time": "2023-04-03T05:25:31.482Z"
      },
      {
        "duration": 74,
        "start_time": "2023-04-03T05:25:31.535Z"
      },
      {
        "duration": 21,
        "start_time": "2023-04-03T05:25:31.618Z"
      },
      {
        "duration": 15,
        "start_time": "2023-04-03T05:25:31.641Z"
      },
      {
        "duration": 7,
        "start_time": "2023-04-03T05:25:31.658Z"
      },
      {
        "duration": 18,
        "start_time": "2023-04-03T05:25:31.667Z"
      },
      {
        "duration": 15,
        "start_time": "2023-04-03T05:25:31.687Z"
      },
      {
        "duration": 22,
        "start_time": "2023-04-03T05:25:31.704Z"
      },
      {
        "duration": 19,
        "start_time": "2023-04-03T05:25:31.728Z"
      },
      {
        "duration": 27,
        "start_time": "2023-04-03T05:25:31.751Z"
      },
      {
        "duration": 27,
        "start_time": "2023-04-03T05:25:31.780Z"
      },
      {
        "duration": 29,
        "start_time": "2023-04-03T05:25:31.813Z"
      },
      {
        "duration": 371,
        "start_time": "2023-04-03T05:25:31.844Z"
      },
      {
        "duration": 5,
        "start_time": "2023-04-03T05:25:32.219Z"
      },
      {
        "duration": 14,
        "start_time": "2023-04-03T05:25:32.230Z"
      },
      {
        "duration": 20,
        "start_time": "2023-04-03T05:25:32.246Z"
      },
      {
        "duration": 11,
        "start_time": "2023-04-03T05:25:32.268Z"
      },
      {
        "duration": 18,
        "start_time": "2023-04-03T05:25:32.281Z"
      },
      {
        "duration": 22,
        "start_time": "2023-04-03T05:25:32.300Z"
      },
      {
        "duration": 442,
        "start_time": "2023-04-03T05:25:32.325Z"
      },
      {
        "duration": 8,
        "start_time": "2023-04-03T05:25:32.769Z"
      },
      {
        "duration": 7,
        "start_time": "2023-04-03T05:25:32.778Z"
      },
      {
        "duration": 24,
        "start_time": "2023-04-03T05:25:32.804Z"
      },
      {
        "duration": 19,
        "start_time": "2023-04-03T05:25:32.831Z"
      },
      {
        "duration": 1428,
        "start_time": "2023-04-03T05:25:32.852Z"
      },
      {
        "duration": 3,
        "start_time": "2023-04-03T05:25:34.282Z"
      },
      {
        "duration": 1375,
        "start_time": "2023-04-03T05:25:34.287Z"
      },
      {
        "duration": 1282,
        "start_time": "2023-04-03T05:25:35.664Z"
      },
      {
        "duration": 367,
        "start_time": "2023-04-03T05:25:36.948Z"
      },
      {
        "duration": 8,
        "start_time": "2023-04-03T05:25:37.321Z"
      },
      {
        "duration": 623,
        "start_time": "2023-04-03T05:25:37.330Z"
      },
      {
        "duration": 4,
        "start_time": "2023-04-03T05:25:37.955Z"
      },
      {
        "duration": 8,
        "start_time": "2023-04-03T05:25:37.961Z"
      },
      {
        "duration": 9,
        "start_time": "2023-04-03T05:25:37.971Z"
      },
      {
        "duration": 7,
        "start_time": "2023-04-03T05:25:37.981Z"
      },
      {
        "duration": 36,
        "start_time": "2023-04-03T05:27:06.335Z"
      },
      {
        "duration": 6,
        "start_time": "2023-04-03T05:27:15.129Z"
      },
      {
        "duration": 6,
        "start_time": "2023-04-03T05:28:29.686Z"
      },
      {
        "duration": 5,
        "start_time": "2023-04-03T05:29:56.769Z"
      },
      {
        "duration": 5,
        "start_time": "2023-04-03T05:29:58.954Z"
      },
      {
        "duration": 42,
        "start_time": "2023-04-03T05:30:05.126Z"
      },
      {
        "duration": 44,
        "start_time": "2023-04-03T05:30:20.543Z"
      },
      {
        "duration": 43,
        "start_time": "2023-04-03T05:30:29.353Z"
      },
      {
        "duration": 9,
        "start_time": "2023-04-03T05:31:34.346Z"
      },
      {
        "duration": 6,
        "start_time": "2023-04-03T05:31:41.047Z"
      },
      {
        "duration": 1894,
        "start_time": "2023-04-03T05:33:22.560Z"
      },
      {
        "duration": 2501,
        "start_time": "2023-04-03T05:33:24.456Z"
      },
      {
        "duration": 30,
        "start_time": "2023-04-03T05:33:26.958Z"
      },
      {
        "duration": 50,
        "start_time": "2023-04-03T05:33:26.991Z"
      },
      {
        "duration": 34,
        "start_time": "2023-04-03T05:33:27.048Z"
      },
      {
        "duration": 59,
        "start_time": "2023-04-03T05:33:27.084Z"
      },
      {
        "duration": 25,
        "start_time": "2023-04-03T05:33:27.145Z"
      },
      {
        "duration": 33,
        "start_time": "2023-04-03T05:33:27.172Z"
      },
      {
        "duration": 6,
        "start_time": "2023-04-03T05:33:27.207Z"
      },
      {
        "duration": 7,
        "start_time": "2023-04-03T05:33:27.216Z"
      },
      {
        "duration": 5,
        "start_time": "2023-04-03T05:33:27.226Z"
      },
      {
        "duration": 9,
        "start_time": "2023-04-03T05:33:27.233Z"
      },
      {
        "duration": 8,
        "start_time": "2023-04-03T05:33:27.244Z"
      },
      {
        "duration": 11,
        "start_time": "2023-04-03T05:33:27.253Z"
      },
      {
        "duration": 40,
        "start_time": "2023-04-03T05:33:27.266Z"
      },
      {
        "duration": 25,
        "start_time": "2023-04-03T05:33:27.308Z"
      },
      {
        "duration": 259,
        "start_time": "2023-04-03T05:33:27.335Z"
      },
      {
        "duration": 20,
        "start_time": "2023-04-03T05:33:27.596Z"
      },
      {
        "duration": 5,
        "start_time": "2023-04-03T05:33:27.620Z"
      },
      {
        "duration": 9,
        "start_time": "2023-04-03T05:33:27.627Z"
      },
      {
        "duration": 6,
        "start_time": "2023-04-03T05:33:27.637Z"
      },
      {
        "duration": 6,
        "start_time": "2023-04-03T05:33:27.644Z"
      },
      {
        "duration": 8,
        "start_time": "2023-04-03T05:33:27.652Z"
      },
      {
        "duration": 460,
        "start_time": "2023-04-03T05:33:27.662Z"
      },
      {
        "duration": 12,
        "start_time": "2023-04-03T05:33:28.124Z"
      },
      {
        "duration": 6,
        "start_time": "2023-04-03T05:33:28.138Z"
      },
      {
        "duration": 17,
        "start_time": "2023-04-03T05:33:28.146Z"
      },
      {
        "duration": 15,
        "start_time": "2023-04-03T05:33:28.166Z"
      },
      {
        "duration": 1407,
        "start_time": "2023-04-03T05:33:28.182Z"
      },
      {
        "duration": 3,
        "start_time": "2023-04-03T05:33:29.591Z"
      },
      {
        "duration": 1523,
        "start_time": "2023-04-03T05:33:29.595Z"
      },
      {
        "duration": 1460,
        "start_time": "2023-04-03T05:33:31.123Z"
      },
      {
        "duration": 339,
        "start_time": "2023-04-03T05:33:32.585Z"
      },
      {
        "duration": 7,
        "start_time": "2023-04-03T05:33:32.926Z"
      },
      {
        "duration": 698,
        "start_time": "2023-04-03T05:33:32.935Z"
      },
      {
        "duration": 11,
        "start_time": "2023-04-03T05:33:33.638Z"
      },
      {
        "duration": 5,
        "start_time": "2023-04-03T05:33:33.651Z"
      },
      {
        "duration": 5,
        "start_time": "2023-04-03T05:33:33.658Z"
      },
      {
        "duration": 7,
        "start_time": "2023-04-03T05:33:33.665Z"
      },
      {
        "duration": 7,
        "start_time": "2023-04-03T05:33:33.675Z"
      },
      {
        "duration": 21,
        "start_time": "2023-04-03T05:33:33.684Z"
      },
      {
        "duration": 50,
        "start_time": "2023-04-03T05:33:33.707Z"
      },
      {
        "duration": 8,
        "start_time": "2023-04-03T05:33:33.759Z"
      },
      {
        "duration": 15,
        "start_time": "2023-04-03T05:33:56.417Z"
      },
      {
        "duration": 130,
        "start_time": "2023-04-03T05:34:40.033Z"
      },
      {
        "duration": 7,
        "start_time": "2023-04-03T05:34:56.635Z"
      },
      {
        "duration": 1803,
        "start_time": "2023-04-03T05:35:42.445Z"
      },
      {
        "duration": 2045,
        "start_time": "2023-04-03T05:35:44.252Z"
      },
      {
        "duration": 42,
        "start_time": "2023-04-03T05:35:46.299Z"
      },
      {
        "duration": 32,
        "start_time": "2023-04-03T05:35:46.344Z"
      },
      {
        "duration": 53,
        "start_time": "2023-04-03T05:35:46.379Z"
      },
      {
        "duration": 41,
        "start_time": "2023-04-03T05:35:46.435Z"
      },
      {
        "duration": 32,
        "start_time": "2023-04-03T05:35:46.478Z"
      },
      {
        "duration": 26,
        "start_time": "2023-04-03T05:35:46.511Z"
      },
      {
        "duration": 183,
        "start_time": "2023-04-03T05:35:46.539Z"
      },
      {
        "duration": 7,
        "start_time": "2023-04-03T05:35:46.726Z"
      },
      {
        "duration": 6,
        "start_time": "2023-04-03T05:35:46.735Z"
      },
      {
        "duration": 7,
        "start_time": "2023-04-03T05:35:46.743Z"
      },
      {
        "duration": 8,
        "start_time": "2023-04-03T05:35:46.752Z"
      },
      {
        "duration": 14,
        "start_time": "2023-04-03T05:35:46.762Z"
      },
      {
        "duration": 34,
        "start_time": "2023-04-03T05:35:46.778Z"
      },
      {
        "duration": 26,
        "start_time": "2023-04-03T05:35:46.815Z"
      },
      {
        "duration": 355,
        "start_time": "2023-04-03T05:35:46.843Z"
      },
      {
        "duration": 9,
        "start_time": "2023-04-03T05:35:47.202Z"
      },
      {
        "duration": 11,
        "start_time": "2023-04-03T05:35:47.218Z"
      },
      {
        "duration": 11,
        "start_time": "2023-04-03T05:35:47.231Z"
      },
      {
        "duration": 6,
        "start_time": "2023-04-03T05:35:47.244Z"
      },
      {
        "duration": 7,
        "start_time": "2023-04-03T05:35:47.252Z"
      },
      {
        "duration": 25,
        "start_time": "2023-04-03T05:35:47.262Z"
      },
      {
        "duration": 467,
        "start_time": "2023-04-03T05:35:47.289Z"
      },
      {
        "duration": 7,
        "start_time": "2023-04-03T05:35:47.758Z"
      },
      {
        "duration": 9,
        "start_time": "2023-04-03T05:35:47.766Z"
      },
      {
        "duration": 34,
        "start_time": "2023-04-03T05:35:47.777Z"
      },
      {
        "duration": 21,
        "start_time": "2023-04-03T05:35:47.817Z"
      },
      {
        "duration": 1547,
        "start_time": "2023-04-03T05:35:47.841Z"
      },
      {
        "duration": 3,
        "start_time": "2023-04-03T05:35:49.391Z"
      },
      {
        "duration": 1701,
        "start_time": "2023-04-03T05:35:49.396Z"
      },
      {
        "duration": 1470,
        "start_time": "2023-04-03T05:35:51.099Z"
      },
      {
        "duration": 349,
        "start_time": "2023-04-03T05:35:52.571Z"
      },
      {
        "duration": 8,
        "start_time": "2023-04-03T05:35:52.923Z"
      },
      {
        "duration": 620,
        "start_time": "2023-04-03T05:35:52.933Z"
      },
      {
        "duration": 4,
        "start_time": "2023-04-03T05:35:53.556Z"
      },
      {
        "duration": 12,
        "start_time": "2023-04-03T05:35:53.562Z"
      },
      {
        "duration": 4,
        "start_time": "2023-04-03T05:35:53.576Z"
      },
      {
        "duration": 8,
        "start_time": "2023-04-03T05:35:53.582Z"
      },
      {
        "duration": 16,
        "start_time": "2023-04-03T05:35:53.606Z"
      },
      {
        "duration": 6,
        "start_time": "2023-04-03T05:35:53.624Z"
      },
      {
        "duration": 7,
        "start_time": "2023-04-03T05:35:53.632Z"
      },
      {
        "duration": 9,
        "start_time": "2023-04-03T05:35:53.641Z"
      },
      {
        "duration": 6,
        "start_time": "2023-04-03T05:37:45.352Z"
      },
      {
        "duration": 1640,
        "start_time": "2023-04-03T05:40:03.220Z"
      },
      {
        "duration": 1698,
        "start_time": "2023-04-03T05:40:04.862Z"
      },
      {
        "duration": 28,
        "start_time": "2023-04-03T05:40:06.562Z"
      },
      {
        "duration": 40,
        "start_time": "2023-04-03T05:40:06.592Z"
      },
      {
        "duration": 24,
        "start_time": "2023-04-03T05:40:06.635Z"
      },
      {
        "duration": 74,
        "start_time": "2023-04-03T05:40:06.661Z"
      },
      {
        "duration": 20,
        "start_time": "2023-04-03T05:40:06.736Z"
      },
      {
        "duration": 14,
        "start_time": "2023-04-03T05:40:06.758Z"
      },
      {
        "duration": 3,
        "start_time": "2023-04-03T05:40:06.774Z"
      },
      {
        "duration": 35,
        "start_time": "2023-04-03T05:40:06.779Z"
      },
      {
        "duration": 16,
        "start_time": "2023-04-03T05:40:06.816Z"
      },
      {
        "duration": 9,
        "start_time": "2023-04-03T05:40:06.834Z"
      },
      {
        "duration": 10,
        "start_time": "2023-04-03T05:40:06.846Z"
      },
      {
        "duration": 11,
        "start_time": "2023-04-03T05:40:06.860Z"
      },
      {
        "duration": 9,
        "start_time": "2023-04-03T05:40:06.872Z"
      },
      {
        "duration": 35,
        "start_time": "2023-04-03T05:40:06.883Z"
      },
      {
        "duration": 294,
        "start_time": "2023-04-03T05:40:06.919Z"
      },
      {
        "duration": 3,
        "start_time": "2023-04-03T05:40:07.215Z"
      },
      {
        "duration": 17,
        "start_time": "2023-04-03T05:40:07.220Z"
      },
      {
        "duration": 16,
        "start_time": "2023-04-03T05:40:07.239Z"
      },
      {
        "duration": 22,
        "start_time": "2023-04-03T05:40:07.256Z"
      },
      {
        "duration": 14,
        "start_time": "2023-04-03T05:40:07.280Z"
      },
      {
        "duration": 18,
        "start_time": "2023-04-03T05:40:07.296Z"
      },
      {
        "duration": 419,
        "start_time": "2023-04-03T05:40:07.321Z"
      },
      {
        "duration": 7,
        "start_time": "2023-04-03T05:40:07.742Z"
      },
      {
        "duration": 8,
        "start_time": "2023-04-03T05:40:07.751Z"
      },
      {
        "duration": 14,
        "start_time": "2023-04-03T05:40:07.761Z"
      },
      {
        "duration": 37,
        "start_time": "2023-04-03T05:40:07.776Z"
      },
      {
        "duration": 1345,
        "start_time": "2023-04-03T05:40:07.816Z"
      },
      {
        "duration": 3,
        "start_time": "2023-04-03T05:40:09.163Z"
      },
      {
        "duration": 1307,
        "start_time": "2023-04-03T05:40:09.167Z"
      },
      {
        "duration": 1356,
        "start_time": "2023-04-03T05:40:10.475Z"
      },
      {
        "duration": 433,
        "start_time": "2023-04-03T05:40:11.833Z"
      },
      {
        "duration": 9,
        "start_time": "2023-04-03T05:40:12.269Z"
      },
      {
        "duration": 821,
        "start_time": "2023-04-03T05:40:12.280Z"
      },
      {
        "duration": 13,
        "start_time": "2023-04-03T05:40:13.102Z"
      },
      {
        "duration": 2,
        "start_time": "2023-04-03T05:40:13.119Z"
      },
      {
        "duration": 5,
        "start_time": "2023-04-03T05:40:13.123Z"
      },
      {
        "duration": 8,
        "start_time": "2023-04-03T05:40:13.129Z"
      },
      {
        "duration": 7,
        "start_time": "2023-04-03T05:40:13.139Z"
      },
      {
        "duration": 7,
        "start_time": "2023-04-03T05:40:13.149Z"
      },
      {
        "duration": 5,
        "start_time": "2023-04-03T05:40:13.158Z"
      },
      {
        "duration": 9,
        "start_time": "2023-04-03T05:40:13.164Z"
      },
      {
        "duration": 10,
        "start_time": "2023-04-03T05:40:13.203Z"
      },
      {
        "duration": 10,
        "start_time": "2023-04-03T05:40:13.218Z"
      },
      {
        "duration": 1677,
        "start_time": "2023-04-03T05:43:32.849Z"
      },
      {
        "duration": 2654,
        "start_time": "2023-04-03T05:43:34.529Z"
      },
      {
        "duration": 45,
        "start_time": "2023-04-03T05:43:37.185Z"
      },
      {
        "duration": 33,
        "start_time": "2023-04-03T05:43:37.233Z"
      },
      {
        "duration": 57,
        "start_time": "2023-04-03T05:43:37.267Z"
      },
      {
        "duration": 64,
        "start_time": "2023-04-03T05:43:37.326Z"
      },
      {
        "duration": 39,
        "start_time": "2023-04-03T05:43:37.393Z"
      },
      {
        "duration": 16,
        "start_time": "2023-04-03T05:43:37.434Z"
      },
      {
        "duration": 3,
        "start_time": "2023-04-03T05:43:37.452Z"
      },
      {
        "duration": 8,
        "start_time": "2023-04-03T05:43:37.459Z"
      },
      {
        "duration": 46,
        "start_time": "2023-04-03T05:43:37.469Z"
      },
      {
        "duration": 13,
        "start_time": "2023-04-03T05:43:37.517Z"
      },
      {
        "duration": 10,
        "start_time": "2023-04-03T05:43:37.532Z"
      },
      {
        "duration": 12,
        "start_time": "2023-04-03T05:43:37.544Z"
      },
      {
        "duration": 4,
        "start_time": "2023-04-03T05:43:37.559Z"
      },
      {
        "duration": 58,
        "start_time": "2023-04-03T05:43:37.566Z"
      },
      {
        "duration": 296,
        "start_time": "2023-04-03T05:43:37.629Z"
      },
      {
        "duration": 3,
        "start_time": "2023-04-03T05:43:37.928Z"
      },
      {
        "duration": 8,
        "start_time": "2023-04-03T05:43:37.932Z"
      },
      {
        "duration": 11,
        "start_time": "2023-04-03T05:43:37.943Z"
      },
      {
        "duration": 5,
        "start_time": "2023-04-03T05:43:37.956Z"
      },
      {
        "duration": 10,
        "start_time": "2023-04-03T05:43:37.963Z"
      },
      {
        "duration": 49,
        "start_time": "2023-04-03T05:43:37.975Z"
      },
      {
        "duration": 467,
        "start_time": "2023-04-03T05:43:38.025Z"
      },
      {
        "duration": 12,
        "start_time": "2023-04-03T05:43:38.495Z"
      },
      {
        "duration": 12,
        "start_time": "2023-04-03T05:43:38.509Z"
      },
      {
        "duration": 13,
        "start_time": "2023-04-03T05:43:38.526Z"
      },
      {
        "duration": 21,
        "start_time": "2023-04-03T05:43:38.544Z"
      },
      {
        "duration": 1620,
        "start_time": "2023-04-03T05:43:38.567Z"
      },
      {
        "duration": 4,
        "start_time": "2023-04-03T05:43:40.188Z"
      },
      {
        "duration": 1612,
        "start_time": "2023-04-03T05:43:40.193Z"
      },
      {
        "duration": 1466,
        "start_time": "2023-04-03T05:43:41.811Z"
      },
      {
        "duration": 354,
        "start_time": "2023-04-03T05:43:43.280Z"
      },
      {
        "duration": 8,
        "start_time": "2023-04-03T05:43:43.636Z"
      },
      {
        "duration": 844,
        "start_time": "2023-04-03T05:43:43.647Z"
      },
      {
        "duration": 12,
        "start_time": "2023-04-03T05:43:44.496Z"
      },
      {
        "duration": 4,
        "start_time": "2023-04-03T05:43:44.516Z"
      },
      {
        "duration": 4,
        "start_time": "2023-04-03T05:43:44.524Z"
      },
      {
        "duration": 13,
        "start_time": "2023-04-03T05:43:44.531Z"
      },
      {
        "duration": 10,
        "start_time": "2023-04-03T05:43:44.545Z"
      },
      {
        "duration": 7,
        "start_time": "2023-04-03T05:43:44.556Z"
      },
      {
        "duration": 9,
        "start_time": "2023-04-03T05:43:44.565Z"
      },
      {
        "duration": 37,
        "start_time": "2023-04-03T05:43:44.576Z"
      },
      {
        "duration": 15,
        "start_time": "2023-04-03T05:43:44.617Z"
      },
      {
        "duration": 12,
        "start_time": "2023-04-03T05:43:44.636Z"
      },
      {
        "duration": 153,
        "start_time": "2023-04-03T05:54:03.386Z"
      },
      {
        "duration": 5,
        "start_time": "2023-04-03T05:55:24.801Z"
      },
      {
        "duration": 17,
        "start_time": "2023-04-03T05:56:02.198Z"
      },
      {
        "duration": 3,
        "start_time": "2023-04-03T05:56:54.354Z"
      },
      {
        "duration": 5,
        "start_time": "2023-04-03T05:57:43.048Z"
      },
      {
        "duration": 7,
        "start_time": "2023-04-03T05:57:51.333Z"
      },
      {
        "duration": 6,
        "start_time": "2023-04-03T05:57:57.406Z"
      },
      {
        "duration": 6,
        "start_time": "2023-04-03T05:58:03.731Z"
      },
      {
        "duration": 4,
        "start_time": "2023-04-03T05:58:43.039Z"
      },
      {
        "duration": 5,
        "start_time": "2023-04-03T05:59:29.474Z"
      },
      {
        "duration": 4,
        "start_time": "2023-04-03T05:59:34.472Z"
      },
      {
        "duration": 44,
        "start_time": "2023-04-03T06:07:23.187Z"
      },
      {
        "duration": 23,
        "start_time": "2023-04-03T06:07:27.846Z"
      },
      {
        "duration": 22,
        "start_time": "2023-04-03T06:07:30.774Z"
      },
      {
        "duration": 10,
        "start_time": "2023-04-03T06:07:34.567Z"
      },
      {
        "duration": 5,
        "start_time": "2023-04-03T06:07:40.474Z"
      },
      {
        "duration": 10,
        "start_time": "2023-04-03T06:09:02.354Z"
      },
      {
        "duration": 1509,
        "start_time": "2023-04-03T06:10:52.690Z"
      },
      {
        "duration": 2322,
        "start_time": "2023-04-03T06:10:54.205Z"
      },
      {
        "duration": 81,
        "start_time": "2023-04-03T06:10:56.529Z"
      },
      {
        "duration": 23,
        "start_time": "2023-04-03T06:10:56.612Z"
      },
      {
        "duration": 21,
        "start_time": "2023-04-03T06:10:56.637Z"
      },
      {
        "duration": 83,
        "start_time": "2023-04-03T06:10:56.660Z"
      },
      {
        "duration": 17,
        "start_time": "2023-04-03T06:10:56.745Z"
      },
      {
        "duration": 14,
        "start_time": "2023-04-03T06:10:56.764Z"
      },
      {
        "duration": 28,
        "start_time": "2023-04-03T06:10:56.780Z"
      },
      {
        "duration": 9,
        "start_time": "2023-04-03T06:10:56.812Z"
      },
      {
        "duration": 6,
        "start_time": "2023-04-03T06:10:56.823Z"
      },
      {
        "duration": 9,
        "start_time": "2023-04-03T06:10:56.830Z"
      },
      {
        "duration": 10,
        "start_time": "2023-04-03T06:10:56.840Z"
      },
      {
        "duration": 9,
        "start_time": "2023-04-03T06:10:56.854Z"
      },
      {
        "duration": 4,
        "start_time": "2023-04-03T06:10:56.864Z"
      },
      {
        "duration": 54,
        "start_time": "2023-04-03T06:10:56.869Z"
      },
      {
        "duration": 265,
        "start_time": "2023-04-03T06:10:56.925Z"
      },
      {
        "duration": 3,
        "start_time": "2023-04-03T06:10:57.191Z"
      },
      {
        "duration": 15,
        "start_time": "2023-04-03T06:10:57.207Z"
      },
      {
        "duration": 10,
        "start_time": "2023-04-03T06:10:57.224Z"
      },
      {
        "duration": 29,
        "start_time": "2023-04-03T06:10:57.235Z"
      },
      {
        "duration": 21,
        "start_time": "2023-04-03T06:10:57.266Z"
      },
      {
        "duration": 29,
        "start_time": "2023-04-03T06:10:57.289Z"
      },
      {
        "duration": 459,
        "start_time": "2023-04-03T06:10:57.321Z"
      },
      {
        "duration": 6,
        "start_time": "2023-04-03T06:10:57.782Z"
      },
      {
        "duration": 31,
        "start_time": "2023-04-03T06:10:57.790Z"
      },
      {
        "duration": 13,
        "start_time": "2023-04-03T06:10:57.823Z"
      },
      {
        "duration": 19,
        "start_time": "2023-04-03T06:10:57.838Z"
      },
      {
        "duration": 1404,
        "start_time": "2023-04-03T06:10:57.859Z"
      },
      {
        "duration": 3,
        "start_time": "2023-04-03T06:10:59.265Z"
      },
      {
        "duration": 1300,
        "start_time": "2023-04-03T06:10:59.270Z"
      },
      {
        "duration": 1460,
        "start_time": "2023-04-03T06:11:00.573Z"
      },
      {
        "duration": 485,
        "start_time": "2023-04-03T06:11:02.035Z"
      },
      {
        "duration": 8,
        "start_time": "2023-04-03T06:11:02.522Z"
      },
      {
        "duration": 633,
        "start_time": "2023-04-03T06:11:02.532Z"
      },
      {
        "duration": 6,
        "start_time": "2023-04-03T06:11:03.167Z"
      },
      {
        "duration": 13,
        "start_time": "2023-04-03T06:11:03.175Z"
      },
      {
        "duration": 33,
        "start_time": "2023-04-03T06:11:03.189Z"
      },
      {
        "duration": 23,
        "start_time": "2023-04-03T06:11:03.224Z"
      },
      {
        "duration": 20,
        "start_time": "2023-04-03T06:11:03.248Z"
      },
      {
        "duration": 14,
        "start_time": "2023-04-03T06:11:03.272Z"
      },
      {
        "duration": 11,
        "start_time": "2023-04-03T06:11:03.288Z"
      },
      {
        "duration": 21,
        "start_time": "2023-04-03T06:11:03.301Z"
      },
      {
        "duration": 40,
        "start_time": "2023-04-03T06:11:03.324Z"
      },
      {
        "duration": 26,
        "start_time": "2023-04-03T06:11:03.366Z"
      },
      {
        "duration": 43,
        "start_time": "2023-04-03T06:11:03.394Z"
      },
      {
        "duration": 33,
        "start_time": "2023-04-03T06:11:03.439Z"
      },
      {
        "duration": 3,
        "start_time": "2023-04-03T06:11:03.474Z"
      },
      {
        "duration": 132,
        "start_time": "2023-04-03T06:11:03.478Z"
      },
      {
        "duration": 0,
        "start_time": "2023-04-03T06:11:03.615Z"
      },
      {
        "duration": 0,
        "start_time": "2023-04-03T06:11:03.617Z"
      },
      {
        "duration": 33,
        "start_time": "2023-04-03T06:11:14.195Z"
      },
      {
        "duration": 4,
        "start_time": "2023-04-03T06:14:47.971Z"
      },
      {
        "duration": 11,
        "start_time": "2023-04-03T06:15:38.041Z"
      },
      {
        "duration": 4,
        "start_time": "2023-04-03T06:15:39.074Z"
      },
      {
        "duration": 4,
        "start_time": "2023-04-03T06:15:40.091Z"
      },
      {
        "duration": 3,
        "start_time": "2023-04-03T06:15:54.368Z"
      },
      {
        "duration": 5,
        "start_time": "2023-04-03T06:22:20.920Z"
      },
      {
        "duration": 3,
        "start_time": "2023-04-03T06:22:39.216Z"
      },
      {
        "duration": 3,
        "start_time": "2023-04-03T06:22:40.039Z"
      },
      {
        "duration": 3,
        "start_time": "2023-04-03T06:22:41.972Z"
      },
      {
        "duration": 42441,
        "start_time": "2023-04-03T06:30:22.103Z"
      },
      {
        "duration": 9,
        "start_time": "2023-04-03T06:31:06.399Z"
      },
      {
        "duration": 198250,
        "start_time": "2023-04-03T06:31:08.036Z"
      },
      {
        "duration": 3,
        "start_time": "2023-04-03T06:34:38.949Z"
      },
      {
        "duration": 3,
        "start_time": "2023-04-03T06:41:45.867Z"
      },
      {
        "duration": 4,
        "start_time": "2023-04-03T06:42:11.959Z"
      },
      {
        "duration": 4,
        "start_time": "2023-04-03T06:42:13.134Z"
      },
      {
        "duration": 264614,
        "start_time": "2023-04-03T06:42:31.562Z"
      },
      {
        "duration": 2,
        "start_time": "2023-04-03T06:47:02.763Z"
      },
      {
        "duration": 181259,
        "start_time": "2023-04-03T06:47:41.672Z"
      },
      {
        "duration": 27848,
        "start_time": "2023-04-03T06:51:30.735Z"
      },
      {
        "duration": 497125,
        "start_time": "2023-04-03T06:52:55.326Z"
      },
      {
        "duration": 4,
        "start_time": "2023-04-03T07:02:56.356Z"
      },
      {
        "duration": 27801,
        "start_time": "2023-04-03T07:04:55.991Z"
      },
      {
        "duration": 639672,
        "start_time": "2023-04-03T07:21:17.654Z"
      },
      {
        "duration": 28515,
        "start_time": "2023-04-03T07:32:04.057Z"
      },
      {
        "duration": 792621,
        "start_time": "2023-04-03T07:32:37.500Z"
      },
      {
        "duration": 70,
        "start_time": "2023-04-03T07:46:55.819Z"
      },
      {
        "duration": 71,
        "start_time": "2023-04-03T07:47:57.215Z"
      },
      {
        "duration": 15,
        "start_time": "2023-04-03T07:50:10.129Z"
      },
      {
        "duration": 128,
        "start_time": "2023-04-03T07:50:19.624Z"
      },
      {
        "duration": 88,
        "start_time": "2023-04-03T07:50:26.942Z"
      },
      {
        "duration": 159,
        "start_time": "2023-04-03T07:50:44.173Z"
      },
      {
        "duration": 4,
        "start_time": "2023-04-03T07:51:26.175Z"
      },
      {
        "duration": 4,
        "start_time": "2023-04-03T07:51:39.230Z"
      },
      {
        "duration": 4,
        "start_time": "2023-04-03T07:51:54.016Z"
      },
      {
        "duration": 57,
        "start_time": "2023-04-03T08:06:00.562Z"
      },
      {
        "duration": 166,
        "start_time": "2023-04-03T08:06:06.064Z"
      },
      {
        "duration": 70,
        "start_time": "2023-04-03T08:06:10.508Z"
      },
      {
        "duration": 1551,
        "start_time": "2023-04-03T08:11:57.316Z"
      },
      {
        "duration": 1842,
        "start_time": "2023-04-03T08:11:58.869Z"
      },
      {
        "duration": 28,
        "start_time": "2023-04-03T08:12:00.713Z"
      },
      {
        "duration": 37,
        "start_time": "2023-04-03T08:12:00.744Z"
      },
      {
        "duration": 43,
        "start_time": "2023-04-03T08:12:00.783Z"
      },
      {
        "duration": 65,
        "start_time": "2023-04-03T08:12:00.828Z"
      },
      {
        "duration": 21,
        "start_time": "2023-04-03T08:12:00.895Z"
      },
      {
        "duration": 34,
        "start_time": "2023-04-03T08:12:00.918Z"
      },
      {
        "duration": 34,
        "start_time": "2023-04-03T08:12:00.954Z"
      },
      {
        "duration": 23,
        "start_time": "2023-04-03T08:12:00.991Z"
      },
      {
        "duration": 37,
        "start_time": "2023-04-03T08:12:01.016Z"
      },
      {
        "duration": 31,
        "start_time": "2023-04-03T08:12:01.055Z"
      },
      {
        "duration": 34,
        "start_time": "2023-04-03T08:12:01.088Z"
      },
      {
        "duration": 27,
        "start_time": "2023-04-03T08:12:01.125Z"
      },
      {
        "duration": 15,
        "start_time": "2023-04-03T08:12:01.153Z"
      },
      {
        "duration": 32,
        "start_time": "2023-04-03T08:12:01.170Z"
      },
      {
        "duration": 271,
        "start_time": "2023-04-03T08:12:01.204Z"
      },
      {
        "duration": 3,
        "start_time": "2023-04-03T08:12:01.477Z"
      },
      {
        "duration": 49,
        "start_time": "2023-04-03T08:12:01.482Z"
      },
      {
        "duration": 33,
        "start_time": "2023-04-03T08:12:01.532Z"
      },
      {
        "duration": 9,
        "start_time": "2023-04-03T08:12:01.567Z"
      },
      {
        "duration": 28,
        "start_time": "2023-04-03T08:12:01.578Z"
      },
      {
        "duration": 39,
        "start_time": "2023-04-03T08:12:01.608Z"
      },
      {
        "duration": 465,
        "start_time": "2023-04-03T08:12:01.648Z"
      },
      {
        "duration": 7,
        "start_time": "2023-04-03T08:12:02.115Z"
      },
      {
        "duration": 23,
        "start_time": "2023-04-03T08:12:02.124Z"
      },
      {
        "duration": 31,
        "start_time": "2023-04-03T08:12:02.149Z"
      },
      {
        "duration": 28,
        "start_time": "2023-04-03T08:12:02.184Z"
      },
      {
        "duration": 1344,
        "start_time": "2023-04-03T08:12:02.214Z"
      },
      {
        "duration": 3,
        "start_time": "2023-04-03T08:12:03.560Z"
      },
      {
        "duration": 1285,
        "start_time": "2023-04-03T08:12:03.565Z"
      },
      {
        "duration": 1217,
        "start_time": "2023-04-03T08:12:04.852Z"
      },
      {
        "duration": 325,
        "start_time": "2023-04-03T08:12:06.071Z"
      },
      {
        "duration": 8,
        "start_time": "2023-04-03T08:12:06.399Z"
      },
      {
        "duration": 691,
        "start_time": "2023-04-03T08:12:06.409Z"
      },
      {
        "duration": 3,
        "start_time": "2023-04-03T08:12:07.103Z"
      },
      {
        "duration": 8,
        "start_time": "2023-04-03T08:12:07.108Z"
      },
      {
        "duration": 5,
        "start_time": "2023-04-03T08:12:07.118Z"
      },
      {
        "duration": 8,
        "start_time": "2023-04-03T08:12:07.125Z"
      },
      {
        "duration": 5,
        "start_time": "2023-04-03T08:12:07.135Z"
      },
      {
        "duration": 7,
        "start_time": "2023-04-03T08:12:07.142Z"
      },
      {
        "duration": 14,
        "start_time": "2023-04-03T08:12:07.151Z"
      },
      {
        "duration": 41,
        "start_time": "2023-04-03T08:12:07.167Z"
      },
      {
        "duration": 43,
        "start_time": "2023-04-03T08:12:07.210Z"
      },
      {
        "duration": 1020978,
        "start_time": "2023-04-03T08:12:07.255Z"
      },
      {
        "duration": 0,
        "start_time": "2023-04-03T08:29:08.235Z"
      },
      {
        "duration": 0,
        "start_time": "2023-04-03T08:29:08.236Z"
      },
      {
        "duration": 0,
        "start_time": "2023-04-03T08:29:08.238Z"
      },
      {
        "duration": 0,
        "start_time": "2023-04-03T08:29:08.239Z"
      },
      {
        "duration": 0,
        "start_time": "2023-04-03T08:29:08.240Z"
      },
      {
        "duration": 1523,
        "start_time": "2023-04-03T08:29:27.601Z"
      },
      {
        "duration": 1412,
        "start_time": "2023-04-03T08:29:29.126Z"
      },
      {
        "duration": 27,
        "start_time": "2023-04-03T08:29:30.540Z"
      },
      {
        "duration": 37,
        "start_time": "2023-04-03T08:29:30.569Z"
      },
      {
        "duration": 51,
        "start_time": "2023-04-03T08:29:30.609Z"
      },
      {
        "duration": 85,
        "start_time": "2023-04-03T08:29:30.662Z"
      },
      {
        "duration": 50,
        "start_time": "2023-04-03T08:29:30.750Z"
      },
      {
        "duration": 28,
        "start_time": "2023-04-03T08:29:30.802Z"
      },
      {
        "duration": 15,
        "start_time": "2023-04-03T08:29:30.832Z"
      },
      {
        "duration": 32,
        "start_time": "2023-04-03T08:29:30.849Z"
      },
      {
        "duration": 38,
        "start_time": "2023-04-03T08:29:30.883Z"
      },
      {
        "duration": 23,
        "start_time": "2023-04-03T08:29:30.923Z"
      },
      {
        "duration": 26,
        "start_time": "2023-04-03T08:29:30.948Z"
      },
      {
        "duration": 20,
        "start_time": "2023-04-03T08:29:30.977Z"
      },
      {
        "duration": 29,
        "start_time": "2023-04-03T08:29:30.999Z"
      },
      {
        "duration": 19,
        "start_time": "2023-04-03T08:29:31.029Z"
      },
      {
        "duration": 318,
        "start_time": "2023-04-03T08:29:31.050Z"
      },
      {
        "duration": 3,
        "start_time": "2023-04-03T08:29:31.370Z"
      },
      {
        "duration": 35,
        "start_time": "2023-04-03T08:29:31.375Z"
      },
      {
        "duration": 24,
        "start_time": "2023-04-03T08:29:31.412Z"
      },
      {
        "duration": 15,
        "start_time": "2023-04-03T08:29:31.438Z"
      },
      {
        "duration": 20,
        "start_time": "2023-04-03T08:29:31.455Z"
      },
      {
        "duration": 27,
        "start_time": "2023-04-03T08:29:31.477Z"
      },
      {
        "duration": 414,
        "start_time": "2023-04-03T08:29:31.506Z"
      },
      {
        "duration": 7,
        "start_time": "2023-04-03T08:29:31.923Z"
      },
      {
        "duration": 23,
        "start_time": "2023-04-03T08:29:31.931Z"
      },
      {
        "duration": 20,
        "start_time": "2023-04-03T08:29:31.956Z"
      },
      {
        "duration": 40,
        "start_time": "2023-04-03T08:29:31.978Z"
      },
      {
        "duration": 1290,
        "start_time": "2023-04-03T08:29:32.020Z"
      },
      {
        "duration": 0,
        "start_time": "2023-04-03T08:29:33.313Z"
      },
      {
        "duration": 0,
        "start_time": "2023-04-03T08:29:33.315Z"
      },
      {
        "duration": 0,
        "start_time": "2023-04-03T08:29:33.316Z"
      },
      {
        "duration": 0,
        "start_time": "2023-04-03T08:29:33.317Z"
      },
      {
        "duration": 0,
        "start_time": "2023-04-03T08:29:33.319Z"
      },
      {
        "duration": 0,
        "start_time": "2023-04-03T08:29:33.321Z"
      },
      {
        "duration": 0,
        "start_time": "2023-04-03T08:29:33.322Z"
      },
      {
        "duration": 0,
        "start_time": "2023-04-03T08:29:33.323Z"
      },
      {
        "duration": 0,
        "start_time": "2023-04-03T08:29:33.324Z"
      },
      {
        "duration": 0,
        "start_time": "2023-04-03T08:29:33.325Z"
      },
      {
        "duration": 0,
        "start_time": "2023-04-03T08:29:33.326Z"
      },
      {
        "duration": 0,
        "start_time": "2023-04-03T08:29:33.327Z"
      },
      {
        "duration": 0,
        "start_time": "2023-04-03T08:29:33.328Z"
      },
      {
        "duration": 0,
        "start_time": "2023-04-03T08:29:33.330Z"
      },
      {
        "duration": 0,
        "start_time": "2023-04-03T08:29:33.331Z"
      },
      {
        "duration": 0,
        "start_time": "2023-04-03T08:29:33.332Z"
      },
      {
        "duration": 0,
        "start_time": "2023-04-03T08:29:33.334Z"
      },
      {
        "duration": 0,
        "start_time": "2023-04-03T08:29:33.335Z"
      },
      {
        "duration": 0,
        "start_time": "2023-04-03T08:29:33.336Z"
      },
      {
        "duration": 0,
        "start_time": "2023-04-03T08:29:33.338Z"
      },
      {
        "duration": 0,
        "start_time": "2023-04-03T08:29:33.339Z"
      },
      {
        "duration": 1722,
        "start_time": "2023-04-03T08:30:11.621Z"
      },
      {
        "duration": 1533,
        "start_time": "2023-04-03T08:30:13.345Z"
      },
      {
        "duration": 30,
        "start_time": "2023-04-03T08:30:14.880Z"
      },
      {
        "duration": 21,
        "start_time": "2023-04-03T08:30:14.913Z"
      },
      {
        "duration": 23,
        "start_time": "2023-04-03T08:30:14.936Z"
      },
      {
        "duration": 75,
        "start_time": "2023-04-03T08:30:14.961Z"
      },
      {
        "duration": 21,
        "start_time": "2023-04-03T08:30:15.038Z"
      },
      {
        "duration": 15,
        "start_time": "2023-04-03T08:30:15.060Z"
      },
      {
        "duration": 4,
        "start_time": "2023-04-03T08:30:15.102Z"
      },
      {
        "duration": 27,
        "start_time": "2023-04-03T08:30:15.109Z"
      },
      {
        "duration": 5,
        "start_time": "2023-04-03T08:30:15.138Z"
      },
      {
        "duration": 8,
        "start_time": "2023-04-03T08:30:15.145Z"
      },
      {
        "duration": 16,
        "start_time": "2023-04-03T08:30:15.155Z"
      },
      {
        "duration": 14,
        "start_time": "2023-04-03T08:30:15.173Z"
      },
      {
        "duration": 2,
        "start_time": "2023-04-03T08:30:15.189Z"
      },
      {
        "duration": 14,
        "start_time": "2023-04-03T08:30:15.204Z"
      },
      {
        "duration": 278,
        "start_time": "2023-04-03T08:30:15.220Z"
      },
      {
        "duration": 4,
        "start_time": "2023-04-03T08:30:15.500Z"
      },
      {
        "duration": 8,
        "start_time": "2023-04-03T08:30:15.506Z"
      },
      {
        "duration": 14,
        "start_time": "2023-04-03T08:30:15.516Z"
      },
      {
        "duration": 5,
        "start_time": "2023-04-03T08:30:15.532Z"
      },
      {
        "duration": 6,
        "start_time": "2023-04-03T08:30:15.539Z"
      },
      {
        "duration": 10,
        "start_time": "2023-04-03T08:30:15.547Z"
      },
      {
        "duration": 440,
        "start_time": "2023-04-03T08:30:15.558Z"
      },
      {
        "duration": 8,
        "start_time": "2023-04-03T08:30:16.000Z"
      },
      {
        "duration": 8,
        "start_time": "2023-04-03T08:30:16.010Z"
      },
      {
        "duration": 12,
        "start_time": "2023-04-03T08:30:16.020Z"
      },
      {
        "duration": 18,
        "start_time": "2023-04-03T08:30:16.036Z"
      },
      {
        "duration": 161,
        "start_time": "2023-04-03T08:30:16.056Z"
      },
      {
        "duration": 0,
        "start_time": "2023-04-03T08:30:16.218Z"
      },
      {
        "duration": 0,
        "start_time": "2023-04-03T08:30:16.220Z"
      },
      {
        "duration": 0,
        "start_time": "2023-04-03T08:30:16.220Z"
      },
      {
        "duration": 0,
        "start_time": "2023-04-03T08:30:16.222Z"
      },
      {
        "duration": 0,
        "start_time": "2023-04-03T08:30:16.223Z"
      },
      {
        "duration": 0,
        "start_time": "2023-04-03T08:30:16.224Z"
      },
      {
        "duration": 0,
        "start_time": "2023-04-03T08:30:16.225Z"
      },
      {
        "duration": 0,
        "start_time": "2023-04-03T08:30:16.226Z"
      },
      {
        "duration": 0,
        "start_time": "2023-04-03T08:30:16.226Z"
      },
      {
        "duration": 0,
        "start_time": "2023-04-03T08:30:16.228Z"
      },
      {
        "duration": 0,
        "start_time": "2023-04-03T08:30:16.229Z"
      },
      {
        "duration": 0,
        "start_time": "2023-04-03T08:30:16.229Z"
      },
      {
        "duration": 0,
        "start_time": "2023-04-03T08:30:16.231Z"
      },
      {
        "duration": 0,
        "start_time": "2023-04-03T08:30:16.232Z"
      },
      {
        "duration": 0,
        "start_time": "2023-04-03T08:30:16.233Z"
      },
      {
        "duration": 0,
        "start_time": "2023-04-03T08:30:16.235Z"
      },
      {
        "duration": 0,
        "start_time": "2023-04-03T08:30:16.236Z"
      },
      {
        "duration": 0,
        "start_time": "2023-04-03T08:30:16.237Z"
      },
      {
        "duration": 0,
        "start_time": "2023-04-03T08:30:16.238Z"
      },
      {
        "duration": 0,
        "start_time": "2023-04-03T08:30:16.240Z"
      },
      {
        "duration": 0,
        "start_time": "2023-04-03T08:30:16.241Z"
      },
      {
        "duration": 1301,
        "start_time": "2023-04-03T08:31:37.938Z"
      },
      {
        "duration": 14,
        "start_time": "2023-04-03T08:35:43.621Z"
      },
      {
        "duration": 4013,
        "start_time": "2023-04-03T08:37:02.294Z"
      },
      {
        "duration": 1321,
        "start_time": "2023-04-03T08:39:17.540Z"
      },
      {
        "duration": 3854,
        "start_time": "2023-04-03T08:39:27.194Z"
      },
      {
        "duration": 1236,
        "start_time": "2023-04-03T08:41:06.540Z"
      },
      {
        "duration": 3,
        "start_time": "2023-04-03T08:45:13.507Z"
      },
      {
        "duration": 1569,
        "start_time": "2023-04-03T08:45:20.067Z"
      },
      {
        "duration": 1790,
        "start_time": "2023-04-03T08:45:21.638Z"
      },
      {
        "duration": 26,
        "start_time": "2023-04-03T08:45:23.430Z"
      },
      {
        "duration": 21,
        "start_time": "2023-04-03T08:45:23.459Z"
      },
      {
        "duration": 26,
        "start_time": "2023-04-03T08:45:23.502Z"
      },
      {
        "duration": 51,
        "start_time": "2023-04-03T08:45:23.530Z"
      },
      {
        "duration": 30,
        "start_time": "2023-04-03T08:45:23.582Z"
      },
      {
        "duration": 16,
        "start_time": "2023-04-03T08:45:23.614Z"
      },
      {
        "duration": 4,
        "start_time": "2023-04-03T08:45:23.632Z"
      },
      {
        "duration": 13,
        "start_time": "2023-04-03T08:45:23.640Z"
      },
      {
        "duration": 8,
        "start_time": "2023-04-03T08:45:23.656Z"
      },
      {
        "duration": 38,
        "start_time": "2023-04-03T08:45:23.666Z"
      },
      {
        "duration": 8,
        "start_time": "2023-04-03T08:45:23.706Z"
      },
      {
        "duration": 13,
        "start_time": "2023-04-03T08:45:23.717Z"
      },
      {
        "duration": 3,
        "start_time": "2023-04-03T08:45:23.732Z"
      },
      {
        "duration": 23,
        "start_time": "2023-04-03T08:45:23.736Z"
      },
      {
        "duration": 298,
        "start_time": "2023-04-03T08:45:23.762Z"
      },
      {
        "duration": 3,
        "start_time": "2023-04-03T08:45:24.063Z"
      },
      {
        "duration": 13,
        "start_time": "2023-04-03T08:45:24.068Z"
      },
      {
        "duration": 35,
        "start_time": "2023-04-03T08:45:24.083Z"
      },
      {
        "duration": 6,
        "start_time": "2023-04-03T08:45:24.120Z"
      },
      {
        "duration": 8,
        "start_time": "2023-04-03T08:45:24.128Z"
      },
      {
        "duration": 11,
        "start_time": "2023-04-03T08:45:24.137Z"
      },
      {
        "duration": 424,
        "start_time": "2023-04-03T08:45:24.150Z"
      },
      {
        "duration": 7,
        "start_time": "2023-04-03T08:45:24.577Z"
      },
      {
        "duration": 18,
        "start_time": "2023-04-03T08:45:24.586Z"
      },
      {
        "duration": 12,
        "start_time": "2023-04-03T08:45:24.606Z"
      },
      {
        "duration": 16,
        "start_time": "2023-04-03T08:45:24.621Z"
      },
      {
        "duration": 3,
        "start_time": "2023-04-03T08:45:24.639Z"
      },
      {
        "duration": 1220,
        "start_time": "2023-04-03T08:45:24.644Z"
      },
      {
        "duration": 3,
        "start_time": "2023-04-03T08:45:25.866Z"
      },
      {
        "duration": 1408,
        "start_time": "2023-04-03T08:45:25.871Z"
      },
      {
        "duration": 1278,
        "start_time": "2023-04-03T08:45:27.281Z"
      },
      {
        "duration": 330,
        "start_time": "2023-04-03T08:45:28.561Z"
      },
      {
        "duration": 13,
        "start_time": "2023-04-03T08:45:28.893Z"
      },
      {
        "duration": 624,
        "start_time": "2023-04-03T08:45:28.907Z"
      },
      {
        "duration": 3,
        "start_time": "2023-04-03T08:45:29.533Z"
      },
      {
        "duration": 7,
        "start_time": "2023-04-03T08:45:29.538Z"
      },
      {
        "duration": 10,
        "start_time": "2023-04-03T08:45:29.547Z"
      },
      {
        "duration": 9,
        "start_time": "2023-04-03T08:45:29.559Z"
      },
      {
        "duration": 9,
        "start_time": "2023-04-03T08:45:29.570Z"
      },
      {
        "duration": 22,
        "start_time": "2023-04-03T08:45:29.581Z"
      },
      {
        "duration": 7,
        "start_time": "2023-04-03T08:45:29.605Z"
      },
      {
        "duration": 9,
        "start_time": "2023-04-03T08:45:29.614Z"
      },
      {
        "duration": 40,
        "start_time": "2023-04-03T08:45:29.625Z"
      },
      {
        "duration": 1832,
        "start_time": "2023-04-03T08:47:42.425Z"
      },
      {
        "duration": 2044,
        "start_time": "2023-04-03T08:47:44.259Z"
      },
      {
        "duration": 26,
        "start_time": "2023-04-03T08:47:46.305Z"
      },
      {
        "duration": 22,
        "start_time": "2023-04-03T08:47:46.333Z"
      },
      {
        "duration": 23,
        "start_time": "2023-04-03T08:47:46.357Z"
      },
      {
        "duration": 42,
        "start_time": "2023-04-03T08:47:46.403Z"
      },
      {
        "duration": 20,
        "start_time": "2023-04-03T08:47:46.446Z"
      },
      {
        "duration": 40,
        "start_time": "2023-04-03T08:47:46.467Z"
      },
      {
        "duration": 4,
        "start_time": "2023-04-03T08:47:46.509Z"
      },
      {
        "duration": 7,
        "start_time": "2023-04-03T08:47:46.515Z"
      },
      {
        "duration": 5,
        "start_time": "2023-04-03T08:47:46.524Z"
      },
      {
        "duration": 11,
        "start_time": "2023-04-03T08:47:46.530Z"
      },
      {
        "duration": 14,
        "start_time": "2023-04-03T08:47:46.543Z"
      },
      {
        "duration": 9,
        "start_time": "2023-04-03T08:47:46.559Z"
      },
      {
        "duration": 3,
        "start_time": "2023-04-03T08:47:46.570Z"
      },
      {
        "duration": 14,
        "start_time": "2023-04-03T08:47:46.602Z"
      },
      {
        "duration": 252,
        "start_time": "2023-04-03T08:47:46.618Z"
      },
      {
        "duration": 3,
        "start_time": "2023-04-03T08:47:46.872Z"
      },
      {
        "duration": 12,
        "start_time": "2023-04-03T08:47:46.876Z"
      },
      {
        "duration": 17,
        "start_time": "2023-04-03T08:47:46.890Z"
      },
      {
        "duration": 6,
        "start_time": "2023-04-03T08:47:46.908Z"
      },
      {
        "duration": 18,
        "start_time": "2023-04-03T08:47:46.916Z"
      },
      {
        "duration": 21,
        "start_time": "2023-04-03T08:47:46.936Z"
      },
      {
        "duration": 402,
        "start_time": "2023-04-03T08:47:46.959Z"
      },
      {
        "duration": 7,
        "start_time": "2023-04-03T08:47:47.362Z"
      },
      {
        "duration": 33,
        "start_time": "2023-04-03T08:47:47.370Z"
      },
      {
        "duration": 44,
        "start_time": "2023-04-03T08:47:47.405Z"
      },
      {
        "duration": 15,
        "start_time": "2023-04-03T08:47:47.453Z"
      },
      {
        "duration": 3,
        "start_time": "2023-04-03T08:47:47.470Z"
      },
      {
        "duration": 1291,
        "start_time": "2023-04-03T08:47:47.474Z"
      },
      {
        "duration": 2,
        "start_time": "2023-04-03T08:47:48.767Z"
      },
      {
        "duration": 1292,
        "start_time": "2023-04-03T08:47:48.771Z"
      },
      {
        "duration": 1197,
        "start_time": "2023-04-03T08:47:50.065Z"
      },
      {
        "duration": 316,
        "start_time": "2023-04-03T08:47:51.265Z"
      },
      {
        "duration": 7,
        "start_time": "2023-04-03T08:47:51.582Z"
      },
      {
        "duration": 686,
        "start_time": "2023-04-03T08:47:51.590Z"
      },
      {
        "duration": 3,
        "start_time": "2023-04-03T08:47:52.278Z"
      },
      {
        "duration": 23,
        "start_time": "2023-04-03T08:47:52.283Z"
      },
      {
        "duration": 9,
        "start_time": "2023-04-03T08:47:52.307Z"
      },
      {
        "duration": 57,
        "start_time": "2023-04-03T08:47:52.318Z"
      },
      {
        "duration": 10,
        "start_time": "2023-04-03T08:47:52.376Z"
      },
      {
        "duration": 15,
        "start_time": "2023-04-03T08:47:52.387Z"
      },
      {
        "duration": 11,
        "start_time": "2023-04-03T08:47:52.404Z"
      },
      {
        "duration": 10,
        "start_time": "2023-04-03T08:47:52.417Z"
      },
      {
        "duration": 57,
        "start_time": "2023-04-03T08:47:52.429Z"
      },
      {
        "duration": 1486,
        "start_time": "2023-04-03T09:14:33.193Z"
      },
      {
        "duration": 2331,
        "start_time": "2023-04-03T09:14:34.681Z"
      },
      {
        "duration": 32,
        "start_time": "2023-04-03T09:14:37.013Z"
      },
      {
        "duration": 24,
        "start_time": "2023-04-03T09:14:37.048Z"
      },
      {
        "duration": 43,
        "start_time": "2023-04-03T09:14:37.074Z"
      },
      {
        "duration": 60,
        "start_time": "2023-04-03T09:14:37.119Z"
      },
      {
        "duration": 23,
        "start_time": "2023-04-03T09:14:37.181Z"
      },
      {
        "duration": 33,
        "start_time": "2023-04-03T09:14:37.205Z"
      },
      {
        "duration": 28,
        "start_time": "2023-04-03T09:14:37.240Z"
      },
      {
        "duration": 23,
        "start_time": "2023-04-03T09:14:37.270Z"
      },
      {
        "duration": 36,
        "start_time": "2023-04-03T09:14:37.295Z"
      },
      {
        "duration": 58,
        "start_time": "2023-04-03T09:14:37.333Z"
      },
      {
        "duration": 71,
        "start_time": "2023-04-03T09:14:37.393Z"
      },
      {
        "duration": 32,
        "start_time": "2023-04-03T09:14:37.468Z"
      },
      {
        "duration": 27,
        "start_time": "2023-04-03T09:14:37.502Z"
      },
      {
        "duration": 51,
        "start_time": "2023-04-03T09:14:37.531Z"
      },
      {
        "duration": 272,
        "start_time": "2023-04-03T09:14:37.584Z"
      },
      {
        "duration": 3,
        "start_time": "2023-04-03T09:14:37.858Z"
      },
      {
        "duration": 16,
        "start_time": "2023-04-03T09:14:37.863Z"
      },
      {
        "duration": 25,
        "start_time": "2023-04-03T09:14:37.880Z"
      },
      {
        "duration": 14,
        "start_time": "2023-04-03T09:14:37.906Z"
      },
      {
        "duration": 6,
        "start_time": "2023-04-03T09:14:37.922Z"
      },
      {
        "duration": 13,
        "start_time": "2023-04-03T09:14:37.930Z"
      },
      {
        "duration": 443,
        "start_time": "2023-04-03T09:14:37.944Z"
      },
      {
        "duration": 6,
        "start_time": "2023-04-03T09:14:38.389Z"
      },
      {
        "duration": 6,
        "start_time": "2023-04-03T09:14:38.402Z"
      },
      {
        "duration": 18,
        "start_time": "2023-04-03T09:14:38.410Z"
      },
      {
        "duration": 16,
        "start_time": "2023-04-03T09:14:38.430Z"
      },
      {
        "duration": 6,
        "start_time": "2023-04-03T09:14:38.448Z"
      },
      {
        "duration": 1306,
        "start_time": "2023-04-03T09:14:38.456Z"
      },
      {
        "duration": 3,
        "start_time": "2023-04-03T09:14:39.764Z"
      },
      {
        "duration": 1390,
        "start_time": "2023-04-03T09:14:39.769Z"
      },
      {
        "duration": 1186,
        "start_time": "2023-04-03T09:14:41.161Z"
      },
      {
        "duration": 320,
        "start_time": "2023-04-03T09:14:42.349Z"
      },
      {
        "duration": 7,
        "start_time": "2023-04-03T09:14:42.671Z"
      },
      {
        "duration": 597,
        "start_time": "2023-04-03T09:14:42.679Z"
      },
      {
        "duration": 4,
        "start_time": "2023-04-03T09:14:43.278Z"
      },
      {
        "duration": 8,
        "start_time": "2023-04-03T09:14:43.283Z"
      },
      {
        "duration": 31,
        "start_time": "2023-04-03T09:14:43.292Z"
      },
      {
        "duration": 23,
        "start_time": "2023-04-03T09:14:43.325Z"
      },
      {
        "duration": 6,
        "start_time": "2023-04-03T09:14:43.352Z"
      },
      {
        "duration": 15,
        "start_time": "2023-04-03T09:14:43.360Z"
      },
      {
        "duration": 23,
        "start_time": "2023-04-03T09:14:43.377Z"
      },
      {
        "duration": 26,
        "start_time": "2023-04-03T09:14:43.401Z"
      },
      {
        "duration": 39,
        "start_time": "2023-04-03T09:14:43.428Z"
      },
      {
        "duration": 496661,
        "start_time": "2023-04-03T09:14:43.468Z"
      },
      {
        "duration": 26087,
        "start_time": "2023-04-03T09:23:00.130Z"
      },
      {
        "duration": 57190,
        "start_time": "2023-04-03T09:23:26.219Z"
      },
      {
        "duration": 161,
        "start_time": "2023-04-03T09:24:23.504Z"
      },
      {
        "duration": 4,
        "start_time": "2023-04-03T09:24:23.667Z"
      },
      {
        "duration": 74,
        "start_time": "2023-04-03T09:25:39.219Z"
      },
      {
        "duration": 72,
        "start_time": "2023-04-03T09:27:06.738Z"
      },
      {
        "duration": 3,
        "start_time": "2023-04-03T09:27:24.510Z"
      },
      {
        "duration": 3848,
        "start_time": "2023-04-03T09:34:19.897Z"
      },
      {
        "duration": 4002,
        "start_time": "2023-04-03T09:35:19.594Z"
      },
      {
        "duration": 1605,
        "start_time": "2023-04-03T09:37:19.916Z"
      },
      {
        "duration": 1895,
        "start_time": "2023-04-03T09:37:21.523Z"
      },
      {
        "duration": 27,
        "start_time": "2023-04-03T09:37:23.420Z"
      },
      {
        "duration": 23,
        "start_time": "2023-04-03T09:37:23.449Z"
      },
      {
        "duration": 43,
        "start_time": "2023-04-03T09:37:23.473Z"
      },
      {
        "duration": 43,
        "start_time": "2023-04-03T09:37:23.518Z"
      },
      {
        "duration": 20,
        "start_time": "2023-04-03T09:37:23.562Z"
      },
      {
        "duration": 39,
        "start_time": "2023-04-03T09:37:23.583Z"
      },
      {
        "duration": 4,
        "start_time": "2023-04-03T09:37:23.624Z"
      },
      {
        "duration": 22,
        "start_time": "2023-04-03T09:37:23.631Z"
      },
      {
        "duration": 6,
        "start_time": "2023-04-03T09:37:23.655Z"
      },
      {
        "duration": 29,
        "start_time": "2023-04-03T09:37:23.663Z"
      },
      {
        "duration": 16,
        "start_time": "2023-04-03T09:37:23.694Z"
      },
      {
        "duration": 13,
        "start_time": "2023-04-03T09:37:23.712Z"
      },
      {
        "duration": 26,
        "start_time": "2023-04-03T09:37:23.727Z"
      },
      {
        "duration": 36,
        "start_time": "2023-04-03T09:37:23.755Z"
      },
      {
        "duration": 283,
        "start_time": "2023-04-03T09:37:23.792Z"
      },
      {
        "duration": 4,
        "start_time": "2023-04-03T09:37:24.076Z"
      },
      {
        "duration": 7,
        "start_time": "2023-04-03T09:37:24.082Z"
      },
      {
        "duration": 32,
        "start_time": "2023-04-03T09:37:24.091Z"
      },
      {
        "duration": 5,
        "start_time": "2023-04-03T09:37:24.125Z"
      },
      {
        "duration": 10,
        "start_time": "2023-04-03T09:37:24.132Z"
      },
      {
        "duration": 8,
        "start_time": "2023-04-03T09:37:24.144Z"
      },
      {
        "duration": 423,
        "start_time": "2023-04-03T09:37:24.154Z"
      },
      {
        "duration": 6,
        "start_time": "2023-04-03T09:37:24.579Z"
      },
      {
        "duration": 19,
        "start_time": "2023-04-03T09:37:24.587Z"
      },
      {
        "duration": 19,
        "start_time": "2023-04-03T09:37:24.608Z"
      },
      {
        "duration": 20,
        "start_time": "2023-04-03T09:37:24.630Z"
      },
      {
        "duration": 3840,
        "start_time": "2023-04-03T09:37:24.652Z"
      },
      {
        "duration": 10,
        "start_time": "2023-04-03T09:37:28.503Z"
      },
      {
        "duration": 327,
        "start_time": "2023-04-03T09:37:28.516Z"
      },
      {
        "duration": 7,
        "start_time": "2023-04-03T09:37:28.845Z"
      },
      {
        "duration": 633,
        "start_time": "2023-04-03T09:37:28.854Z"
      },
      {
        "duration": 4,
        "start_time": "2023-04-03T09:37:29.489Z"
      },
      {
        "duration": 10,
        "start_time": "2023-04-03T09:37:29.506Z"
      },
      {
        "duration": 6,
        "start_time": "2023-04-03T09:37:29.518Z"
      },
      {
        "duration": 9,
        "start_time": "2023-04-03T09:37:29.526Z"
      },
      {
        "duration": 18,
        "start_time": "2023-04-03T09:37:29.537Z"
      },
      {
        "duration": 19,
        "start_time": "2023-04-03T09:37:29.556Z"
      },
      {
        "duration": 12,
        "start_time": "2023-04-03T09:37:29.577Z"
      },
      {
        "duration": 31,
        "start_time": "2023-04-03T09:37:29.591Z"
      },
      {
        "duration": 44,
        "start_time": "2023-04-03T09:37:29.624Z"
      },
      {
        "duration": 625426,
        "start_time": "2023-04-03T09:37:29.670Z"
      },
      {
        "duration": 26698,
        "start_time": "2023-04-03T09:47:55.097Z"
      },
      {
        "duration": 81521,
        "start_time": "2023-04-03T12:25:11.792Z"
      },
      {
        "duration": 52,
        "start_time": "2023-04-03T12:28:37.216Z"
      },
      {
        "duration": 4,
        "start_time": "2023-04-03T12:28:37.370Z"
      },
      {
        "duration": 75,
        "start_time": "2023-04-03T13:56:33.618Z"
      },
      {
        "duration": 1804,
        "start_time": "2023-04-03T13:56:39.726Z"
      },
      {
        "duration": 2148,
        "start_time": "2023-04-03T13:56:41.539Z"
      },
      {
        "duration": 43,
        "start_time": "2023-04-03T13:56:43.702Z"
      },
      {
        "duration": 18,
        "start_time": "2023-04-03T13:56:43.747Z"
      },
      {
        "duration": 90,
        "start_time": "2023-04-03T13:56:43.767Z"
      },
      {
        "duration": 142,
        "start_time": "2023-04-03T13:56:43.859Z"
      },
      {
        "duration": 45,
        "start_time": "2023-04-03T13:56:44.003Z"
      },
      {
        "duration": 86,
        "start_time": "2023-04-03T13:56:44.050Z"
      },
      {
        "duration": 13,
        "start_time": "2023-04-03T13:56:44.138Z"
      },
      {
        "duration": 5,
        "start_time": "2023-04-03T13:56:44.155Z"
      },
      {
        "duration": 78,
        "start_time": "2023-04-03T13:56:44.161Z"
      },
      {
        "duration": 14,
        "start_time": "2023-04-03T13:56:44.241Z"
      },
      {
        "duration": 33,
        "start_time": "2023-04-03T13:56:44.256Z"
      },
      {
        "duration": 63,
        "start_time": "2023-04-03T13:56:44.291Z"
      },
      {
        "duration": 91,
        "start_time": "2023-04-03T13:56:44.355Z"
      },
      {
        "duration": 42,
        "start_time": "2023-04-03T13:56:44.447Z"
      },
      {
        "duration": 348,
        "start_time": "2023-04-03T13:56:44.504Z"
      },
      {
        "duration": 3,
        "start_time": "2023-04-03T13:56:44.853Z"
      },
      {
        "duration": 10,
        "start_time": "2023-04-03T13:56:44.857Z"
      },
      {
        "duration": 59,
        "start_time": "2023-04-03T13:56:44.869Z"
      },
      {
        "duration": 21,
        "start_time": "2023-04-03T13:56:44.941Z"
      },
      {
        "duration": 87,
        "start_time": "2023-04-03T13:56:44.964Z"
      },
      {
        "duration": 12,
        "start_time": "2023-04-03T13:56:45.052Z"
      },
      {
        "duration": 415,
        "start_time": "2023-04-03T13:56:45.066Z"
      },
      {
        "duration": 8,
        "start_time": "2023-04-03T13:56:45.482Z"
      },
      {
        "duration": 57,
        "start_time": "2023-04-03T13:56:45.491Z"
      },
      {
        "duration": 44,
        "start_time": "2023-04-03T13:56:45.549Z"
      },
      {
        "duration": 132,
        "start_time": "2023-04-03T13:56:45.605Z"
      },
      {
        "duration": 4214,
        "start_time": "2023-04-03T13:56:45.741Z"
      },
      {
        "duration": 3,
        "start_time": "2023-04-03T13:56:49.957Z"
      },
      {
        "duration": 361,
        "start_time": "2023-04-03T13:56:49.962Z"
      },
      {
        "duration": 153,
        "start_time": "2023-04-03T13:56:50.324Z"
      },
      {
        "duration": 0,
        "start_time": "2023-04-03T13:56:50.479Z"
      },
      {
        "duration": 0,
        "start_time": "2023-04-03T13:56:50.479Z"
      },
      {
        "duration": 0,
        "start_time": "2023-04-03T13:56:50.480Z"
      },
      {
        "duration": 0,
        "start_time": "2023-04-03T13:56:50.481Z"
      },
      {
        "duration": 0,
        "start_time": "2023-04-03T13:56:50.481Z"
      },
      {
        "duration": 0,
        "start_time": "2023-04-03T13:56:50.482Z"
      },
      {
        "duration": 0,
        "start_time": "2023-04-03T13:56:50.483Z"
      },
      {
        "duration": 0,
        "start_time": "2023-04-03T13:56:50.483Z"
      },
      {
        "duration": 0,
        "start_time": "2023-04-03T13:56:50.484Z"
      },
      {
        "duration": 0,
        "start_time": "2023-04-03T13:56:50.484Z"
      },
      {
        "duration": 0,
        "start_time": "2023-04-03T13:56:50.485Z"
      },
      {
        "duration": 0,
        "start_time": "2023-04-03T13:56:50.486Z"
      },
      {
        "duration": 0,
        "start_time": "2023-04-03T13:56:50.487Z"
      },
      {
        "duration": 0,
        "start_time": "2023-04-03T13:56:50.487Z"
      },
      {
        "duration": 0,
        "start_time": "2023-04-03T13:56:50.488Z"
      },
      {
        "duration": 0,
        "start_time": "2023-04-03T13:56:50.489Z"
      },
      {
        "duration": 369,
        "start_time": "2023-04-03T13:58:22.503Z"
      },
      {
        "duration": 298,
        "start_time": "2023-04-03T13:58:58.390Z"
      },
      {
        "duration": 275,
        "start_time": "2023-04-03T13:59:20.251Z"
      },
      {
        "duration": 378,
        "start_time": "2023-04-03T13:59:42.792Z"
      },
      {
        "duration": 406,
        "start_time": "2023-04-03T13:59:52.014Z"
      },
      {
        "duration": 1434,
        "start_time": "2023-04-03T14:03:18.291Z"
      },
      {
        "duration": 1588,
        "start_time": "2023-04-03T14:03:19.727Z"
      },
      {
        "duration": 23,
        "start_time": "2023-04-03T14:03:21.323Z"
      },
      {
        "duration": 17,
        "start_time": "2023-04-03T14:03:21.347Z"
      },
      {
        "duration": 66,
        "start_time": "2023-04-03T14:03:21.366Z"
      },
      {
        "duration": 66,
        "start_time": "2023-04-03T14:03:21.434Z"
      },
      {
        "duration": 24,
        "start_time": "2023-04-03T14:03:21.502Z"
      },
      {
        "duration": 12,
        "start_time": "2023-04-03T14:03:21.528Z"
      },
      {
        "duration": 3,
        "start_time": "2023-04-03T14:03:21.542Z"
      },
      {
        "duration": 9,
        "start_time": "2023-04-03T14:03:21.547Z"
      },
      {
        "duration": 26,
        "start_time": "2023-04-03T14:03:21.558Z"
      },
      {
        "duration": 37,
        "start_time": "2023-04-03T14:03:21.596Z"
      },
      {
        "duration": 29,
        "start_time": "2023-04-03T14:03:21.635Z"
      },
      {
        "duration": 19,
        "start_time": "2023-04-03T14:03:21.666Z"
      },
      {
        "duration": 36,
        "start_time": "2023-04-03T14:03:21.692Z"
      },
      {
        "duration": 19,
        "start_time": "2023-04-03T14:03:21.729Z"
      },
      {
        "duration": 244,
        "start_time": "2023-04-03T14:03:21.750Z"
      },
      {
        "duration": 4,
        "start_time": "2023-04-03T14:03:21.995Z"
      },
      {
        "duration": 41,
        "start_time": "2023-04-03T14:03:22.000Z"
      },
      {
        "duration": 16,
        "start_time": "2023-04-03T14:03:22.043Z"
      },
      {
        "duration": 10,
        "start_time": "2023-04-03T14:03:22.061Z"
      },
      {
        "duration": 51,
        "start_time": "2023-04-03T14:03:22.082Z"
      },
      {
        "duration": 26,
        "start_time": "2023-04-03T14:03:22.134Z"
      },
      {
        "duration": 442,
        "start_time": "2023-04-03T14:03:22.162Z"
      },
      {
        "duration": 10,
        "start_time": "2023-04-03T14:03:22.613Z"
      },
      {
        "duration": 26,
        "start_time": "2023-04-03T14:03:22.624Z"
      },
      {
        "duration": 38,
        "start_time": "2023-04-03T14:03:22.651Z"
      },
      {
        "duration": 44,
        "start_time": "2023-04-03T14:03:22.695Z"
      },
      {
        "duration": 3965,
        "start_time": "2023-04-03T14:03:22.741Z"
      },
      {
        "duration": 5,
        "start_time": "2023-04-03T14:03:26.722Z"
      },
      {
        "duration": 293,
        "start_time": "2023-04-03T14:03:26.728Z"
      },
      {
        "duration": 5,
        "start_time": "2023-04-03T14:03:27.027Z"
      },
      {
        "duration": 529,
        "start_time": "2023-04-03T14:03:27.034Z"
      },
      {
        "duration": 22,
        "start_time": "2023-04-03T14:03:27.565Z"
      },
      {
        "duration": 42,
        "start_time": "2023-04-03T14:03:27.589Z"
      },
      {
        "duration": 8,
        "start_time": "2023-04-03T14:03:27.633Z"
      },
      {
        "duration": 8,
        "start_time": "2023-04-03T14:03:27.643Z"
      },
      {
        "duration": 72,
        "start_time": "2023-04-03T14:03:27.652Z"
      },
      {
        "duration": 27,
        "start_time": "2023-04-03T14:03:27.725Z"
      },
      {
        "duration": 73,
        "start_time": "2023-04-03T14:03:27.753Z"
      },
      {
        "duration": 15,
        "start_time": "2023-04-03T14:03:27.829Z"
      },
      {
        "duration": 59,
        "start_time": "2023-04-03T14:03:27.846Z"
      },
      {
        "duration": 1778,
        "start_time": "2023-04-03T14:08:21.018Z"
      },
      {
        "duration": 1587,
        "start_time": "2023-04-03T14:08:22.810Z"
      },
      {
        "duration": 30,
        "start_time": "2023-04-03T14:08:24.414Z"
      },
      {
        "duration": 46,
        "start_time": "2023-04-03T14:08:24.447Z"
      },
      {
        "duration": 44,
        "start_time": "2023-04-03T14:08:24.506Z"
      },
      {
        "duration": 100,
        "start_time": "2023-04-03T14:08:24.552Z"
      },
      {
        "duration": 24,
        "start_time": "2023-04-03T14:08:24.653Z"
      },
      {
        "duration": 22,
        "start_time": "2023-04-03T14:08:24.683Z"
      },
      {
        "duration": 40,
        "start_time": "2023-04-03T14:08:24.707Z"
      },
      {
        "duration": 9,
        "start_time": "2023-04-03T14:08:24.750Z"
      },
      {
        "duration": 54,
        "start_time": "2023-04-03T14:08:24.761Z"
      },
      {
        "duration": 30,
        "start_time": "2023-04-03T14:08:24.817Z"
      },
      {
        "duration": 61,
        "start_time": "2023-04-03T14:08:24.850Z"
      },
      {
        "duration": 29,
        "start_time": "2023-04-03T14:08:24.913Z"
      },
      {
        "duration": 7,
        "start_time": "2023-04-03T14:08:24.944Z"
      },
      {
        "duration": 18,
        "start_time": "2023-04-03T14:08:24.952Z"
      },
      {
        "duration": 368,
        "start_time": "2023-04-03T14:08:24.972Z"
      },
      {
        "duration": 2,
        "start_time": "2023-04-03T14:08:25.342Z"
      },
      {
        "duration": 19,
        "start_time": "2023-04-03T14:08:25.346Z"
      },
      {
        "duration": 63,
        "start_time": "2023-04-03T14:08:25.367Z"
      },
      {
        "duration": 4,
        "start_time": "2023-04-03T14:08:25.432Z"
      },
      {
        "duration": 34,
        "start_time": "2023-04-03T14:08:25.437Z"
      },
      {
        "duration": 52,
        "start_time": "2023-04-03T14:08:25.490Z"
      },
      {
        "duration": 472,
        "start_time": "2023-04-03T14:08:25.545Z"
      },
      {
        "duration": 16,
        "start_time": "2023-04-03T14:08:26.018Z"
      },
      {
        "duration": 19,
        "start_time": "2023-04-03T14:08:26.036Z"
      },
      {
        "duration": 96,
        "start_time": "2023-04-03T14:08:26.057Z"
      },
      {
        "duration": 33,
        "start_time": "2023-04-03T14:08:26.158Z"
      },
      {
        "duration": 4152,
        "start_time": "2023-04-03T14:08:26.194Z"
      },
      {
        "duration": 2,
        "start_time": "2023-04-03T14:08:30.348Z"
      },
      {
        "duration": 376,
        "start_time": "2023-04-03T14:08:30.352Z"
      },
      {
        "duration": 7,
        "start_time": "2023-04-03T14:08:30.730Z"
      },
      {
        "duration": 698,
        "start_time": "2023-04-03T14:08:30.738Z"
      },
      {
        "duration": 3,
        "start_time": "2023-04-03T14:08:31.438Z"
      },
      {
        "duration": 235,
        "start_time": "2023-04-03T14:08:31.442Z"
      },
      {
        "duration": 159,
        "start_time": "2023-04-03T14:08:31.679Z"
      },
      {
        "duration": 37,
        "start_time": "2023-04-03T14:08:31.840Z"
      },
      {
        "duration": 65,
        "start_time": "2023-04-03T14:08:31.886Z"
      },
      {
        "duration": 56,
        "start_time": "2023-04-03T14:08:31.953Z"
      },
      {
        "duration": 48,
        "start_time": "2023-04-03T14:08:32.013Z"
      },
      {
        "duration": 65,
        "start_time": "2023-04-03T14:08:32.063Z"
      },
      {
        "duration": 72,
        "start_time": "2023-04-03T14:08:32.129Z"
      },
      {
        "duration": 724749,
        "start_time": "2023-04-03T14:08:32.214Z"
      },
      {
        "duration": 33199,
        "start_time": "2023-04-03T14:20:36.967Z"
      },
      {
        "duration": 2093233,
        "start_time": "2023-04-03T14:21:10.168Z"
      },
      {
        "duration": 141,
        "start_time": "2023-04-03T14:56:03.485Z"
      },
      {
        "duration": 3,
        "start_time": "2023-04-03T14:56:03.628Z"
      },
      {
        "duration": 135,
        "start_time": "2023-04-03T14:56:12.931Z"
      },
      {
        "duration": 5,
        "start_time": "2023-04-03T14:56:23.011Z"
      },
      {
        "duration": 64,
        "start_time": "2023-04-03T14:56:29.938Z"
      },
      {
        "duration": 39,
        "start_time": "2023-04-03T14:59:39.902Z"
      },
      {
        "duration": 14,
        "start_time": "2023-04-03T15:00:13.567Z"
      },
      {
        "duration": 67,
        "start_time": "2023-04-03T15:00:53.138Z"
      },
      {
        "duration": 15,
        "start_time": "2023-04-03T15:01:10.918Z"
      },
      {
        "duration": 9,
        "start_time": "2023-04-03T15:01:54.736Z"
      },
      {
        "duration": 1524,
        "start_time": "2023-04-03T15:07:17.069Z"
      },
      {
        "duration": 1889,
        "start_time": "2023-04-03T15:07:18.607Z"
      },
      {
        "duration": 27,
        "start_time": "2023-04-03T15:07:20.499Z"
      },
      {
        "duration": 26,
        "start_time": "2023-04-03T15:07:20.528Z"
      },
      {
        "duration": 51,
        "start_time": "2023-04-03T15:07:20.556Z"
      },
      {
        "duration": 45,
        "start_time": "2023-04-03T15:07:20.609Z"
      },
      {
        "duration": 46,
        "start_time": "2023-04-03T15:07:20.656Z"
      },
      {
        "duration": 27,
        "start_time": "2023-04-03T15:07:20.714Z"
      },
      {
        "duration": 69,
        "start_time": "2023-04-03T15:07:20.742Z"
      },
      {
        "duration": 14,
        "start_time": "2023-04-03T15:07:20.813Z"
      },
      {
        "duration": 19,
        "start_time": "2023-04-03T15:07:20.829Z"
      },
      {
        "duration": 31,
        "start_time": "2023-04-03T15:07:20.850Z"
      },
      {
        "duration": 32,
        "start_time": "2023-04-03T15:07:20.887Z"
      },
      {
        "duration": 23,
        "start_time": "2023-04-03T15:07:20.922Z"
      },
      {
        "duration": 101,
        "start_time": "2023-04-03T15:07:20.946Z"
      },
      {
        "duration": 66,
        "start_time": "2023-04-03T15:07:21.049Z"
      },
      {
        "duration": 291,
        "start_time": "2023-04-03T15:07:21.117Z"
      },
      {
        "duration": 3,
        "start_time": "2023-04-03T15:07:21.415Z"
      },
      {
        "duration": 23,
        "start_time": "2023-04-03T15:07:21.420Z"
      },
      {
        "duration": 224,
        "start_time": "2023-04-03T15:07:21.445Z"
      },
      {
        "duration": 76,
        "start_time": "2023-04-03T15:07:21.671Z"
      },
      {
        "duration": 60,
        "start_time": "2023-04-03T15:07:21.748Z"
      },
      {
        "duration": 14,
        "start_time": "2023-04-03T15:07:21.811Z"
      },
      {
        "duration": 410,
        "start_time": "2023-04-03T15:07:21.827Z"
      },
      {
        "duration": 5,
        "start_time": "2023-04-03T15:07:22.239Z"
      },
      {
        "duration": 66,
        "start_time": "2023-04-03T15:07:22.245Z"
      },
      {
        "duration": 38,
        "start_time": "2023-04-03T15:07:22.312Z"
      },
      {
        "duration": 42,
        "start_time": "2023-04-03T15:07:22.351Z"
      },
      {
        "duration": 4117,
        "start_time": "2023-04-03T15:07:22.394Z"
      },
      {
        "duration": 6,
        "start_time": "2023-04-03T15:07:26.513Z"
      },
      {
        "duration": 313,
        "start_time": "2023-04-03T15:07:26.521Z"
      },
      {
        "duration": 6,
        "start_time": "2023-04-03T15:07:26.835Z"
      },
      {
        "duration": 508,
        "start_time": "2023-04-03T15:07:26.842Z"
      },
      {
        "duration": 3,
        "start_time": "2023-04-03T15:07:27.352Z"
      },
      {
        "duration": 8,
        "start_time": "2023-04-03T15:07:27.356Z"
      },
      {
        "duration": 41,
        "start_time": "2023-04-03T15:07:27.365Z"
      },
      {
        "duration": 12,
        "start_time": "2023-04-03T15:07:27.408Z"
      },
      {
        "duration": 6,
        "start_time": "2023-04-03T15:07:27.421Z"
      },
      {
        "duration": 20,
        "start_time": "2023-04-03T15:07:27.429Z"
      },
      {
        "duration": 259,
        "start_time": "2023-04-03T15:07:27.451Z"
      },
      {
        "duration": 0,
        "start_time": "2023-04-03T15:07:27.712Z"
      },
      {
        "duration": 0,
        "start_time": "2023-04-03T15:07:27.714Z"
      },
      {
        "duration": 0,
        "start_time": "2023-04-03T15:07:27.715Z"
      },
      {
        "duration": 0,
        "start_time": "2023-04-03T15:07:27.716Z"
      },
      {
        "duration": 0,
        "start_time": "2023-04-03T15:07:27.718Z"
      },
      {
        "duration": 0,
        "start_time": "2023-04-03T15:07:27.722Z"
      },
      {
        "duration": 0,
        "start_time": "2023-04-03T15:07:27.724Z"
      },
      {
        "duration": 0,
        "start_time": "2023-04-03T15:07:27.725Z"
      },
      {
        "duration": 0,
        "start_time": "2023-04-03T15:07:27.727Z"
      },
      {
        "duration": 190,
        "start_time": "2023-04-03T15:09:54.305Z"
      },
      {
        "duration": 1646,
        "start_time": "2023-04-03T15:11:46.494Z"
      },
      {
        "duration": 1594,
        "start_time": "2023-04-03T15:11:48.143Z"
      },
      {
        "duration": 21,
        "start_time": "2023-04-03T15:11:49.739Z"
      },
      {
        "duration": 38,
        "start_time": "2023-04-03T15:11:49.762Z"
      },
      {
        "duration": 45,
        "start_time": "2023-04-03T15:11:49.802Z"
      },
      {
        "duration": 62,
        "start_time": "2023-04-03T15:11:49.848Z"
      },
      {
        "duration": 19,
        "start_time": "2023-04-03T15:11:49.915Z"
      },
      {
        "duration": 21,
        "start_time": "2023-04-03T15:11:49.936Z"
      },
      {
        "duration": 5,
        "start_time": "2023-04-03T15:11:49.959Z"
      },
      {
        "duration": 6,
        "start_time": "2023-04-03T15:11:49.965Z"
      },
      {
        "duration": 40,
        "start_time": "2023-04-03T15:11:49.986Z"
      },
      {
        "duration": 36,
        "start_time": "2023-04-03T15:11:50.028Z"
      },
      {
        "duration": 73,
        "start_time": "2023-04-03T15:11:50.066Z"
      },
      {
        "duration": 10,
        "start_time": "2023-04-03T15:11:50.142Z"
      },
      {
        "duration": 57,
        "start_time": "2023-04-03T15:11:50.153Z"
      },
      {
        "duration": 32,
        "start_time": "2023-04-03T15:11:50.211Z"
      },
      {
        "duration": 264,
        "start_time": "2023-04-03T15:11:50.245Z"
      },
      {
        "duration": 3,
        "start_time": "2023-04-03T15:11:50.510Z"
      },
      {
        "duration": 28,
        "start_time": "2023-04-03T15:11:50.518Z"
      },
      {
        "duration": 22,
        "start_time": "2023-04-03T15:11:50.547Z"
      },
      {
        "duration": 55,
        "start_time": "2023-04-03T15:11:50.570Z"
      },
      {
        "duration": 21,
        "start_time": "2023-04-03T15:11:50.626Z"
      },
      {
        "duration": 60,
        "start_time": "2023-04-03T15:11:50.648Z"
      },
      {
        "duration": 354,
        "start_time": "2023-04-03T15:11:50.709Z"
      },
      {
        "duration": 21,
        "start_time": "2023-04-03T15:11:51.065Z"
      },
      {
        "duration": 65,
        "start_time": "2023-04-03T15:11:51.098Z"
      },
      {
        "duration": 45,
        "start_time": "2023-04-03T15:11:51.165Z"
      },
      {
        "duration": 31,
        "start_time": "2023-04-03T15:11:51.212Z"
      },
      {
        "duration": 3736,
        "start_time": "2023-04-03T15:11:51.244Z"
      },
      {
        "duration": 2,
        "start_time": "2023-04-03T15:11:54.982Z"
      },
      {
        "duration": 260,
        "start_time": "2023-04-03T15:11:54.985Z"
      },
      {
        "duration": 5,
        "start_time": "2023-04-03T15:11:55.247Z"
      },
      {
        "duration": 493,
        "start_time": "2023-04-03T15:11:55.254Z"
      },
      {
        "duration": 3,
        "start_time": "2023-04-03T15:11:55.749Z"
      },
      {
        "duration": 16,
        "start_time": "2023-04-03T15:11:55.753Z"
      },
      {
        "duration": 29,
        "start_time": "2023-04-03T15:11:55.771Z"
      },
      {
        "duration": 11,
        "start_time": "2023-04-03T15:11:55.802Z"
      },
      {
        "duration": 6,
        "start_time": "2023-04-03T15:11:55.814Z"
      },
      {
        "duration": 11,
        "start_time": "2023-04-03T15:11:55.822Z"
      },
      {
        "duration": 4,
        "start_time": "2023-04-03T15:11:55.834Z"
      },
      {
        "duration": 9,
        "start_time": "2023-04-03T15:11:55.841Z"
      },
      {
        "duration": 13,
        "start_time": "2023-04-03T15:11:55.851Z"
      },
      {
        "duration": 137,
        "start_time": "2023-04-03T15:11:55.866Z"
      },
      {
        "duration": 0,
        "start_time": "2023-04-03T15:11:56.004Z"
      },
      {
        "duration": 0,
        "start_time": "2023-04-03T15:11:56.006Z"
      },
      {
        "duration": 0,
        "start_time": "2023-04-03T15:11:56.007Z"
      },
      {
        "duration": 0,
        "start_time": "2023-04-03T15:11:56.007Z"
      },
      {
        "duration": 0,
        "start_time": "2023-04-03T15:11:56.008Z"
      },
      {
        "duration": 0,
        "start_time": "2023-04-03T15:11:56.009Z"
      },
      {
        "duration": 4,
        "start_time": "2023-04-03T15:13:19.019Z"
      },
      {
        "duration": 5,
        "start_time": "2023-04-03T15:14:07.906Z"
      },
      {
        "duration": 1514,
        "start_time": "2023-04-03T15:15:17.634Z"
      },
      {
        "duration": 1992,
        "start_time": "2023-04-03T15:15:19.151Z"
      },
      {
        "duration": 20,
        "start_time": "2023-04-03T15:15:21.144Z"
      },
      {
        "duration": 55,
        "start_time": "2023-04-03T15:15:21.173Z"
      },
      {
        "duration": 23,
        "start_time": "2023-04-03T15:15:21.229Z"
      },
      {
        "duration": 111,
        "start_time": "2023-04-03T15:15:21.253Z"
      },
      {
        "duration": 44,
        "start_time": "2023-04-03T15:15:21.365Z"
      },
      {
        "duration": 17,
        "start_time": "2023-04-03T15:15:21.410Z"
      },
      {
        "duration": 13,
        "start_time": "2023-04-03T15:15:21.428Z"
      },
      {
        "duration": 42,
        "start_time": "2023-04-03T15:15:21.443Z"
      },
      {
        "duration": 29,
        "start_time": "2023-04-03T15:15:21.497Z"
      },
      {
        "duration": 7,
        "start_time": "2023-04-03T15:15:21.527Z"
      },
      {
        "duration": 8,
        "start_time": "2023-04-03T15:15:21.535Z"
      },
      {
        "duration": 11,
        "start_time": "2023-04-03T15:15:21.544Z"
      },
      {
        "duration": 43,
        "start_time": "2023-04-03T15:15:21.556Z"
      },
      {
        "duration": 32,
        "start_time": "2023-04-03T15:15:21.606Z"
      },
      {
        "duration": 274,
        "start_time": "2023-04-03T15:15:21.639Z"
      },
      {
        "duration": 2,
        "start_time": "2023-04-03T15:15:21.914Z"
      },
      {
        "duration": 8,
        "start_time": "2023-04-03T15:15:21.917Z"
      },
      {
        "duration": 11,
        "start_time": "2023-04-03T15:15:21.927Z"
      },
      {
        "duration": 5,
        "start_time": "2023-04-03T15:15:21.940Z"
      },
      {
        "duration": 11,
        "start_time": "2023-04-03T15:15:21.947Z"
      },
      {
        "duration": 9,
        "start_time": "2023-04-03T15:15:21.959Z"
      },
      {
        "duration": 381,
        "start_time": "2023-04-03T15:15:21.970Z"
      },
      {
        "duration": 5,
        "start_time": "2023-04-03T15:15:22.353Z"
      },
      {
        "duration": 66,
        "start_time": "2023-04-03T15:15:22.359Z"
      },
      {
        "duration": 13,
        "start_time": "2023-04-03T15:15:22.427Z"
      },
      {
        "duration": 12,
        "start_time": "2023-04-03T15:15:22.443Z"
      },
      {
        "duration": 3856,
        "start_time": "2023-04-03T15:15:22.457Z"
      },
      {
        "duration": 2,
        "start_time": "2023-04-03T15:15:26.315Z"
      },
      {
        "duration": 316,
        "start_time": "2023-04-03T15:15:26.318Z"
      },
      {
        "duration": 5,
        "start_time": "2023-04-03T15:15:26.636Z"
      },
      {
        "duration": 555,
        "start_time": "2023-04-03T15:15:26.642Z"
      },
      {
        "duration": 15,
        "start_time": "2023-04-03T15:15:27.199Z"
      },
      {
        "duration": 18,
        "start_time": "2023-04-03T15:15:27.218Z"
      },
      {
        "duration": 20,
        "start_time": "2023-04-03T15:15:27.237Z"
      },
      {
        "duration": 11,
        "start_time": "2023-04-03T15:15:27.258Z"
      },
      {
        "duration": 73,
        "start_time": "2023-04-03T15:15:27.271Z"
      },
      {
        "duration": 16,
        "start_time": "2023-04-03T15:15:27.345Z"
      },
      {
        "duration": 76,
        "start_time": "2023-04-03T15:15:27.363Z"
      },
      {
        "duration": 12,
        "start_time": "2023-04-03T15:15:27.441Z"
      },
      {
        "duration": 6,
        "start_time": "2023-04-03T15:15:27.454Z"
      },
      {
        "duration": 62,
        "start_time": "2023-04-03T15:15:27.461Z"
      },
      {
        "duration": 19,
        "start_time": "2023-04-03T15:15:27.524Z"
      },
      {
        "duration": 83,
        "start_time": "2023-04-03T15:15:27.544Z"
      },
      {
        "duration": 6,
        "start_time": "2023-04-03T15:15:27.628Z"
      },
      {
        "duration": 177,
        "start_time": "2023-04-03T15:15:27.636Z"
      },
      {
        "duration": 0,
        "start_time": "2023-04-03T15:15:27.815Z"
      },
      {
        "duration": 0,
        "start_time": "2023-04-03T15:15:27.816Z"
      },
      {
        "duration": 0,
        "start_time": "2023-04-03T15:15:27.816Z"
      },
      {
        "duration": 0,
        "start_time": "2023-04-03T15:15:27.818Z"
      },
      {
        "duration": 0,
        "start_time": "2023-04-03T15:15:27.818Z"
      },
      {
        "duration": 0,
        "start_time": "2023-04-03T15:15:27.819Z"
      },
      {
        "duration": 12,
        "start_time": "2023-04-03T15:22:08.401Z"
      },
      {
        "duration": 6,
        "start_time": "2023-04-03T15:22:21.499Z"
      },
      {
        "duration": 1430,
        "start_time": "2023-04-03T15:46:50.408Z"
      },
      {
        "duration": 1870,
        "start_time": "2023-04-03T15:46:51.840Z"
      },
      {
        "duration": 20,
        "start_time": "2023-04-03T15:46:53.718Z"
      },
      {
        "duration": 66,
        "start_time": "2023-04-03T15:46:53.740Z"
      },
      {
        "duration": 20,
        "start_time": "2023-04-03T15:46:53.809Z"
      },
      {
        "duration": 95,
        "start_time": "2023-04-03T15:46:53.830Z"
      },
      {
        "duration": 91,
        "start_time": "2023-04-03T15:46:53.928Z"
      },
      {
        "duration": 64,
        "start_time": "2023-04-03T15:46:54.021Z"
      },
      {
        "duration": 24,
        "start_time": "2023-04-03T15:46:54.087Z"
      },
      {
        "duration": 6,
        "start_time": "2023-04-03T15:46:54.114Z"
      },
      {
        "duration": 10,
        "start_time": "2023-04-03T15:46:54.122Z"
      },
      {
        "duration": 51,
        "start_time": "2023-04-03T15:46:54.134Z"
      },
      {
        "duration": 54,
        "start_time": "2023-04-03T15:46:54.186Z"
      },
      {
        "duration": 8,
        "start_time": "2023-04-03T15:46:54.242Z"
      },
      {
        "duration": 30,
        "start_time": "2023-04-03T15:46:54.251Z"
      },
      {
        "duration": 44,
        "start_time": "2023-04-03T15:46:54.283Z"
      },
      {
        "duration": 588,
        "start_time": "2023-04-03T15:46:54.329Z"
      },
      {
        "duration": 3,
        "start_time": "2023-04-03T15:46:54.919Z"
      },
      {
        "duration": 6,
        "start_time": "2023-04-03T15:46:54.975Z"
      },
      {
        "duration": 46,
        "start_time": "2023-04-03T15:46:54.983Z"
      },
      {
        "duration": 6,
        "start_time": "2023-04-03T15:46:55.031Z"
      },
      {
        "duration": 62,
        "start_time": "2023-04-03T15:46:55.039Z"
      },
      {
        "duration": 25,
        "start_time": "2023-04-03T15:46:55.103Z"
      },
      {
        "duration": 528,
        "start_time": "2023-04-03T15:46:55.129Z"
      },
      {
        "duration": 5,
        "start_time": "2023-04-03T15:46:55.658Z"
      },
      {
        "duration": 32,
        "start_time": "2023-04-03T15:46:55.665Z"
      },
      {
        "duration": 35,
        "start_time": "2023-04-03T15:46:55.702Z"
      },
      {
        "duration": 45,
        "start_time": "2023-04-03T15:46:55.738Z"
      },
      {
        "duration": 3885,
        "start_time": "2023-04-03T15:46:55.784Z"
      },
      {
        "duration": 16,
        "start_time": "2023-04-03T15:46:59.673Z"
      },
      {
        "duration": 317,
        "start_time": "2023-04-03T15:46:59.702Z"
      },
      {
        "duration": 5,
        "start_time": "2023-04-03T15:47:00.021Z"
      },
      {
        "duration": 575,
        "start_time": "2023-04-03T15:47:00.027Z"
      },
      {
        "duration": 4,
        "start_time": "2023-04-03T15:47:00.603Z"
      },
      {
        "duration": 49,
        "start_time": "2023-04-03T15:47:00.610Z"
      },
      {
        "duration": 64,
        "start_time": "2023-04-03T15:47:00.660Z"
      },
      {
        "duration": 27,
        "start_time": "2023-04-03T15:47:00.726Z"
      },
      {
        "duration": 134,
        "start_time": "2023-04-03T15:47:00.755Z"
      },
      {
        "duration": 0,
        "start_time": "2023-04-03T15:47:00.890Z"
      },
      {
        "duration": 0,
        "start_time": "2023-04-03T15:47:00.899Z"
      },
      {
        "duration": 0,
        "start_time": "2023-04-03T15:47:00.900Z"
      },
      {
        "duration": 0,
        "start_time": "2023-04-03T15:47:00.901Z"
      },
      {
        "duration": 0,
        "start_time": "2023-04-03T15:47:00.902Z"
      },
      {
        "duration": 1,
        "start_time": "2023-04-03T15:47:00.903Z"
      },
      {
        "duration": 0,
        "start_time": "2023-04-03T15:47:00.905Z"
      },
      {
        "duration": 0,
        "start_time": "2023-04-03T15:47:00.906Z"
      },
      {
        "duration": 0,
        "start_time": "2023-04-03T15:47:00.907Z"
      },
      {
        "duration": 0,
        "start_time": "2023-04-03T15:47:00.908Z"
      },
      {
        "duration": 0,
        "start_time": "2023-04-03T15:47:00.909Z"
      },
      {
        "duration": 0,
        "start_time": "2023-04-03T15:47:00.910Z"
      },
      {
        "duration": 0,
        "start_time": "2023-04-03T15:47:00.911Z"
      },
      {
        "duration": 0,
        "start_time": "2023-04-03T15:47:00.912Z"
      },
      {
        "duration": 0,
        "start_time": "2023-04-03T15:47:00.913Z"
      },
      {
        "duration": 6,
        "start_time": "2023-04-03T15:47:06.349Z"
      },
      {
        "duration": 49,
        "start_time": "2023-04-03T15:47:15.554Z"
      },
      {
        "duration": 6,
        "start_time": "2023-04-03T15:48:07.497Z"
      },
      {
        "duration": 18,
        "start_time": "2023-04-03T15:48:12.210Z"
      },
      {
        "duration": 35,
        "start_time": "2023-04-03T15:48:17.811Z"
      },
      {
        "duration": 5,
        "start_time": "2023-04-03T15:50:11.586Z"
      },
      {
        "duration": 2017,
        "start_time": "2023-04-03T15:51:11.920Z"
      },
      {
        "duration": 2197,
        "start_time": "2023-04-03T15:51:13.942Z"
      },
      {
        "duration": 54,
        "start_time": "2023-04-03T15:51:16.154Z"
      },
      {
        "duration": 51,
        "start_time": "2023-04-03T15:51:16.216Z"
      },
      {
        "duration": 77,
        "start_time": "2023-04-03T15:51:16.270Z"
      },
      {
        "duration": 76,
        "start_time": "2023-04-03T15:51:16.348Z"
      },
      {
        "duration": 60,
        "start_time": "2023-04-03T15:51:16.426Z"
      },
      {
        "duration": 61,
        "start_time": "2023-04-03T15:51:16.488Z"
      },
      {
        "duration": 18,
        "start_time": "2023-04-03T15:51:16.551Z"
      },
      {
        "duration": 62,
        "start_time": "2023-04-03T15:51:16.573Z"
      },
      {
        "duration": 24,
        "start_time": "2023-04-03T15:51:16.638Z"
      },
      {
        "duration": 87,
        "start_time": "2023-04-03T15:51:16.664Z"
      },
      {
        "duration": 67,
        "start_time": "2023-04-03T15:51:16.754Z"
      },
      {
        "duration": 39,
        "start_time": "2023-04-03T15:51:16.823Z"
      },
      {
        "duration": 63,
        "start_time": "2023-04-03T15:51:16.864Z"
      },
      {
        "duration": 120,
        "start_time": "2023-04-03T15:51:16.929Z"
      },
      {
        "duration": 124,
        "start_time": "2023-04-03T15:51:17.053Z"
      },
      {
        "duration": 378,
        "start_time": "2023-04-03T15:51:17.181Z"
      },
      {
        "duration": 3,
        "start_time": "2023-04-03T15:51:17.562Z"
      },
      {
        "duration": 63,
        "start_time": "2023-04-03T15:51:17.582Z"
      },
      {
        "duration": 16,
        "start_time": "2023-04-03T15:51:17.650Z"
      },
      {
        "duration": 47,
        "start_time": "2023-04-03T15:51:17.668Z"
      },
      {
        "duration": 32,
        "start_time": "2023-04-03T15:51:17.720Z"
      },
      {
        "duration": 64,
        "start_time": "2023-04-03T15:51:17.757Z"
      },
      {
        "duration": 568,
        "start_time": "2023-04-03T15:51:17.829Z"
      },
      {
        "duration": 10,
        "start_time": "2023-04-03T15:51:18.403Z"
      },
      {
        "duration": 61,
        "start_time": "2023-04-03T15:51:18.418Z"
      },
      {
        "duration": 136,
        "start_time": "2023-04-03T15:51:18.489Z"
      },
      {
        "duration": 130,
        "start_time": "2023-04-03T15:51:18.630Z"
      },
      {
        "duration": 5053,
        "start_time": "2023-04-03T15:51:18.762Z"
      },
      {
        "duration": 8,
        "start_time": "2023-04-03T15:51:23.821Z"
      },
      {
        "duration": 382,
        "start_time": "2023-04-03T15:51:23.835Z"
      },
      {
        "duration": 6,
        "start_time": "2023-04-03T15:51:24.221Z"
      },
      {
        "duration": 685,
        "start_time": "2023-04-03T15:51:24.232Z"
      },
      {
        "duration": 10,
        "start_time": "2023-04-03T15:51:24.922Z"
      },
      {
        "duration": 2,
        "start_time": "2023-04-03T15:51:24.942Z"
      },
      {
        "duration": 21,
        "start_time": "2023-04-03T15:51:24.946Z"
      },
      {
        "duration": 60,
        "start_time": "2023-04-03T15:51:24.968Z"
      },
      {
        "duration": 10,
        "start_time": "2023-04-03T15:51:25.030Z"
      },
      {
        "duration": 158,
        "start_time": "2023-04-03T15:51:25.042Z"
      },
      {
        "duration": 0,
        "start_time": "2023-04-03T15:51:25.206Z"
      },
      {
        "duration": 0,
        "start_time": "2023-04-03T15:51:25.209Z"
      },
      {
        "duration": 0,
        "start_time": "2023-04-03T15:51:25.213Z"
      },
      {
        "duration": 0,
        "start_time": "2023-04-03T15:51:25.217Z"
      },
      {
        "duration": 0,
        "start_time": "2023-04-03T15:51:25.220Z"
      },
      {
        "duration": 0,
        "start_time": "2023-04-03T15:51:25.224Z"
      },
      {
        "duration": 0,
        "start_time": "2023-04-03T15:51:25.228Z"
      },
      {
        "duration": 0,
        "start_time": "2023-04-03T15:51:25.229Z"
      },
      {
        "duration": 0,
        "start_time": "2023-04-03T15:51:25.231Z"
      },
      {
        "duration": 0,
        "start_time": "2023-04-03T15:51:25.232Z"
      },
      {
        "duration": 0,
        "start_time": "2023-04-03T15:51:25.234Z"
      },
      {
        "duration": 0,
        "start_time": "2023-04-03T15:51:25.235Z"
      },
      {
        "duration": 28,
        "start_time": "2023-04-03T15:51:35.785Z"
      },
      {
        "duration": 16,
        "start_time": "2023-04-03T15:51:39.092Z"
      },
      {
        "duration": 5,
        "start_time": "2023-04-03T15:51:40.145Z"
      },
      {
        "duration": 1347,
        "start_time": "2023-04-03T15:56:06.197Z"
      },
      {
        "duration": 1807,
        "start_time": "2023-04-03T15:56:07.546Z"
      },
      {
        "duration": 38,
        "start_time": "2023-04-03T15:56:09.355Z"
      },
      {
        "duration": 16,
        "start_time": "2023-04-03T15:56:09.395Z"
      },
      {
        "duration": 32,
        "start_time": "2023-04-03T15:56:09.412Z"
      },
      {
        "duration": 47,
        "start_time": "2023-04-03T15:56:09.445Z"
      },
      {
        "duration": 17,
        "start_time": "2023-04-03T15:56:09.493Z"
      },
      {
        "duration": 17,
        "start_time": "2023-04-03T15:56:09.512Z"
      },
      {
        "duration": 4,
        "start_time": "2023-04-03T15:56:09.531Z"
      },
      {
        "duration": 23,
        "start_time": "2023-04-03T15:56:09.538Z"
      },
      {
        "duration": 13,
        "start_time": "2023-04-03T15:56:09.577Z"
      },
      {
        "duration": 14,
        "start_time": "2023-04-03T15:56:09.592Z"
      },
      {
        "duration": 8,
        "start_time": "2023-04-03T15:56:09.607Z"
      },
      {
        "duration": 10,
        "start_time": "2023-04-03T15:56:09.616Z"
      },
      {
        "duration": 6,
        "start_time": "2023-04-03T15:56:09.627Z"
      },
      {
        "duration": 13,
        "start_time": "2023-04-03T15:56:09.636Z"
      },
      {
        "duration": 238,
        "start_time": "2023-04-03T15:56:09.651Z"
      },
      {
        "duration": 4,
        "start_time": "2023-04-03T15:56:09.891Z"
      },
      {
        "duration": 6,
        "start_time": "2023-04-03T15:56:09.897Z"
      },
      {
        "duration": 12,
        "start_time": "2023-04-03T15:56:09.905Z"
      },
      {
        "duration": 5,
        "start_time": "2023-04-03T15:56:09.919Z"
      },
      {
        "duration": 10,
        "start_time": "2023-04-03T15:56:09.926Z"
      },
      {
        "duration": 8,
        "start_time": "2023-04-03T15:56:09.938Z"
      },
      {
        "duration": 363,
        "start_time": "2023-04-03T15:56:09.948Z"
      },
      {
        "duration": 8,
        "start_time": "2023-04-03T15:56:10.312Z"
      },
      {
        "duration": 6,
        "start_time": "2023-04-03T15:56:10.321Z"
      },
      {
        "duration": 12,
        "start_time": "2023-04-03T15:56:10.328Z"
      },
      {
        "duration": 42,
        "start_time": "2023-04-03T15:56:10.343Z"
      },
      {
        "duration": 3777,
        "start_time": "2023-04-03T15:56:10.386Z"
      },
      {
        "duration": 13,
        "start_time": "2023-04-03T15:56:14.165Z"
      },
      {
        "duration": 256,
        "start_time": "2023-04-03T15:56:14.179Z"
      },
      {
        "duration": 7,
        "start_time": "2023-04-03T15:56:14.437Z"
      },
      {
        "duration": 552,
        "start_time": "2023-04-03T15:56:14.445Z"
      },
      {
        "duration": 3,
        "start_time": "2023-04-03T15:56:14.999Z"
      },
      {
        "duration": 25,
        "start_time": "2023-04-03T15:56:15.004Z"
      },
      {
        "duration": 20,
        "start_time": "2023-04-03T15:56:15.031Z"
      },
      {
        "duration": 13,
        "start_time": "2023-04-03T15:56:15.053Z"
      },
      {
        "duration": 59,
        "start_time": "2023-04-03T15:56:15.068Z"
      },
      {
        "duration": 24,
        "start_time": "2023-04-03T15:56:15.128Z"
      },
      {
        "duration": 8,
        "start_time": "2023-04-03T15:56:15.154Z"
      },
      {
        "duration": 40,
        "start_time": "2023-04-03T15:56:15.163Z"
      },
      {
        "duration": 13,
        "start_time": "2023-04-03T15:56:15.204Z"
      },
      {
        "duration": 119,
        "start_time": "2023-04-03T15:56:15.218Z"
      },
      {
        "duration": 0,
        "start_time": "2023-04-03T15:56:15.338Z"
      },
      {
        "duration": 0,
        "start_time": "2023-04-03T15:56:15.340Z"
      },
      {
        "duration": 0,
        "start_time": "2023-04-03T15:56:15.341Z"
      },
      {
        "duration": 0,
        "start_time": "2023-04-03T15:56:15.342Z"
      },
      {
        "duration": 0,
        "start_time": "2023-04-03T15:56:15.346Z"
      },
      {
        "duration": 0,
        "start_time": "2023-04-03T15:56:15.347Z"
      },
      {
        "duration": 0,
        "start_time": "2023-04-03T15:56:15.348Z"
      },
      {
        "duration": 0,
        "start_time": "2023-04-03T15:56:15.350Z"
      },
      {
        "duration": 4,
        "start_time": "2023-04-03T15:56:31.821Z"
      },
      {
        "duration": 4,
        "start_time": "2023-04-03T15:56:48.341Z"
      },
      {
        "duration": 1442,
        "start_time": "2023-04-03T15:57:12.696Z"
      },
      {
        "duration": 1803,
        "start_time": "2023-04-03T15:57:14.140Z"
      },
      {
        "duration": 30,
        "start_time": "2023-04-03T15:57:15.945Z"
      },
      {
        "duration": 75,
        "start_time": "2023-04-03T15:57:15.981Z"
      },
      {
        "duration": 41,
        "start_time": "2023-04-03T15:57:16.059Z"
      },
      {
        "duration": 50,
        "start_time": "2023-04-03T15:57:16.102Z"
      },
      {
        "duration": 40,
        "start_time": "2023-04-03T15:57:16.154Z"
      },
      {
        "duration": 27,
        "start_time": "2023-04-03T15:57:16.196Z"
      },
      {
        "duration": 3,
        "start_time": "2023-04-03T15:57:16.225Z"
      },
      {
        "duration": 12,
        "start_time": "2023-04-03T15:57:16.231Z"
      },
      {
        "duration": 5,
        "start_time": "2023-04-03T15:57:16.246Z"
      },
      {
        "duration": 16,
        "start_time": "2023-04-03T15:57:16.252Z"
      },
      {
        "duration": 53,
        "start_time": "2023-04-03T15:57:16.271Z"
      },
      {
        "duration": 11,
        "start_time": "2023-04-03T15:57:16.330Z"
      },
      {
        "duration": 7,
        "start_time": "2023-04-03T15:57:16.343Z"
      },
      {
        "duration": 16,
        "start_time": "2023-04-03T15:57:16.354Z"
      },
      {
        "duration": 277,
        "start_time": "2023-04-03T15:57:16.378Z"
      },
      {
        "duration": 3,
        "start_time": "2023-04-03T15:57:16.657Z"
      },
      {
        "duration": 38,
        "start_time": "2023-04-03T15:57:16.662Z"
      },
      {
        "duration": 13,
        "start_time": "2023-04-03T15:57:16.702Z"
      },
      {
        "duration": 6,
        "start_time": "2023-04-03T15:57:16.717Z"
      },
      {
        "duration": 27,
        "start_time": "2023-04-03T15:57:16.724Z"
      },
      {
        "duration": 18,
        "start_time": "2023-04-03T15:57:16.752Z"
      },
      {
        "duration": 388,
        "start_time": "2023-04-03T15:57:16.772Z"
      },
      {
        "duration": 28,
        "start_time": "2023-04-03T15:57:17.161Z"
      },
      {
        "duration": 26,
        "start_time": "2023-04-03T15:57:17.192Z"
      },
      {
        "duration": 18,
        "start_time": "2023-04-03T15:57:17.220Z"
      },
      {
        "duration": 60,
        "start_time": "2023-04-03T15:57:17.239Z"
      },
      {
        "duration": 4189,
        "start_time": "2023-04-03T15:57:17.301Z"
      },
      {
        "duration": 4,
        "start_time": "2023-04-03T15:57:21.492Z"
      },
      {
        "duration": 299,
        "start_time": "2023-04-03T15:57:21.497Z"
      },
      {
        "duration": 6,
        "start_time": "2023-04-03T15:57:21.797Z"
      },
      {
        "duration": 558,
        "start_time": "2023-04-03T15:57:21.805Z"
      },
      {
        "duration": 3,
        "start_time": "2023-04-03T15:57:22.365Z"
      },
      {
        "duration": 39,
        "start_time": "2023-04-03T15:57:22.374Z"
      },
      {
        "duration": 28,
        "start_time": "2023-04-03T15:57:22.415Z"
      },
      {
        "duration": 16,
        "start_time": "2023-04-03T15:57:22.445Z"
      },
      {
        "duration": 36,
        "start_time": "2023-04-03T15:57:22.463Z"
      },
      {
        "duration": 24,
        "start_time": "2023-04-03T15:57:22.501Z"
      },
      {
        "duration": 6,
        "start_time": "2023-04-03T15:57:22.527Z"
      },
      {
        "duration": 15,
        "start_time": "2023-04-03T15:57:22.537Z"
      },
      {
        "duration": 44,
        "start_time": "2023-04-03T15:57:22.553Z"
      },
      {
        "duration": 22,
        "start_time": "2023-04-03T15:57:22.599Z"
      },
      {
        "duration": 13,
        "start_time": "2023-04-03T15:57:22.623Z"
      },
      {
        "duration": 51,
        "start_time": "2023-04-03T15:57:22.639Z"
      },
      {
        "duration": 613617,
        "start_time": "2023-04-03T15:57:22.692Z"
      },
      {
        "duration": 29224,
        "start_time": "2023-04-03T16:07:36.311Z"
      },
      {
        "duration": 1482462,
        "start_time": "2023-04-03T16:08:05.537Z"
      },
      {
        "duration": 142,
        "start_time": "2023-04-03T16:32:48.072Z"
      },
      {
        "duration": 44,
        "start_time": "2023-04-03T16:32:48.216Z"
      },
      {
        "duration": 187,
        "start_time": "2023-04-03T16:38:43.313Z"
      },
      {
        "duration": 85,
        "start_time": "2023-04-03T16:38:53.206Z"
      },
      {
        "duration": 56,
        "start_time": "2023-04-03T16:46:44.417Z"
      },
      {
        "duration": 240,
        "start_time": "2023-04-03T16:47:14.696Z"
      },
      {
        "duration": 71,
        "start_time": "2023-04-03T17:05:17.457Z"
      },
      {
        "duration": 164,
        "start_time": "2023-04-03T17:05:24.852Z"
      }
    ],
    "kernelspec": {
      "display_name": "Python 3 (ipykernel)",
      "language": "python",
      "name": "python3"
    },
    "language_info": {
      "codemirror_mode": {
        "name": "ipython",
        "version": 3
      },
      "file_extension": ".py",
      "mimetype": "text/x-python",
      "name": "python",
      "nbconvert_exporter": "python",
      "pygments_lexer": "ipython3",
      "version": "3.9.5"
    },
    "toc": {
      "base_numbering": 1,
      "nav_menu": {},
      "number_sections": true,
      "sideBar": true,
      "skip_h1_title": true,
      "title_cell": "Содержание",
      "title_sidebar": "Contents",
      "toc_cell": true,
      "toc_position": {
        "height": "calc(100% - 180px)",
        "left": "10px",
        "top": "150px",
        "width": "165px"
      },
      "toc_section_display": true,
      "toc_window_display": true
    },
    "colab": {
      "provenance": []
    }
  },
  "nbformat": 4,
  "nbformat_minor": 0
}